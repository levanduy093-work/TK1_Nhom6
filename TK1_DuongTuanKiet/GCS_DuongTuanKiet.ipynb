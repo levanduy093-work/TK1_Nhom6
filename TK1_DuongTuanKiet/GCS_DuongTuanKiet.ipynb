{
 "cells": [
  {
   "cell_type": "code",
   "execution_count": 1,
   "metadata": {},
   "outputs": [
    {
     "name": "stdout",
     "output_type": "stream",
     "text": [
      "Requirement already satisfied: google-cloud-storage in c:\\users\\dell\\appdata\\local\\programs\\python\\python312\\lib\\site-packages (2.16.0)\n",
      "Requirement already satisfied: google-auth<3.0dev,>=2.26.1 in c:\\users\\dell\\appdata\\local\\programs\\python\\python312\\lib\\site-packages (from google-cloud-storage) (2.28.2)\n",
      "Requirement already satisfied: google-api-core<3.0.0dev,>=2.15.0 in c:\\users\\dell\\appdata\\local\\programs\\python\\python312\\lib\\site-packages (from google-cloud-storage) (2.17.1)\n",
      "Requirement already satisfied: google-cloud-core<3.0dev,>=2.3.0 in c:\\users\\dell\\appdata\\local\\programs\\python\\python312\\lib\\site-packages (from google-cloud-storage) (2.4.1)\n",
      "Requirement already satisfied: google-resumable-media>=2.6.0 in c:\\users\\dell\\appdata\\local\\programs\\python\\python312\\lib\\site-packages (from google-cloud-storage) (2.7.0)\n",
      "Requirement already satisfied: requests<3.0.0dev,>=2.18.0 in c:\\users\\dell\\appdata\\local\\programs\\python\\python312\\lib\\site-packages (from google-cloud-storage) (2.31.0)\n",
      "Requirement already satisfied: google-crc32c<2.0dev,>=1.0 in c:\\users\\dell\\appdata\\local\\programs\\python\\python312\\lib\\site-packages (from google-cloud-storage) (1.5.0)\n",
      "Requirement already satisfied: googleapis-common-protos<2.0.dev0,>=1.56.2 in c:\\users\\dell\\appdata\\local\\programs\\python\\python312\\lib\\site-packages (from google-api-core<3.0.0dev,>=2.15.0->google-cloud-storage) (1.63.0)\n",
      "Requirement already satisfied: protobuf!=3.20.0,!=3.20.1,!=4.21.0,!=4.21.1,!=4.21.2,!=4.21.3,!=4.21.4,!=4.21.5,<5.0.0.dev0,>=3.19.5 in c:\\users\\dell\\appdata\\local\\programs\\python\\python312\\lib\\site-packages (from google-api-core<3.0.0dev,>=2.15.0->google-cloud-storage) (4.25.3)\n",
      "Requirement already satisfied: cachetools<6.0,>=2.0.0 in c:\\users\\dell\\appdata\\local\\programs\\python\\python312\\lib\\site-packages (from google-auth<3.0dev,>=2.26.1->google-cloud-storage) (5.3.3)\n",
      "Requirement already satisfied: pyasn1-modules>=0.2.1 in c:\\users\\dell\\appdata\\local\\programs\\python\\python312\\lib\\site-packages (from google-auth<3.0dev,>=2.26.1->google-cloud-storage) (0.3.0)\n",
      "Requirement already satisfied: rsa<5,>=3.1.4 in c:\\users\\dell\\appdata\\local\\programs\\python\\python312\\lib\\site-packages (from google-auth<3.0dev,>=2.26.1->google-cloud-storage) (4.9)\n",
      "Requirement already satisfied: charset-normalizer<4,>=2 in c:\\users\\dell\\appdata\\local\\programs\\python\\python312\\lib\\site-packages (from requests<3.0.0dev,>=2.18.0->google-cloud-storage) (3.3.2)\n",
      "Requirement already satisfied: idna<4,>=2.5 in c:\\users\\dell\\appdata\\local\\programs\\python\\python312\\lib\\site-packages (from requests<3.0.0dev,>=2.18.0->google-cloud-storage) (3.6)\n",
      "Requirement already satisfied: urllib3<3,>=1.21.1 in c:\\users\\dell\\appdata\\local\\programs\\python\\python312\\lib\\site-packages (from requests<3.0.0dev,>=2.18.0->google-cloud-storage) (2.2.1)\n",
      "Requirement already satisfied: certifi>=2017.4.17 in c:\\users\\dell\\appdata\\local\\programs\\python\\python312\\lib\\site-packages (from requests<3.0.0dev,>=2.18.0->google-cloud-storage) (2024.2.2)\n",
      "Requirement already satisfied: pyasn1<0.6.0,>=0.4.6 in c:\\users\\dell\\appdata\\local\\programs\\python\\python312\\lib\\site-packages (from pyasn1-modules>=0.2.1->google-auth<3.0dev,>=2.26.1->google-cloud-storage) (0.5.1)\n"
     ]
    }
   ],
   "source": [
    "!pip install --upgrade google-cloud-storage"
   ]
  },
  {
   "cell_type": "code",
   "execution_count": 2,
   "metadata": {},
   "outputs": [
    {
     "name": "stdout",
     "output_type": "stream",
     "text": [
      "Requirement already satisfied: google-cloud-storage in c:\\users\\dell\\appdata\\local\\programs\\python\\python312\\lib\\site-packages (2.16.0)\n",
      "Requirement already satisfied: google-auth<3.0dev,>=2.26.1 in c:\\users\\dell\\appdata\\local\\programs\\python\\python312\\lib\\site-packages (from google-cloud-storage) (2.28.2)\n",
      "Requirement already satisfied: google-api-core<3.0.0dev,>=2.15.0 in c:\\users\\dell\\appdata\\local\\programs\\python\\python312\\lib\\site-packages (from google-cloud-storage) (2.17.1)\n",
      "Requirement already satisfied: google-cloud-core<3.0dev,>=2.3.0 in c:\\users\\dell\\appdata\\local\\programs\\python\\python312\\lib\\site-packages (from google-cloud-storage) (2.4.1)\n",
      "Requirement already satisfied: google-resumable-media>=2.6.0 in c:\\users\\dell\\appdata\\local\\programs\\python\\python312\\lib\\site-packages (from google-cloud-storage) (2.7.0)\n",
      "Requirement already satisfied: requests<3.0.0dev,>=2.18.0 in c:\\users\\dell\\appdata\\local\\programs\\python\\python312\\lib\\site-packages (from google-cloud-storage) (2.31.0)\n",
      "Requirement already satisfied: google-crc32c<2.0dev,>=1.0 in c:\\users\\dell\\appdata\\local\\programs\\python\\python312\\lib\\site-packages (from google-cloud-storage) (1.5.0)\n",
      "Requirement already satisfied: googleapis-common-protos<2.0.dev0,>=1.56.2 in c:\\users\\dell\\appdata\\local\\programs\\python\\python312\\lib\\site-packages (from google-api-core<3.0.0dev,>=2.15.0->google-cloud-storage) (1.63.0)\n",
      "Requirement already satisfied: protobuf!=3.20.0,!=3.20.1,!=4.21.0,!=4.21.1,!=4.21.2,!=4.21.3,!=4.21.4,!=4.21.5,<5.0.0.dev0,>=3.19.5 in c:\\users\\dell\\appdata\\local\\programs\\python\\python312\\lib\\site-packages (from google-api-core<3.0.0dev,>=2.15.0->google-cloud-storage) (4.25.3)\n",
      "Requirement already satisfied: cachetools<6.0,>=2.0.0 in c:\\users\\dell\\appdata\\local\\programs\\python\\python312\\lib\\site-packages (from google-auth<3.0dev,>=2.26.1->google-cloud-storage) (5.3.3)\n",
      "Requirement already satisfied: pyasn1-modules>=0.2.1 in c:\\users\\dell\\appdata\\local\\programs\\python\\python312\\lib\\site-packages (from google-auth<3.0dev,>=2.26.1->google-cloud-storage) (0.3.0)\n",
      "Requirement already satisfied: rsa<5,>=3.1.4 in c:\\users\\dell\\appdata\\local\\programs\\python\\python312\\lib\\site-packages (from google-auth<3.0dev,>=2.26.1->google-cloud-storage) (4.9)\n",
      "Requirement already satisfied: charset-normalizer<4,>=2 in c:\\users\\dell\\appdata\\local\\programs\\python\\python312\\lib\\site-packages (from requests<3.0.0dev,>=2.18.0->google-cloud-storage) (3.3.2)\n",
      "Requirement already satisfied: idna<4,>=2.5 in c:\\users\\dell\\appdata\\local\\programs\\python\\python312\\lib\\site-packages (from requests<3.0.0dev,>=2.18.0->google-cloud-storage) (3.6)\n",
      "Requirement already satisfied: urllib3<3,>=1.21.1 in c:\\users\\dell\\appdata\\local\\programs\\python\\python312\\lib\\site-packages (from requests<3.0.0dev,>=2.18.0->google-cloud-storage) (2.2.1)\n",
      "Requirement already satisfied: certifi>=2017.4.17 in c:\\users\\dell\\appdata\\local\\programs\\python\\python312\\lib\\site-packages (from requests<3.0.0dev,>=2.18.0->google-cloud-storage) (2024.2.2)\n",
      "Requirement already satisfied: pyasn1<0.6.0,>=0.4.6 in c:\\users\\dell\\appdata\\local\\programs\\python\\python312\\lib\\site-packages (from pyasn1-modules>=0.2.1->google-auth<3.0dev,>=2.26.1->google-cloud-storage) (0.5.1)\n"
     ]
    }
   ],
   "source": [
    "!pip install google-cloud-storage"
   ]
  },
  {
   "cell_type": "code",
   "execution_count": 3,
   "metadata": {},
   "outputs": [
    {
     "name": "stderr",
     "output_type": "stream",
     "text": [
      "Your browser has been opened to visit:\n",
      "\n",
      "    https://accounts.google.com/o/oauth2/auth?response_type=code&client_id=764086051850-6qr4p6gpi6hn506pt8ejuq83di341hur.apps.googleusercontent.com&redirect_uri=http%3A%2F%2Flocalhost%3A8085%2F&scope=openid+https%3A%2F%2Fwww.googleapis.com%2Fauth%2Fuserinfo.email+https%3A%2F%2Fwww.googleapis.com%2Fauth%2Fcloud-platform+https%3A%2F%2Fwww.googleapis.com%2Fauth%2Fsqlservice.login&state=pgYxJKRgKHCS9PucNDp8wrjwHGC8Kl&access_type=offline&code_challenge=Yau79CqrZVCQMtDqIK4c4OkP3AgRYJFQ5irLp-QftpA&code_challenge_method=S256\n",
      "\n",
      "\n",
      "Credentials saved to file: [C:\\Users\\DELL\\AppData\\Roaming\\gcloud\\application_default_credentials.json]\n",
      "\n",
      "These credentials will be used by any library that requests Application Default Credentials (ADC).\n",
      "\n",
      "Quota project \"demo1-415802\" was added to ADC which can be used by Google client libraries for billing and quota. Note that some services may still bill the project owning the resource.\n"
     ]
    }
   ],
   "source": [
    "!gcloud auth application-default login"
   ]
  },
  {
   "cell_type": "code",
   "execution_count": 4,
   "metadata": {},
   "outputs": [
    {
     "name": "stderr",
     "output_type": "stream",
     "text": [
      "Your browser has been opened to visit:\n",
      "\n",
      "    https://accounts.google.com/o/oauth2/auth?response_type=code&client_id=32555940559.apps.googleusercontent.com&redirect_uri=http%3A%2F%2Flocalhost%3A8085%2F&scope=openid+https%3A%2F%2Fwww.googleapis.com%2Fauth%2Fuserinfo.email+https%3A%2F%2Fwww.googleapis.com%2Fauth%2Fcloud-platform+https%3A%2F%2Fwww.googleapis.com%2Fauth%2Fappengine.admin+https%3A%2F%2Fwww.googleapis.com%2Fauth%2Fsqlservice.login+https%3A%2F%2Fwww.googleapis.com%2Fauth%2Fcompute+https%3A%2F%2Fwww.googleapis.com%2Fauth%2Faccounts.reauth&state=BGyeNcPSvpjMxW1Te2UXDVpvkMRsMw&access_type=offline&code_challenge=b5Qk2ecPKGS5T42TFdUwJqN-uNqn-ORn0emAiGSkDAI&code_challenge_method=S256\n",
      "\n",
      "\n",
      "You are now logged in as [duongtuankietpqbt@gmail.com].\n",
      "Your current project is [demo1-415802].  You can change this setting by running:\n",
      "  $ gcloud config set project PROJECT_ID\n"
     ]
    }
   ],
   "source": [
    "!gcloud auth login"
   ]
  },
  {
   "cell_type": "code",
   "execution_count": 5,
   "metadata": {},
   "outputs": [
    {
     "name": "stderr",
     "output_type": "stream",
     "text": [
      "Updated property [compute/region].\n"
     ]
    }
   ],
   "source": [
    "!gcloud config set compute/region asia-east1"
   ]
  },
  {
   "cell_type": "code",
   "execution_count": 6,
   "metadata": {},
   "outputs": [
    {
     "name": "stdout",
     "output_type": "stream",
     "text": [
      "       Credentialed Accounts\n",
      "ACTIVE  ACCOUNT\n",
      "*       duongtuankietpqbt@gmail.com\n",
      "        hltamnhu2003@gmail.com\n"
     ]
    },
    {
     "name": "stderr",
     "output_type": "stream",
     "text": [
      "\n",
      "To set the active account, run:\n",
      "    $ gcloud config set account `ACCOUNT`\n",
      "\n"
     ]
    },
    {
     "name": "stdout",
     "output_type": "stream",
     "text": [
      "PROJECT_ID                  NAME                        PROJECT_NUMBER\n",
      "demo1-415802                demo1                       599098817847\n",
      "iuh-20001545                iuh-20001545                926865801050\n",
      "iuh-20001545-duongtuankiet  iuh-20001545-DuongTuanKiet  614975996081\n",
      "kietiuh-6a07e               kietiuh                     92323778130\n",
      "outstanding-pen-416215      My First Project            410613175050\n",
      "prismatic-vim-292114        My First Project            63249964586\n",
      "steel-watch-417007          My First Project            1024088196667\n",
      "sustained-vial-415802       My First Project            826060004818\n",
      "t-emissary-416109           My First Project            422608521071\n",
      "tbliuh20001545              tbliuh20001545              113131803855\n",
      "tk01-trantuananh-417814     TK01-TranTuanAnh            1050096294664\n",
      "tk1-duongtuankiet           tk1-duongtuankiet           43252145828\n"
     ]
    }
   ],
   "source": [
    "!gcloud auth list\n",
    "!gcloud projects list --sort-by=projectId"
   ]
  },
  {
   "cell_type": "code",
   "execution_count": 7,
   "metadata": {},
   "outputs": [
    {
     "name": "stderr",
     "output_type": "stream",
     "text": [
      "WARNING: Your active project does not match the quota project in your local Application Default Credentials file. This might result in unexpected quota issues.\n",
      "\n",
      "To update your Application Default Credentials quota project, use the `gcloud auth application-default set-quota-project` command.\n",
      "Updated property [core/project].\n"
     ]
    }
   ],
   "source": [
    "!gcloud config set project tk1-duongtuankiet  "
   ]
  },
  {
   "cell_type": "code",
   "execution_count": 8,
   "metadata": {},
   "outputs": [],
   "source": [
    "from google.cloud import storage\n",
    "PROJECT_ID = \"tk1-duongtuankiet\"\n",
    "storage_client = storage.Client(project = PROJECT_ID)"
   ]
  },
  {
   "cell_type": "code",
   "execution_count": 11,
   "metadata": {},
   "outputs": [],
   "source": [
    "#Tao bucket\n",
    "BUCKET_NAME = \"dang_drawl\"\n",
    "bucket = storage_client.create_bucket(BUCKET_NAME)"
   ]
  },
  {
   "cell_type": "code",
   "execution_count": 12,
   "metadata": {},
   "outputs": [
    {
     "data": {
      "text/plain": [
       "<Bucket: dang_drawl>"
      ]
     },
     "execution_count": 12,
     "metadata": {},
     "output_type": "execute_result"
    }
   ],
   "source": [
    "bucket"
   ]
  },
  {
   "cell_type": "code",
   "execution_count": 7,
   "metadata": {},
   "outputs": [
    {
     "data": {
      "text/plain": [
       "<Bucket: demo02_processing>"
      ]
     },
     "execution_count": 7,
     "metadata": {},
     "output_type": "execute_result"
    }
   ],
   "source": [
    "\n",
    "#Lay bucket\n",
    "BUCKET_NAME = \"demo02_processing\"\n",
    "bucket = storage_client.get_bucket(BUCKET_NAME)\n",
    "bucket"
   ]
  },
  {
   "cell_type": "code",
   "execution_count": 13,
   "metadata": {},
   "outputs": [],
   "source": [
    "import datetime\n",
    "day = datetime.datetime.now().strftime(\"%d\")\n",
    "month = datetime.datetime.now().strftime(\"%%m\")\n",
    "year = datetime.datetime.now().strftime(\"%Y\")\n",
    "GCS_BLOB_NAME = \"{year}/{month}/{date}/data1.json\".format(year=year,month=month, date=day)\n",
    "blob = bucket.blob(GCS_BLOB_NAME)\n",
    "blob.upload_from_filename(\"data1.json\")"
   ]
  },
  {
   "cell_type": "code",
   "execution_count": null,
   "metadata": {},
   "outputs": [],
   "source": [
    "# check if the blob exists\n"
   ]
  },
  {
   "cell_type": "code",
   "execution_count": 9,
   "metadata": {},
   "outputs": [
    {
     "name": "stdout",
     "output_type": "stream",
     "text": [
      "<Blob: demo02_processing, rawl-data/event/2023/08/12/c6bfa982-3933-11ee-800c-56934cb9d3ad.json, 1710235000552324>\n",
      "<Blob: demo02_processing, rawl-data/event/2023/08/12/c8aaf800-3933-11ee-800c-56934cb9d3ad.json, 1710235001631290>\n"
     ]
    }
   ],
   "source": [
    "# list cac file trong bucket voi duong dan\n",
    "PREFIX  = \"rawl-data/event/2023/08/12\"\n",
    "for blob in bucket.list_blobs(prefix = PREFIX):\n",
    "    print(blob)"
   ]
  },
  {
   "cell_type": "code",
   "execution_count": 10,
   "metadata": {},
   "outputs": [
    {
     "name": "stdout",
     "output_type": "stream",
     "text": [
      "<Blob: demo02_processing, rawl-data/event/2023/08/12/c6bfa982-3933-11ee-800c-56934cb9d3ad.json, 1710235000552324>\n",
      "<Blob: demo02_processing, rawl-data/event/2023/08/12/c8aaf800-3933-11ee-800c-56934cb9d3ad.json, 1710235001631290>\n"
     ]
    }
   ],
   "source": [
    "#Cau lenh tuong tu\n",
    "for blob in storage_client.list_blobs(BUCKET_NAME, prefix = PREFIX):\n",
    "    print(blob)"
   ]
  },
  {
   "cell_type": "code",
   "execution_count": null,
   "metadata": {},
   "outputs": [],
   "source": [
    "#Upload file len blob\n",
    "blob.upload_from_filename(\"./test_upload.json\")"
   ]
  },
  {
   "cell_type": "code",
   "execution_count": 14,
   "metadata": {},
   "outputs": [
    {
     "data": {
      "text/plain": [
       "<Blob: demo02_processing, rawl-data/event/2023/08/12/c6bfa982-3933-11ee-800c-56934cb9d3ad.json, None>"
      ]
     },
     "execution_count": 14,
     "metadata": {},
     "output_type": "execute_result"
    }
   ],
   "source": [
    "# Lay blob / tao blob\n",
    "GCS_BLOB_NAME  = \"rawl-data/event/2023/08/12/c6bfa982-3933-11ee-800c-56934cb9d3ad.json\"\n",
    "blob = bucket.blob(GCS_BLOB_NAME)\n",
    "blob"
   ]
  },
  {
   "cell_type": "code",
   "execution_count": 14,
   "metadata": {},
   "outputs": [
    {
     "data": {
      "text/plain": [
       "True"
      ]
     },
     "execution_count": 14,
     "metadata": {},
     "output_type": "execute_result"
    }
   ],
   "source": [
    "# Kiem tra co ton tai hay khong?\n",
    "is_existed = blob.exists(storage_client)\n",
    "is_existed"
   ]
  },
  {
   "cell_type": "code",
   "execution_count": 15,
   "metadata": {},
   "outputs": [],
   "source": [
    "# Download file ve may\n",
    "# Doi ten duong dan tuy y\n",
    "LOCAL_FILE_PATH = \"./download.json\"\n",
    "blob.download_to_filename(LOCAL_FILE_PATH)"
   ]
  },
  {
   "cell_type": "code",
   "execution_count": 16,
   "metadata": {},
   "outputs": [
    {
     "name": "stdout",
     "output_type": "stream",
     "text": [
      "Requirement already satisfied: pyarrow in c:\\users\\dell\\appdata\\local\\programs\\python\\python312\\lib\\site-packages (15.0.2)\n",
      "Requirement already satisfied: numpy<2,>=1.16.6 in c:\\users\\dell\\appdata\\local\\programs\\python\\python312\\lib\\site-packages (from pyarrow) (1.26.4)\n",
      "Requirement already satisfied: pandas in c:\\users\\dell\\appdata\\local\\programs\\python\\python312\\lib\\site-packages (2.2.1)\n",
      "Requirement already satisfied: numpy<2,>=1.26.0 in c:\\users\\dell\\appdata\\local\\programs\\python\\python312\\lib\\site-packages (from pandas) (1.26.4)\n",
      "Requirement already satisfied: python-dateutil>=2.8.2 in c:\\users\\dell\\appdata\\roaming\\python\\python312\\site-packages (from pandas) (2.9.0.post0)\n",
      "Requirement already satisfied: pytz>=2020.1 in c:\\users\\dell\\appdata\\local\\programs\\python\\python312\\lib\\site-packages (from pandas) (2024.1)\n",
      "Requirement already satisfied: tzdata>=2022.7 in c:\\users\\dell\\appdata\\local\\programs\\python\\python312\\lib\\site-packages (from pandas) (2024.1)\n",
      "Requirement already satisfied: six>=1.5 in c:\\users\\dell\\appdata\\roaming\\python\\python312\\site-packages (from python-dateutil>=2.8.2->pandas) (1.16.0)\n"
     ]
    }
   ],
   "source": [
    "# Install pyarrow\n",
    "!pip install pyarrow\n",
    "!pip install pandas"
   ]
  },
  {
   "cell_type": "code",
   "execution_count": 17,
   "metadata": {},
   "outputs": [
    {
     "data": {
      "text/plain": [
       "<Bucket: dang_drawl>"
      ]
     },
     "execution_count": 17,
     "metadata": {},
     "output_type": "execute_result"
    }
   ],
   "source": [
    "bucket"
   ]
  },
  {
   "cell_type": "code",
   "execution_count": 18,
   "metadata": {},
   "outputs": [
    {
     "data": {
      "text/html": [
       "<div>\n",
       "<style scoped>\n",
       "    .dataframe tbody tr th:only-of-type {\n",
       "        vertical-align: middle;\n",
       "    }\n",
       "\n",
       "    .dataframe tbody tr th {\n",
       "        vertical-align: top;\n",
       "    }\n",
       "\n",
       "    .dataframe thead th {\n",
       "        text-align: right;\n",
       "    }\n",
       "</style>\n",
       "<table border=\"1\" class=\"dataframe\">\n",
       "  <thead>\n",
       "    <tr style=\"text-align: right;\">\n",
       "      <th></th>\n",
       "      <th>Link</th>\n",
       "      <th>Lawname</th>\n",
       "      <th>Title</th>\n",
       "      <th>Answer</th>\n",
       "    </tr>\n",
       "  </thead>\n",
       "  <tbody>\n",
       "    <tr>\n",
       "      <th>0</th>\n",
       "      <td>https://dangcongsan.vn/lanh-dao-dang-nha-nuoc/...</td>\n",
       "      <td>dang</td>\n",
       "      <td>Thủ tướng tiếp Phó Chủ tịch Hạ viện, Chủ tịch ...</td>\n",
       "      <td>Thủ tướng Phạm Minh Chính tiếp Phó Chủ tịch Hạ...</td>\n",
       "    </tr>\n",
       "    <tr>\n",
       "      <th>1</th>\n",
       "      <td>https://dangcongsan.vn/lanh-dao-dang-nha-nuoc/...</td>\n",
       "      <td>dang</td>\n",
       "      <td>Việt Nam và Australia nâng cấp quan hệ lên Đối...</td>\n",
       "      <td>Lễ đón Thủ tướng Phạm Minh Chính thăm chính th...</td>\n",
       "    </tr>\n",
       "    <tr>\n",
       "      <th>2</th>\n",
       "      <td>https://dangcongsan.vn/lanh-dao-dang-nha-nuoc/...</td>\n",
       "      <td>dang</td>\n",
       "      <td>Thủ tướng gặp gỡ cán bộ, nhân viên Đại sứ quán...</td>\n",
       "      <td>Thủ tướng Phạm Minh Chính và Phu nhân Lê Thị B...</td>\n",
       "    </tr>\n",
       "    <tr>\n",
       "      <th>3</th>\n",
       "      <td>https://dangcongsan.vn/thoi-su/thuc-day-hop-ta...</td>\n",
       "      <td>dang</td>\n",
       "      <td>Thúc đẩy hợp tác khoa học - công nghệ giữa CSI...</td>\n",
       "      <td>Thủ tướng Phạm Minh Chính đến thăm và làm việc...</td>\n",
       "    </tr>\n",
       "    <tr>\n",
       "      <th>4</th>\n",
       "      <td>https://dangcongsan.vn/thoi-su/tuyen-bo-chung-...</td>\n",
       "      <td>dang</td>\n",
       "      <td>Tuyên bố chung về việc nâng cấp quan hệ lên Đố...</td>\n",
       "      <td>Thủ tướng Phạm Minh Chính và Thủ tướng Austral...</td>\n",
       "    </tr>\n",
       "  </tbody>\n",
       "</table>\n",
       "</div>"
      ],
      "text/plain": [
       "                                                Link Lawname  \\\n",
       "0  https://dangcongsan.vn/lanh-dao-dang-nha-nuoc/...    dang   \n",
       "1  https://dangcongsan.vn/lanh-dao-dang-nha-nuoc/...    dang   \n",
       "2  https://dangcongsan.vn/lanh-dao-dang-nha-nuoc/...    dang   \n",
       "3  https://dangcongsan.vn/thoi-su/thuc-day-hop-ta...    dang   \n",
       "4  https://dangcongsan.vn/thoi-su/tuyen-bo-chung-...    dang   \n",
       "\n",
       "                                               Title  \\\n",
       "0  Thủ tướng tiếp Phó Chủ tịch Hạ viện, Chủ tịch ...   \n",
       "1  Việt Nam và Australia nâng cấp quan hệ lên Đối...   \n",
       "2  Thủ tướng gặp gỡ cán bộ, nhân viên Đại sứ quán...   \n",
       "3  Thúc đẩy hợp tác khoa học - công nghệ giữa CSI...   \n",
       "4  Tuyên bố chung về việc nâng cấp quan hệ lên Đố...   \n",
       "\n",
       "                                              Answer  \n",
       "0  Thủ tướng Phạm Minh Chính tiếp Phó Chủ tịch Hạ...  \n",
       "1  Lễ đón Thủ tướng Phạm Minh Chính thăm chính th...  \n",
       "2  Thủ tướng Phạm Minh Chính và Phu nhân Lê Thị B...  \n",
       "3  Thủ tướng Phạm Minh Chính đến thăm và làm việc...  \n",
       "4  Thủ tướng Phạm Minh Chính và Thủ tướng Austral...  "
      ]
     },
     "execution_count": 18,
     "metadata": {},
     "output_type": "execute_result"
    }
   ],
   "source": [
    "# Read the file\n",
    "import pandas as pd\n",
    "df = pd.read_json(LOCAL_FILE_PATH)\n",
    "df.head()"
   ]
  },
  {
   "cell_type": "code",
   "execution_count": 19,
   "metadata": {},
   "outputs": [],
   "source": [
    "# Convert DataFrame to Table\n",
    "import pyarrow as pa\n",
    "table = pa.Table.from_pandas(df)"
   ]
  },
  {
   "cell_type": "code",
   "execution_count": 20,
   "metadata": {},
   "outputs": [],
   "source": [
    "# Write the table to a Parquet file\n",
    "import pyarrow.parquet as pq\n",
    "pq.write_table(table, 'DuongTuanKiet_First.parquet', compression = 'snappy')"
   ]
  },
  {
   "cell_type": "code",
   "execution_count": 32,
   "metadata": {},
   "outputs": [
    {
     "name": "stdout",
     "output_type": "stream",
     "text": [
      "Collecting du\n",
      "  Downloading du-0.0.1.dev0-py2.py3-none-any.whl.metadata (927 bytes)\n",
      "Downloading du-0.0.1.dev0-py2.py3-none-any.whl (106 kB)\n",
      "   ---------------------------------------- 0.0/106.7 kB ? eta -:--:--\n",
      "   --- ------------------------------------ 10.2/106.7 kB ? eta -:--:--\n",
      "   ----------- --------------------------- 30.7/106.7 kB 435.7 kB/s eta 0:00:01\n",
      "   -------------------------------------- 106.7/106.7 kB 876.5 kB/s eta 0:00:00\n",
      "Installing collected packages: du\n",
      "Successfully installed du-0.0.1.dev0\n"
     ]
    }
   ],
   "source": [
    "!pip install du"
   ]
  },
  {
   "cell_type": "code",
   "execution_count": 21,
   "metadata": {},
   "outputs": [
    {
     "name": "stderr",
     "output_type": "stream",
     "text": [
      "'du' is not recognized as an internal or external command,\n",
      "operable program or batch file.\n"
     ]
    }
   ],
   "source": [
    "# Check size folder\n",
    "import os\n",
    "!du -h download.json DuongTuanKiet_First.parquet"
   ]
  },
  {
   "cell_type": "code",
   "execution_count": 22,
   "metadata": {},
   "outputs": [],
   "source": [
    "# Upload the Parquet file to GCS\n",
    "GCS_BLOB_NAME = \"{year}/{month}/{date}/DuongTuanKiet_First.parquet\".format(year=year, month=month, date=day)\n",
    "blob = bucket.blob(GCS_BLOB_NAME)\n",
    "blob.upload_from_filename(\"DuongTuanKiet_First.parquet\")"
   ]
  },
  {
   "cell_type": "code",
   "execution_count": 23,
   "metadata": {},
   "outputs": [],
   "source": [
    "# Download file vao bo nho\n",
    "data = blob.download_as_bytes()"
   ]
  },
  {
   "cell_type": "code",
   "execution_count": null,
   "metadata": {},
   "outputs": [],
   "source": [
    "# data\n",
    "# Truong hop data la file json\n",
    "for line in data.decode('utf-8').split(\"/n\"):\n",
    "    print(line)\n",
    "    break"
   ]
  },
  {
   "cell_type": "code",
   "execution_count": 25,
   "metadata": {},
   "outputs": [],
   "source": [
    "# Upload file len blob\n",
    "blob.upload_from_filename(\"./downloaded.json\")"
   ]
  }
 ],
 "metadata": {
  "kernelspec": {
   "display_name": "Python 3",
   "language": "python",
   "name": "python3"
  },
  "language_info": {
   "codemirror_mode": {
    "name": "ipython",
    "version": 3
   },
   "file_extension": ".py",
   "mimetype": "text/x-python",
   "name": "python",
   "nbconvert_exporter": "python",
   "pygments_lexer": "ipython3",
   "version": "3.12.2"
  }
 },
 "nbformat": 4,
 "nbformat_minor": 2
}

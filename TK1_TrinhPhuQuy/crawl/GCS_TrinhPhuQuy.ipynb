{
 "cells": [
  {
   "cell_type": "code",
   "execution_count": 1,
   "metadata": {},
   "outputs": [
    {
     "name": "stdout",
     "output_type": "stream",
     "text": [
      "Requirement already satisfied: google-cloud-storage in c:\\users\\trinh quy\\appdata\\local\\programs\\python\\python312\\lib\\site-packages (2.16.0)\n",
      "Requirement already satisfied: google-auth<3.0dev,>=2.26.1 in c:\\users\\trinh quy\\appdata\\local\\programs\\python\\python312\\lib\\site-packages (from google-cloud-storage) (2.29.0)\n",
      "Requirement already satisfied: google-api-core<3.0.0dev,>=2.15.0 in c:\\users\\trinh quy\\appdata\\local\\programs\\python\\python312\\lib\\site-packages (from google-cloud-storage) (2.17.1)\n",
      "Requirement already satisfied: google-cloud-core<3.0dev,>=2.3.0 in c:\\users\\trinh quy\\appdata\\local\\programs\\python\\python312\\lib\\site-packages (from google-cloud-storage) (2.4.1)\n",
      "Requirement already satisfied: google-resumable-media>=2.6.0 in c:\\users\\trinh quy\\appdata\\local\\programs\\python\\python312\\lib\\site-packages (from google-cloud-storage) (2.7.0)\n",
      "Requirement already satisfied: requests<3.0.0dev,>=2.18.0 in c:\\users\\trinh quy\\appdata\\local\\programs\\python\\python312\\lib\\site-packages (from google-cloud-storage) (2.31.0)\n",
      "Requirement already satisfied: google-crc32c<2.0dev,>=1.0 in c:\\users\\trinh quy\\appdata\\local\\programs\\python\\python312\\lib\\site-packages (from google-cloud-storage) (1.5.0)\n",
      "Requirement already satisfied: googleapis-common-protos<2.0.dev0,>=1.56.2 in c:\\users\\trinh quy\\appdata\\local\\programs\\python\\python312\\lib\\site-packages (from google-api-core<3.0.0dev,>=2.15.0->google-cloud-storage) (1.63.0)\n",
      "Requirement already satisfied: protobuf!=3.20.0,!=3.20.1,!=4.21.0,!=4.21.1,!=4.21.2,!=4.21.3,!=4.21.4,!=4.21.5,<5.0.0.dev0,>=3.19.5 in c:\\users\\trinh quy\\appdata\\local\\programs\\python\\python312\\lib\\site-packages (from google-api-core<3.0.0dev,>=2.15.0->google-cloud-storage) (4.25.3)\n",
      "Requirement already satisfied: cachetools<6.0,>=2.0.0 in c:\\users\\trinh quy\\appdata\\local\\programs\\python\\python312\\lib\\site-packages (from google-auth<3.0dev,>=2.26.1->google-cloud-storage) (5.3.3)\n",
      "Requirement already satisfied: pyasn1-modules>=0.2.1 in c:\\users\\trinh quy\\appdata\\local\\programs\\python\\python312\\lib\\site-packages (from google-auth<3.0dev,>=2.26.1->google-cloud-storage) (0.3.0)\n",
      "Requirement already satisfied: rsa<5,>=3.1.4 in c:\\users\\trinh quy\\appdata\\local\\programs\\python\\python312\\lib\\site-packages (from google-auth<3.0dev,>=2.26.1->google-cloud-storage) (4.9)\n",
      "Requirement already satisfied: charset-normalizer<4,>=2 in c:\\users\\trinh quy\\appdata\\local\\programs\\python\\python312\\lib\\site-packages (from requests<3.0.0dev,>=2.18.0->google-cloud-storage) (3.3.2)\n",
      "Requirement already satisfied: idna<4,>=2.5 in c:\\users\\trinh quy\\appdata\\local\\programs\\python\\python312\\lib\\site-packages (from requests<3.0.0dev,>=2.18.0->google-cloud-storage) (3.6)\n",
      "Requirement already satisfied: urllib3<3,>=1.21.1 in c:\\users\\trinh quy\\appdata\\local\\programs\\python\\python312\\lib\\site-packages (from requests<3.0.0dev,>=2.18.0->google-cloud-storage) (2.2.1)\n",
      "Requirement already satisfied: certifi>=2017.4.17 in c:\\users\\trinh quy\\appdata\\local\\programs\\python\\python312\\lib\\site-packages (from requests<3.0.0dev,>=2.18.0->google-cloud-storage) (2024.2.2)\n",
      "Requirement already satisfied: pyasn1<0.6.0,>=0.4.6 in c:\\users\\trinh quy\\appdata\\local\\programs\\python\\python312\\lib\\site-packages (from pyasn1-modules>=0.2.1->google-auth<3.0dev,>=2.26.1->google-cloud-storage) (0.5.1)\n"
     ]
    }
   ],
   "source": [
    "!pip install --upgrade google-cloud-storage"
   ]
  },
  {
   "cell_type": "code",
   "execution_count": 1,
   "metadata": {},
   "outputs": [
    {
     "name": "stderr",
     "output_type": "stream",
     "text": [
      "Your browser has been opened to visit:\n",
      "\n",
      "    https://accounts.google.com/o/oauth2/auth?response_type=code&client_id=764086051850-6qr4p6gpi6hn506pt8ejuq83di341hur.apps.googleusercontent.com&redirect_uri=http%3A%2F%2Flocalhost%3A8085%2F&scope=openid+https%3A%2F%2Fwww.googleapis.com%2Fauth%2Fuserinfo.email+https%3A%2F%2Fwww.googleapis.com%2Fauth%2Fcloud-platform+https%3A%2F%2Fwww.googleapis.com%2Fauth%2Fsqlservice.login&state=VoXOu5aLmNZ5R9h0AO1gMQ8aqldWId&access_type=offline&code_challenge=q12FV89djA6wvwSc10Y4byqz_L9C6URMjNGxCA6CvO4&code_challenge_method=S256\n",
      "\n",
      "\n",
      "Credentials saved to file: [C:\\Users\\Trinh Quy\\AppData\\Roaming\\gcloud\\application_default_credentials.json]\n",
      "\n",
      "These credentials will be used by any library that requests Application Default Credentials (ADC).\n",
      "\n",
      "Quota project \"tk01trinhphuquy\" was added to ADC which can be used by Google client libraries for billing and quota. Note that some services may still bill the project owning the resource.\n"
     ]
    }
   ],
   "source": [
    "!gcloud auth application-default login\n"
   ]
  },
  {
   "cell_type": "code",
   "execution_count": 2,
   "metadata": {},
   "outputs": [
    {
     "name": "stderr",
     "output_type": "stream",
     "text": [
      "Your browser has been opened to visit:\n",
      "\n",
      "    https://accounts.google.com/o/oauth2/auth?response_type=code&client_id=32555940559.apps.googleusercontent.com&redirect_uri=http%3A%2F%2Flocalhost%3A8085%2F&scope=openid+https%3A%2F%2Fwww.googleapis.com%2Fauth%2Fuserinfo.email+https%3A%2F%2Fwww.googleapis.com%2Fauth%2Fcloud-platform+https%3A%2F%2Fwww.googleapis.com%2Fauth%2Fappengine.admin+https%3A%2F%2Fwww.googleapis.com%2Fauth%2Fsqlservice.login+https%3A%2F%2Fwww.googleapis.com%2Fauth%2Fcompute+https%3A%2F%2Fwww.googleapis.com%2Fauth%2Faccounts.reauth&state=0St4jGRHhqgHQ1wSULVXs83U2Kl9SL&access_type=offline&code_challenge=xyWwuT0lCtm1GO5siYlz7-4AClaEcznwZfiuXyT4vOY&code_challenge_method=S256\n",
      "\n",
      "\n",
      "You are now logged in as [hongnhung171002@gmail.com].\n",
      "Your current project is [tk01trinhphuquy].  You can change this setting by running:\n",
      "  $ gcloud config set project PROJECT_ID\n"
     ]
    }
   ],
   "source": [
    "!gcloud auth login\n"
   ]
  },
  {
   "cell_type": "code",
   "execution_count": 3,
   "metadata": {},
   "outputs": [
    {
     "name": "stdout",
     "output_type": "stream",
     "text": [
      "^C\n"
     ]
    }
   ],
   "source": [
    "!gcloud auth application-default set-quota-project tk01trinhphuquy"
   ]
  },
  {
   "cell_type": "code",
   "execution_count": 2,
   "metadata": {},
   "outputs": [],
   "source": [
    "from google.cloud import storage\n",
    "PROJECT_ID = \"tk01trinhphuquy\"\n",
    "storage_client = storage.Client(project= PROJECT_ID)"
   ]
  },
  {
   "cell_type": "code",
   "execution_count": 3,
   "metadata": {},
   "outputs": [
    {
     "data": {
      "text/plain": [
       "<Bucket: tk01-trinhphuquy>"
      ]
     },
     "execution_count": 3,
     "metadata": {},
     "output_type": "execute_result"
    }
   ],
   "source": [
    "BUCKET_NAME = \"tk01-trinhphuquy\"\n",
    "bucket = storage_client.get_bucket(BUCKET_NAME)\n",
    "bucket"
   ]
  },
  {
   "cell_type": "code",
   "execution_count": 4,
   "metadata": {},
   "outputs": [
    {
     "data": {
      "text/plain": [
       "<Blob: tk01-trinhphuquy, trinhphuquy.json, None>"
      ]
     },
     "execution_count": 4,
     "metadata": {},
     "output_type": "execute_result"
    }
   ],
   "source": [
    "file_name = \"trinhphuquy.json\"\n",
    "blob = bucket.blob(file_name)\n",
    "blob"
   ]
  },
  {
   "cell_type": "code",
   "execution_count": 5,
   "metadata": {},
   "outputs": [],
   "source": [
    "blob.upload_from_filename(file_name)"
   ]
  },
  {
   "cell_type": "code",
   "execution_count": 15,
   "metadata": {},
   "outputs": [
    {
     "name": "stdout",
     "output_type": "stream",
     "text": [
      "Collecting pyarrow\n",
      "  Downloading pyarrow-15.0.2-cp312-cp312-win_amd64.whl.metadata (3.1 kB)\n",
      "Requirement already satisfied: numpy<2,>=1.16.6 in c:\\users\\trinh quy\\appdata\\local\\programs\\python\\python312\\lib\\site-packages (from pyarrow) (1.26.4)\n",
      "Downloading pyarrow-15.0.2-cp312-cp312-win_amd64.whl (25.3 MB)\n",
      "   ---------------------------------------- 0.0/25.3 MB ? eta -:--:--\n",
      "   ---------------------------------------- 0.0/25.3 MB ? eta -:--:--\n",
      "   ---------------------------------------- 0.0/25.3 MB ? eta -:--:--\n",
      "   ---------------------------------------- 0.0/25.3 MB 220.2 kB/s eta 0:01:55\n",
      "   ---------------------------------------- 0.0/25.3 MB 281.8 kB/s eta 0:01:30\n",
      "   ---------------------------------------- 0.1/25.3 MB 479.1 kB/s eta 0:00:53\n",
      "   ---------------------------------------- 0.2/25.3 MB 986.4 kB/s eta 0:00:26\n",
      "    --------------------------------------- 0.3/25.3 MB 1.3 MB/s eta 0:00:20\n",
      "    --------------------------------------- 0.5/25.3 MB 1.6 MB/s eta 0:00:16\n",
      "    --------------------------------------- 0.5/25.3 MB 1.7 MB/s eta 0:00:15\n",
      "    --------------------------------------- 0.5/25.3 MB 1.7 MB/s eta 0:00:15\n",
      "    --------------------------------------- 0.6/25.3 MB 1.3 MB/s eta 0:00:19\n",
      "    --------------------------------------- 0.6/25.3 MB 1.3 MB/s eta 0:00:19\n",
      "    --------------------------------------- 0.6/25.3 MB 1.3 MB/s eta 0:00:19\n",
      "    --------------------------------------- 0.6/25.3 MB 1.3 MB/s eta 0:00:19\n",
      "    --------------------------------------- 0.6/25.3 MB 1.3 MB/s eta 0:00:19\n",
      "    --------------------------------------- 0.6/25.3 MB 1.3 MB/s eta 0:00:19\n",
      "    --------------------------------------- 0.6/25.3 MB 1.3 MB/s eta 0:00:19\n",
      "    --------------------------------------- 0.6/25.3 MB 1.3 MB/s eta 0:00:19\n",
      "    --------------------------------------- 0.6/25.3 MB 1.3 MB/s eta 0:00:19\n",
      "    --------------------------------------- 0.6/25.3 MB 1.3 MB/s eta 0:00:19\n",
      "    --------------------------------------- 0.6/25.3 MB 1.3 MB/s eta 0:00:19\n",
      "    --------------------------------------- 0.6/25.3 MB 591.0 kB/s eta 0:00:42\n",
      "    --------------------------------------- 0.6/25.3 MB 595.2 kB/s eta 0:00:42\n",
      "   - -------------------------------------- 0.7/25.3 MB 655.4 kB/s eta 0:00:38\n",
      "   - -------------------------------------- 0.9/25.3 MB 784.9 kB/s eta 0:00:32\n",
      "   - -------------------------------------- 0.9/25.3 MB 784.9 kB/s eta 0:00:32\n",
      "   - -------------------------------------- 0.9/25.3 MB 784.9 kB/s eta 0:00:32\n",
      "   - -------------------------------------- 0.9/25.3 MB 784.9 kB/s eta 0:00:32\n",
      "   - -------------------------------------- 0.9/25.3 MB 784.9 kB/s eta 0:00:32\n",
      "   - -------------------------------------- 0.9/25.3 MB 784.9 kB/s eta 0:00:32\n",
      "   - -------------------------------------- 0.9/25.3 MB 784.9 kB/s eta 0:00:32\n",
      "   - -------------------------------------- 0.9/25.3 MB 784.9 kB/s eta 0:00:32\n",
      "   - -------------------------------------- 0.9/25.3 MB 784.9 kB/s eta 0:00:32\n",
      "   - -------------------------------------- 0.9/25.3 MB 784.9 kB/s eta 0:00:32\n",
      "   - -------------------------------------- 0.9/25.3 MB 784.9 kB/s eta 0:00:32\n",
      "   - -------------------------------------- 0.9/25.3 MB 784.9 kB/s eta 0:00:32\n",
      "   - -------------------------------------- 0.9/25.3 MB 784.9 kB/s eta 0:00:32\n",
      "   - -------------------------------------- 0.9/25.3 MB 784.9 kB/s eta 0:00:32\n",
      "   - -------------------------------------- 0.9/25.3 MB 784.9 kB/s eta 0:00:32\n",
      "   - -------------------------------------- 0.9/25.3 MB 784.9 kB/s eta 0:00:32\n",
      "   - -------------------------------------- 0.9/25.3 MB 471.4 kB/s eta 0:00:52\n",
      "   - -------------------------------------- 0.9/25.3 MB 472.8 kB/s eta 0:00:52\n",
      "   - -------------------------------------- 0.9/25.3 MB 469.7 kB/s eta 0:00:52\n",
      "   - -------------------------------------- 1.0/25.3 MB 504.2 kB/s eta 0:00:49\n",
      "   - -------------------------------------- 1.1/25.3 MB 551.2 kB/s eta 0:00:44\n",
      "   -- ------------------------------------- 1.3/25.3 MB 611.6 kB/s eta 0:00:40\n",
      "   -- ------------------------------------- 1.5/25.3 MB 665.1 kB/s eta 0:00:36\n",
      "   -- ------------------------------------- 1.6/25.3 MB 724.2 kB/s eta 0:00:33\n",
      "   -- ------------------------------------- 1.9/25.3 MB 817.0 kB/s eta 0:00:29\n",
      "   --- ------------------------------------ 2.0/25.3 MB 870.9 kB/s eta 0:00:27\n",
      "   --- ------------------------------------ 2.3/25.3 MB 944.2 kB/s eta 0:00:25\n",
      "   --- ------------------------------------ 2.5/25.3 MB 1.0 MB/s eta 0:00:23\n",
      "   ---- ----------------------------------- 2.5/25.3 MB 1.0 MB/s eta 0:00:23\n",
      "   ---- ----------------------------------- 2.8/25.3 MB 1.1 MB/s eta 0:00:21\n",
      "   ---- ----------------------------------- 2.8/25.3 MB 1.1 MB/s eta 0:00:21\n",
      "   ---- ----------------------------------- 3.1/25.3 MB 1.2 MB/s eta 0:00:19\n",
      "   ----- ---------------------------------- 3.3/25.3 MB 1.2 MB/s eta 0:00:19\n",
      "   ----- ---------------------------------- 3.6/25.3 MB 1.3 MB/s eta 0:00:17\n",
      "   ----- ---------------------------------- 3.7/25.3 MB 1.3 MB/s eta 0:00:17\n",
      "   ------ --------------------------------- 4.1/25.3 MB 1.4 MB/s eta 0:00:15\n",
      "   ------ --------------------------------- 4.2/25.3 MB 1.5 MB/s eta 0:00:15\n",
      "   ------ --------------------------------- 4.2/25.3 MB 1.5 MB/s eta 0:00:15\n",
      "   ------ --------------------------------- 4.2/25.3 MB 1.5 MB/s eta 0:00:15\n",
      "   ------ --------------------------------- 4.2/25.3 MB 1.5 MB/s eta 0:00:15\n",
      "   ------ --------------------------------- 4.2/25.3 MB 1.5 MB/s eta 0:00:15\n",
      "   ------- -------------------------------- 4.6/25.3 MB 1.5 MB/s eta 0:00:15\n",
      "   ------- -------------------------------- 4.6/25.3 MB 1.4 MB/s eta 0:00:15\n",
      "   ------- -------------------------------- 4.6/25.3 MB 1.4 MB/s eta 0:00:15\n",
      "   ------- -------------------------------- 4.9/25.3 MB 1.5 MB/s eta 0:00:14\n",
      "   ------- -------------------------------- 5.0/25.3 MB 1.5 MB/s eta 0:00:14\n",
      "   ------- -------------------------------- 5.0/25.3 MB 1.5 MB/s eta 0:00:14\n",
      "   ------- -------------------------------- 5.0/25.3 MB 1.5 MB/s eta 0:00:14\n",
      "   ------- -------------------------------- 5.0/25.3 MB 1.5 MB/s eta 0:00:14\n",
      "   ------- -------------------------------- 5.0/25.3 MB 1.5 MB/s eta 0:00:14\n",
      "   ------- -------------------------------- 5.0/25.3 MB 1.5 MB/s eta 0:00:14\n",
      "   ------- -------------------------------- 5.0/25.3 MB 1.5 MB/s eta 0:00:14\n",
      "   ------- -------------------------------- 5.0/25.3 MB 1.4 MB/s eta 0:00:15\n",
      "   -------- ------------------------------- 5.1/25.3 MB 1.4 MB/s eta 0:00:15\n",
      "   -------- ------------------------------- 5.2/25.3 MB 1.4 MB/s eta 0:00:15\n",
      "   -------- ------------------------------- 5.3/25.3 MB 1.4 MB/s eta 0:00:15\n",
      "   -------- ------------------------------- 5.5/25.3 MB 1.4 MB/s eta 0:00:14\n",
      "   --------- ------------------------------ 5.7/25.3 MB 1.4 MB/s eta 0:00:14\n",
      "   --------- ------------------------------ 5.9/25.3 MB 1.5 MB/s eta 0:00:14\n",
      "   --------- ------------------------------ 6.0/25.3 MB 1.5 MB/s eta 0:00:14\n",
      "   --------- ------------------------------ 6.2/25.3 MB 1.5 MB/s eta 0:00:13\n",
      "   --------- ------------------------------ 6.3/25.3 MB 1.5 MB/s eta 0:00:13\n",
      "   ---------- ----------------------------- 6.5/25.3 MB 1.5 MB/s eta 0:00:13\n",
      "   ---------- ----------------------------- 6.6/25.3 MB 1.6 MB/s eta 0:00:13\n",
      "   ---------- ----------------------------- 6.7/25.3 MB 1.6 MB/s eta 0:00:12\n",
      "   ---------- ----------------------------- 6.8/25.3 MB 1.6 MB/s eta 0:00:12\n",
      "   ----------- ---------------------------- 7.0/25.3 MB 1.6 MB/s eta 0:00:12\n",
      "   ----------- ---------------------------- 7.1/25.3 MB 1.6 MB/s eta 0:00:12\n",
      "   ----------- ---------------------------- 7.2/25.3 MB 1.6 MB/s eta 0:00:12\n",
      "   ----------- ---------------------------- 7.5/25.3 MB 1.7 MB/s eta 0:00:11\n",
      "   ------------ --------------------------- 7.6/25.3 MB 1.7 MB/s eta 0:00:11\n",
      "   ------------ --------------------------- 7.7/25.3 MB 1.7 MB/s eta 0:00:11\n",
      "   ------------ --------------------------- 7.8/25.3 MB 1.7 MB/s eta 0:00:11\n",
      "   ------------ --------------------------- 8.0/25.3 MB 1.7 MB/s eta 0:00:11\n",
      "   ------------ --------------------------- 8.2/25.3 MB 1.7 MB/s eta 0:00:10\n",
      "   ------------- -------------------------- 8.4/25.3 MB 1.8 MB/s eta 0:00:10\n",
      "   ------------- -------------------------- 8.5/25.3 MB 1.8 MB/s eta 0:00:10\n",
      "   ------------- -------------------------- 8.6/25.3 MB 1.8 MB/s eta 0:00:10\n",
      "   ------------- -------------------------- 8.7/25.3 MB 1.8 MB/s eta 0:00:10\n",
      "   -------------- ------------------------- 8.8/25.3 MB 1.8 MB/s eta 0:00:10\n",
      "   -------------- ------------------------- 9.0/25.3 MB 1.8 MB/s eta 0:00:10\n",
      "   -------------- ------------------------- 9.2/25.3 MB 1.8 MB/s eta 0:00:09\n",
      "   -------------- ------------------------- 9.2/25.3 MB 1.8 MB/s eta 0:00:09\n",
      "   -------------- ------------------------- 9.5/25.3 MB 1.8 MB/s eta 0:00:09\n",
      "   --------------- ------------------------ 9.6/25.3 MB 1.8 MB/s eta 0:00:09\n",
      "   --------------- ------------------------ 9.8/25.3 MB 1.9 MB/s eta 0:00:09\n",
      "   --------------- ------------------------ 10.0/25.3 MB 1.9 MB/s eta 0:00:09\n",
      "   ---------------- ----------------------- 10.2/25.3 MB 1.9 MB/s eta 0:00:08\n",
      "   ---------------- ----------------------- 10.4/25.3 MB 2.0 MB/s eta 0:00:08\n",
      "   ---------------- ----------------------- 10.5/25.3 MB 2.0 MB/s eta 0:00:08\n",
      "   ---------------- ----------------------- 10.7/25.3 MB 2.0 MB/s eta 0:00:08\n",
      "   ----------------- ---------------------- 10.9/25.3 MB 2.3 MB/s eta 0:00:07\n",
      "   ----------------- ---------------------- 11.0/25.3 MB 2.3 MB/s eta 0:00:07\n",
      "   ----------------- ---------------------- 11.0/25.3 MB 2.3 MB/s eta 0:00:07\n",
      "   ----------------- ---------------------- 11.0/25.3 MB 2.3 MB/s eta 0:00:07\n",
      "   ----------------- ---------------------- 11.3/25.3 MB 2.8 MB/s eta 0:00:06\n",
      "   ------------------ --------------------- 11.4/25.3 MB 2.8 MB/s eta 0:00:05\n",
      "   ------------------ --------------------- 11.5/25.3 MB 2.8 MB/s eta 0:00:05\n",
      "   ------------------ --------------------- 11.6/25.3 MB 2.8 MB/s eta 0:00:05\n",
      "   ------------------ --------------------- 11.8/25.3 MB 2.8 MB/s eta 0:00:05\n",
      "   ------------------ --------------------- 11.9/25.3 MB 2.8 MB/s eta 0:00:05\n",
      "   ------------------- -------------------- 12.1/25.3 MB 2.8 MB/s eta 0:00:05\n",
      "   ------------------- -------------------- 12.3/25.3 MB 2.8 MB/s eta 0:00:05\n",
      "   ------------------- -------------------- 12.5/25.3 MB 2.8 MB/s eta 0:00:05\n",
      "   -------------------- ------------------- 12.7/25.3 MB 2.7 MB/s eta 0:00:05\n",
      "   -------------------- ------------------- 12.8/25.3 MB 2.8 MB/s eta 0:00:05\n",
      "   -------------------- ------------------- 12.9/25.3 MB 2.7 MB/s eta 0:00:05\n",
      "   -------------------- ------------------- 13.1/25.3 MB 2.7 MB/s eta 0:00:05\n",
      "   --------------------- ------------------ 13.3/25.3 MB 2.7 MB/s eta 0:00:05\n",
      "   --------------------- ------------------ 13.4/25.3 MB 2.7 MB/s eta 0:00:05\n",
      "   --------------------- ------------------ 13.5/25.3 MB 2.7 MB/s eta 0:00:05\n",
      "   --------------------- ------------------ 13.8/25.3 MB 2.7 MB/s eta 0:00:05\n",
      "   ---------------------- ----------------- 13.9/25.3 MB 2.7 MB/s eta 0:00:05\n",
      "   ---------------------- ----------------- 14.0/25.3 MB 2.7 MB/s eta 0:00:05\n",
      "   ---------------------- ----------------- 14.0/25.3 MB 2.7 MB/s eta 0:00:05\n",
      "   ---------------------- ----------------- 14.0/25.3 MB 2.7 MB/s eta 0:00:05\n",
      "   ---------------------- ----------------- 14.0/25.3 MB 2.7 MB/s eta 0:00:05\n",
      "   ---------------------- ----------------- 14.0/25.3 MB 2.7 MB/s eta 0:00:05\n",
      "   ---------------------- ----------------- 14.0/25.3 MB 2.7 MB/s eta 0:00:05\n",
      "   ---------------------- ----------------- 14.0/25.3 MB 2.7 MB/s eta 0:00:05\n",
      "   ---------------------- ----------------- 14.0/25.3 MB 2.7 MB/s eta 0:00:05\n",
      "   ---------------------- ----------------- 14.0/25.3 MB 2.4 MB/s eta 0:00:05\n",
      "   ---------------------- ----------------- 14.1/25.3 MB 2.4 MB/s eta 0:00:05\n",
      "   ---------------------- ----------------- 14.2/25.3 MB 2.4 MB/s eta 0:00:05\n",
      "   ---------------------- ----------------- 14.4/25.3 MB 2.4 MB/s eta 0:00:05\n",
      "   ---------------------- ----------------- 14.5/25.3 MB 2.5 MB/s eta 0:00:05\n",
      "   ---------------------- ----------------- 14.5/25.3 MB 2.5 MB/s eta 0:00:05\n",
      "   ---------------------- ----------------- 14.5/25.3 MB 2.5 MB/s eta 0:00:05\n",
      "   ---------------------- ----------------- 14.5/25.3 MB 2.5 MB/s eta 0:00:05\n",
      "   ---------------------- ----------------- 14.5/25.3 MB 2.5 MB/s eta 0:00:05\n",
      "   ---------------------- ----------------- 14.5/25.3 MB 2.5 MB/s eta 0:00:05\n",
      "   ---------------------- ----------------- 14.5/25.3 MB 2.5 MB/s eta 0:00:05\n",
      "   ---------------------- ----------------- 14.5/25.3 MB 2.5 MB/s eta 0:00:05\n",
      "   ---------------------- ----------------- 14.5/25.3 MB 2.5 MB/s eta 0:00:05\n",
      "   ---------------------- ----------------- 14.5/25.3 MB 2.5 MB/s eta 0:00:05\n",
      "   ---------------------- ----------------- 14.5/25.3 MB 2.5 MB/s eta 0:00:05\n",
      "   ---------------------- ----------------- 14.5/25.3 MB 2.5 MB/s eta 0:00:05\n",
      "   ---------------------- ----------------- 14.5/25.3 MB 2.5 MB/s eta 0:00:05\n",
      "   ---------------------- ----------------- 14.5/25.3 MB 2.5 MB/s eta 0:00:05\n",
      "   ---------------------- ----------------- 14.5/25.3 MB 2.5 MB/s eta 0:00:05\n",
      "   ---------------------- ----------------- 14.5/25.3 MB 2.5 MB/s eta 0:00:05\n",
      "   ---------------------- ----------------- 14.5/25.3 MB 2.5 MB/s eta 0:00:05\n",
      "   ---------------------- ----------------- 14.5/25.3 MB 2.1 MB/s eta 0:00:06\n",
      "   ---------------------- ----------------- 14.5/25.3 MB 2.1 MB/s eta 0:00:06\n",
      "   ----------------------- ---------------- 14.6/25.3 MB 2.1 MB/s eta 0:00:06\n",
      "   ----------------------- ---------------- 14.8/25.3 MB 2.1 MB/s eta 0:00:06\n",
      "   ----------------------- ---------------- 15.1/25.3 MB 2.1 MB/s eta 0:00:05\n",
      "   ----------------------- ---------------- 15.1/25.3 MB 2.1 MB/s eta 0:00:05\n",
      "   ------------------------ --------------- 15.4/25.3 MB 2.3 MB/s eta 0:00:05\n",
      "   ------------------------ --------------- 15.7/25.3 MB 2.3 MB/s eta 0:00:05\n",
      "   ------------------------- -------------- 15.9/25.3 MB 2.3 MB/s eta 0:00:05\n",
      "   ------------------------- -------------- 16.2/25.3 MB 2.3 MB/s eta 0:00:04\n",
      "   ------------------------- -------------- 16.3/25.3 MB 2.3 MB/s eta 0:00:04\n",
      "   -------------------------- ------------- 16.6/25.3 MB 2.3 MB/s eta 0:00:04\n",
      "   -------------------------- ------------- 16.6/25.3 MB 2.3 MB/s eta 0:00:04\n",
      "   -------------------------- ------------- 17.0/25.3 MB 2.3 MB/s eta 0:00:04\n",
      "   --------------------------- ------------ 17.1/25.3 MB 2.3 MB/s eta 0:00:04\n",
      "   --------------------------- ------------ 17.3/25.3 MB 2.3 MB/s eta 0:00:04\n",
      "   --------------------------- ------------ 17.7/25.3 MB 2.4 MB/s eta 0:00:04\n",
      "   --------------------------- ------------ 17.7/25.3 MB 2.4 MB/s eta 0:00:04\n",
      "   ---------------------------- ----------- 18.0/25.3 MB 2.4 MB/s eta 0:00:04\n",
      "   ---------------------------- ----------- 18.1/25.3 MB 2.4 MB/s eta 0:00:04\n",
      "   ----------------------------- ---------- 18.4/25.3 MB 2.4 MB/s eta 0:00:03\n",
      "   ----------------------------- ---------- 18.6/25.3 MB 2.4 MB/s eta 0:00:03\n",
      "   ----------------------------- ---------- 18.8/25.3 MB 2.4 MB/s eta 0:00:03\n",
      "   ------------------------------ --------- 19.0/25.3 MB 2.4 MB/s eta 0:00:03\n",
      "   ------------------------------ --------- 19.3/25.3 MB 2.5 MB/s eta 0:00:03\n",
      "   ------------------------------ --------- 19.4/25.3 MB 2.5 MB/s eta 0:00:03\n",
      "   ------------------------------- -------- 19.7/25.3 MB 2.5 MB/s eta 0:00:03\n",
      "   ------------------------------- -------- 19.9/25.3 MB 2.5 MB/s eta 0:00:03\n",
      "   ------------------------------- -------- 20.0/25.3 MB 2.5 MB/s eta 0:00:03\n",
      "   -------------------------------- ------- 20.3/25.3 MB 2.5 MB/s eta 0:00:02\n",
      "   -------------------------------- ------- 20.4/25.3 MB 2.5 MB/s eta 0:00:02\n",
      "   -------------------------------- ------- 20.7/25.3 MB 2.5 MB/s eta 0:00:02\n",
      "   --------------------------------- ------ 20.9/25.3 MB 2.5 MB/s eta 0:00:02\n",
      "   --------------------------------- ------ 21.1/25.3 MB 2.5 MB/s eta 0:00:02\n",
      "   --------------------------------- ------ 21.4/25.3 MB 2.6 MB/s eta 0:00:02\n",
      "   ---------------------------------- ----- 21.6/25.3 MB 2.6 MB/s eta 0:00:02\n",
      "   ---------------------------------- ----- 21.7/25.3 MB 2.6 MB/s eta 0:00:02\n",
      "   ---------------------------------- ----- 22.0/25.3 MB 2.6 MB/s eta 0:00:02\n",
      "   ---------------------------------- ----- 22.0/25.3 MB 2.6 MB/s eta 0:00:02\n",
      "   ---------------------------------- ----- 22.0/25.3 MB 2.6 MB/s eta 0:00:02\n",
      "   ----------------------------------- ---- 22.4/25.3 MB 2.6 MB/s eta 0:00:02\n",
      "   ----------------------------------- ---- 22.6/25.3 MB 2.6 MB/s eta 0:00:02\n",
      "   ----------------------------------- ---- 22.7/25.3 MB 2.6 MB/s eta 0:00:01\n",
      "   ------------------------------------ --- 22.8/25.3 MB 2.6 MB/s eta 0:00:01\n",
      "   ------------------------------------ --- 23.1/25.3 MB 2.6 MB/s eta 0:00:01\n",
      "   ------------------------------------ --- 23.2/25.3 MB 2.5 MB/s eta 0:00:01\n",
      "   ------------------------------------ --- 23.3/25.3 MB 2.6 MB/s eta 0:00:01\n",
      "   ------------------------------------- -- 23.5/25.3 MB 2.6 MB/s eta 0:00:01\n",
      "   ------------------------------------- -- 23.7/25.3 MB 2.6 MB/s eta 0:00:01\n",
      "   ------------------------------------- -- 23.8/25.3 MB 2.6 MB/s eta 0:00:01\n",
      "   -------------------------------------- - 24.0/25.3 MB 2.6 MB/s eta 0:00:01\n",
      "   -------------------------------------- - 24.2/25.3 MB 2.6 MB/s eta 0:00:01\n",
      "   -------------------------------------- - 24.3/25.3 MB 2.9 MB/s eta 0:00:01\n",
      "   -------------------------------------- - 24.5/25.3 MB 2.9 MB/s eta 0:00:01\n",
      "   ---------------------------------------  24.7/25.3 MB 2.9 MB/s eta 0:00:01\n",
      "   ---------------------------------------  24.9/25.3 MB 3.9 MB/s eta 0:00:01\n",
      "   ---------------------------------------  25.0/25.3 MB 3.9 MB/s eta 0:00:01\n",
      "   ---------------------------------------  25.2/25.3 MB 3.9 MB/s eta 0:00:01\n",
      "   ---------------------------------------  25.2/25.3 MB 3.9 MB/s eta 0:00:01\n",
      "   ---------------------------------------  25.3/25.3 MB 3.8 MB/s eta 0:00:01\n",
      "   ---------------------------------------- 25.3/25.3 MB 3.7 MB/s eta 0:00:00\n",
      "Installing collected packages: pyarrow\n",
      "Successfully installed pyarrow-15.0.2\n"
     ]
    }
   ],
   "source": [
    "!pip install pyarrow"
   ]
  },
  {
   "cell_type": "code",
   "execution_count": 6,
   "metadata": {},
   "outputs": [],
   "source": [
    "import pyarrow as pa\n",
    "from pyarrow import json\n",
    "\n",
    "# Đọc file JSON\n",
    "table = json.read_json(\"trinhphuquy.json\")\n"
   ]
  },
  {
   "cell_type": "code",
   "execution_count": 7,
   "metadata": {},
   "outputs": [
    {
     "data": {
      "text/plain": [
       "pyarrow.Table\n",
       "Link: string\n",
       "Position: string\n",
       "Location: string\n",
       "Salary: string\n",
       "DeadlineSummit: string\n",
       "Detail: string\n",
       "Require: string\n",
       "----\n",
       "Link: [[\"https://careerviet.vn/vi/tim-viec-lam/ke-toan-doi-soat.35BFCE9E.html\",\"https://careerviet.vn/vi/tim-viec-lam/giam-sat-thi-cong-xay-dung-cua-chu-dau-tu.35BFEC47.html\",\"https://careerviet.vn/vi/tim-viec-lam/ke-toan-tong-hop.35BFEBF9.html\",\"https://careerviet.vn/vi/tim-viec-lam/truong-phong-thiet-ke.35BFEC46.html\",\"https://careerviet.vn/vi/tim-viec-lam/ky-su-giam-sat-m-e.35BFEC49.html\",...,\"https://careerviet.vn/vi/tim-viec-lam/chuyen-vien-khach-hang-ca-nhan-cn-hai-duong.35BFEC4E.html\",\"https://careerviet.vn/vi/tim-viec-lam/trims-executive.35BFD7B7.html\",\"https://careerviet.vn/vi/tim-viec-lam/chuyen-vien-khach-hang-ca-nhan-cn-hoa-binh.35BFEC4F.html\",\"https://careerviet.vn/vi/tim-viec-lam/product-developer.35BFDBC9.html\",\"https://careerviet.vn/vi/tim-viec-lam/chuyen-vien-khach-hang-ca-nhan-cn-hung-yen.35BFEC51.html\"]]\n",
       "Position: [[\"KẾ TOÁN ĐỐI SOÁT\",\"Giám sát thi công xây dựng của Chủ đầu tư\",\"Kế toán tổng hợp\",\"Trưởng phòng thiết kế\",\"Kỹ sư giám sát M&E\",...,\"Chuyên viên Khách hàng Cá nhân - CN. Hải Dương\",\"Trims Executive\",\"Chuyên viên Khách hàng Cá nhân - CN. Hoà Bình\",\"Product Developer\",\"Chuyên viên Khách hàng Cá nhân - CN. Hưng Yên\"]]\n",
       "Location: [[\"Hồ Chí Minh\",\"Phú Thọ\",\"Hồ Chí Minh\",\"Hà Nội\",\"Hà Nội\",...,\"Hải Dương\",\"Hồ Chí Minh\",\"Hòa Bình\",\"Hồ Chí Minh\",\"Hưng Yên\"]]\n",
       "Salary: [[\"10 Tr - 14 Tr VND\",\"18 Tr - 25 Tr VND\",\"12 Tr - 15 Tr VND\",\"Cạnh tranh\",\"25 Tr - 30 Tr VND\",...,\"10 Tr - 30 Tr VND\",\"11 Tr - 15 Tr VND\",\"10 Tr - 30 Tr VND\",\"12 Tr - 15 Tr VND\",\"10 Tr - 30 Tr VND\"]]\n",
       "DeadlineSummit: [[\"07/04/2024\",\"23/04/2024\",\"27/04/2024\",\"30/04/2024\",\"23/04/2024\",...,\"30/04/2024\",\"31/03/2024\",\"30/04/2024\",\"31/03/2024\",\"30/04/2024\"]]\n",
       "Detail: [[\"\",\"- Cập nhật, nắm vững tất cả các bản vẽ thiết kế kỹ thuật thi công có liên quan, các thay đổi thiết kế, bản vẽ shop drawing và biện pháp thi công được phê duyệt.- Nắm vững các yêu cầu về chất lượng, đảm bảo nhà thầu tuân thủ các quy trình quy định trong quá trình thi công.- Nắm vững các quy trình, tiêu chuẩn về hồ sơ bàn giao, nghiệm thu.- Nhắc nhở cảnh báo và báo cáo xin ý kiến Lãnh đạo khi phát hiện các vi phạm của nhà thầu.- Thực hiện giám sát và nghiệm thu các công việc của nhà thầu theo phân công đảm bảo yêu cầu về kỹ thuật, chất lượng.- Kiểm tra, cập nhật tiến độ thi công chi tiết, kế hoạch thực hiện ngày, tuần, tháng để đôn đốc nhà thầu thực hiện thi công và kịp thời báo cáo Lãnh đạo, đề xuất các giải pháp đối với công việc bị chậm tiến độ.- Hướng dẫn, kiểm tra và ký hồ sơ chất lượng, bản vẽ hoàn công, xác nhận công việc của nhà thầu phù hợp với thực tế thi công tại công trình.- Báo cáo ngay cho Lãnh đạo khi phát hiện các bất cập, sai sót của hồ sơ thiết kế, shop drawing và đóng góp ý kiến để hoàn chỉnh các biện pháp thi công xây dựng.- Cùng cán bộ Tư vấn giám sát và nhà thầu lập biên bản về các sai sót trong quá trình thi công và xin ý kiến Lãnh đạo để xử lý.- Kịp thời báo cáo Lãnh đạo và đề xuất các giải pháp đối với các công việc bị chậm tiến độ.- Phối hợp với giám sát an toàn/cán bộ chuyên trách để thực hiện công tác giám sát an toàn lao động, vệ sinh môi trường, PCCC trong quá trình thi công của nhà thầu theo quy định.- Thực hiện các công việc khác theo sự phân công của Lãnh đạo.- Chịu trách nhiệm báo cáo công việc thực hiện, báo cáo tuần, tháng.- Thực hiện các công việc khác theo sự phân công của Lãnh đạo.- Tham gia các cuộc họp với nhà thầu và các đơn vị liên quan\",\"· Hạch toán tất cả các nghiệp vụ kinh tế phát sinh vào phần mềm Misa.· Kiểm tra, theo dõi, đối chiếu tính hợp lý, hợp lệ của các khoản thu chi.· Kiểm tra, lưu trữ và theo dõi hợp đồng công trình, hợp đồng giao khoán nhân công, hợp đồng dịch vụ· Theo dõi và quản lý đối chiếu công nợ, hợp đồng khách hàng, hợp đồng giao khoán nhân công của Thầu phụ và công nợ của Công ty· Chịu trách nhiệm tính hợp lệ, hợp lý của các hợp đồng thanh toán với nhà cung cấp theo từng công trình· Tổng hợp doanh thu, chi phí trong tháng.· Hàng tháng lên kế hoạch và dự toán thu chi sẽ phát sinh trong tháng· Xuất hóa đơn nghiệm thu công trình kèm với biên bản nghiệm thu công trình.· Kiểm tra· Hạch toán các khoản phân bổ chi phí: chi phí trả trước ngắn/ dài hạn, các khoản trích khấu hao TSCĐ. Đối chiếu các số liệu và thống kê chi tiết các khoản phân bổ khớp với từng tháng· Làm tờ khai thuế thuê tài sản của cá nhân (thuê nhà cá nhân) => nộp thuế thuê tài sản cá nhân thay chủ nhà.· Làm hồ sơ tín dụng cho các khoản vay, bảo lãnh….· Tập hợp đầy đủ hoá đơn đầu ra, đầu vào. Đối chiếu, lưu trữ hoá đơn, chứng từ theo đúng quy định.· Thực hiện các bút toán kết chuyển doanh thu, chi phí cuối tháng· Thực hiện báo cáo lãi lỗ hàng tháng, quý, năm và các báo cáo quản trị khác theo yêu cầu của BGĐ.· Các công việc phát sinh khác liên quan đến kế toán.\",\"- Thực hiện khảo sát dự án và nắm bắt thông tin yêu cầu của dự án.- Đề xuất đánh giá và triển khai dự án.- Kiểm tra quy trình công nghệ, dự toán và bản vẽ thiết kế.- Quản lý và giám sát tiến độ thực hiện dự án.- Kiểm tra bản vẽ công nghệ và bảng vật tư thiết bị.- Nghiên cứu & phát triển sản phẩm mới, chuẩn hóa công tác thiết kế- Quản lý, đào tạo nhân sự phòng\",\"- Giám sát thi công M&E của Chủ đầu tư- Cập nhật, nắm vững tất cả các bản vẽ thiết kế kỹ thuật thi công có liên quan, các thay đổi thiết kế, bản vẽ shop drawing và biện pháp thi công được phê duyệt.- Nắm vững các yêu cầu về chất lượng, đảm bảo nhà thầu tuân thủ các quy trình quy định trong quá trình thi công.- Nắm vững các quy trình, tiêu chuẩn về hồ sơ bàn giao, nghiệm thu.- Nhắc nhở cảnh báo và báo cáo xin ý kiến Lãnh đạo khi phát hiện các vi phạm của nhà thầu.- Thực hiện giám sát và nghiệm thu các công việc M&E của nhà thầu theo phân công đảm bảo yêu cầu về kỹ thuật, chất lượng.- Kiểm tra, cập nhật tiến độ thi công chi tiết, kế hoạch thực hiện ngày, tuần, tháng để đôn đốc nhà thầu thực hiện thi công và kịp thời báo cáo Lãnh đạo, đề xuất các giải pháp đối với công việc bị chậm tiến độ.- Hướng dẫn, kiểm tra và ký hồ sơ chất lượng, bản vẽ hoàn công, xác nhận công việc của nhà thầu phù hợp với thực tế thi công tại công trình.- Báo cáo ngay cho Lãnh đạo khi phát hiện các bất cập, sai sót của hồ sơ thiết kế, shop drawing và đóng góp ý kiến để hoàn chỉnh các biện pháp thi công xây dựng.- Cùng cán bộ Tư vấn giám sát và nhà thầu lập biên bản về các sai sót trong quá trình thi công và xin ý kiến Lãnh đạo để xử lý.- Kịp thời báo cáo Lãnh đạo và đề xuất các giải pháp đối với các công việc bị chậm tiến độ.- Phối hợp với giám sát an toàn/cán bộ chuyên trách để thực hiện công tác giám sát an toàn lao động, vệ sinh môi trường, PCCC trong quá trình thi công của nhà thầu theo quy định.- Thực hiện các công việc khác theo sự phân công của Lãnh đạo.- Chịu trách nhiệm báo cáo công việc thực hiện, báo cáo tuần, tháng.- Thực hiện các công việc khác theo sự phân công của Lãnh đạo.- Tham gia các cuộc họp với nhà thầu và các đơn vị liên quan.\",...,\"\",\"Nhiệm vụ 1/- Create a master chart by style level from development TP/BOM/· Track & check the RMDS detail information (MOQ/ Price/ LT…) information from the customer vs T2 confirmation info/· Check the Item description and work back with the Product team & T2 to verify any discrepancy found/· Collect material risk assessment/ limitation/ heat limitation/ washing condition from vendor- Collect testing reports/ testing standards from vendor- Collect the approved fabric quality/ Face and backside.- Collect the material production allocation to define shipping terms and payment- Collect the new material development requirement from customers/- Collect fabric quality/ price/ MOQ/ LT…etc from vendor/- Submit to the customer for quality approval/· - Arrange material to in-house lab do test in case quality concern- Tracking the in-house lab material test result- Arrange fabric to trim vendor for heat application testing· - Preparing, Updating & Sharing the material dash boards chart- Making meeting recap and follow up the pending issue- Communicate with vendor and make sure material quality and LD approved before Buy Ready/- Arrange related support document to release buy ready· - Monitoring & evaluation the supplier’s accroding to ISO's requirement- ERP system - Material library set up- Perform other task was assigned by team Leader or Manager to support other team incase/- Attend management meeting & Development Activities meeting- Attend meeting with cross functional team based on specific subject- Attend the training from external & internal\",\"\",\"o   o   o    o   o   o   o   o   .o  o   o   o   o   o   o   o    ·       o   o   o   o   ·         o   o    o   o   o    .o  T.o   o   o   o   Tham gia tất cả các huấn luyện, đào tạo từ công ty hoặc bên ngoài./ \",\"\"]]\n",
       "Require: [[\"\",\"- Tốt nghiệp đại học có chuyên ngành xây dựng, Tối thiểu 3-5 năm kinh nghiệm thi công các công trình nhà cao tầng.- Có chứng chỉ giám sát xây dựng công trình.- Ưu tiên ứng viên đã có kinh nghiệm ở vị trí tương đương tại các dự án xây dựng công trình nhà cao tầng.- Sẵn sàng đi công tác xa khi được điều động.- Có kỹ năng làm việc nhóm và tổ chức tốt.- Có khả năng chịu được áp lực công việc.- Tính cách trung thực, có trách nhiệm và tâm huyết với công việc.- Am hiểu các nghị đinh, thông tư quy định quản lý dự án, chất lượng công trình.- Trình độ tin học: Thành thạo MS Office, AutoCad, các phần mềm liên quan tới kỹ thuật khác.\",\"\",\"- Tốt nghiệp đại học chuyên ngành môi trường, cấp thoát nước và chuyên ngành liên quan- Có 3 – 5 năm kinh nghiệm ở vị trí tương đương - Khả năng ngoại ngữ: đọc hiểu, dịch được những tài liệu chuyên ngành. - Kỹ năng quản lý, lập kế hoạch. - Kỹ năng làm việc nhóm, độc lập và chịu được áp lực công việc. - Làm việc trong môi trường chuyên nghiệp, cơ hội phát triển cao;- Lương theo năng lực, cạnh tranh với thị trường;- Thưởng hấp dẫn: thưởng lương tháng 13 + thưởng theo đánh giá năng lực + thưởng kinh doanh;- Thưởng sáng kiến, đề xuất kỹ thuật… có tính ứng dụng trong thực tế;- Chế độ nghỉ mát, khám sức khỏe, BHXH đầy đủ;- Thường xuyên được đào tạo nâng cao trình độ từ nội bộ công ty và từ các hãng Siemens, Schneider, Mitsubishi…\",\"'- Tốt nghiệp đại học có chuyên ngành M&E, Tối thiểu 3-5 năm kinh nghiệm thi công các công trình nhà cao tầng.- Có chứng chỉ giám sát M&E công trình.- Ưu tiên ứng viên đã có kinh nghiệm ở vị trí tương đương tại các dự án xây dựng công trình nhà cao tầng.- Sẵn sàng đi công tác xa khi được điều động.- Có kỹ năng làm việc nhóm và tổ chức tốt.- Có khả năng chịu được áp lực công việc.- Tính cách trung thực, có trách nhiệm và tâm huyết với công việc.- Am hiểu các nghị đinh, thông tư quy định quản lý dự án, chất lượng công trình.- Trình độ tin học: Thành thạo MS Office, AutoCad, các phần mềm liên quan tới kỹ thuật khác.\",...,\"\",\"·         University majoring in textile technology or related field (chinese)/ -          Microsoft Office Certificate & do well on Excel. / -          English certificate – Rather Understand reading documents and basic writing on email communicate-          To be able to read documents and translate Chinese language-          Understanding for material consumption calculate -          Basic knowledge & understand for garment field -          Understand ERP or any similar data system management -          At least >1 Years of experience or with the same position in company / \",\"\",\"   \",\"\"]]"
      ]
     },
     "execution_count": 7,
     "metadata": {},
     "output_type": "execute_result"
    }
   ],
   "source": [
    "table"
   ]
  },
  {
   "cell_type": "code",
   "execution_count": 8,
   "metadata": {},
   "outputs": [],
   "source": [
    "import pyarrow.parquet as pq\n",
    "pq.write_table(table, 'TrinhPhuQuy_First.parquet')"
   ]
  },
  {
   "cell_type": "code",
   "execution_count": 9,
   "metadata": {},
   "outputs": [
    {
     "data": {
      "text/plain": [
       "<Blob: tk01-trinhphuquy, TrinhPhuQuy_First.parquet, None>"
      ]
     },
     "execution_count": 9,
     "metadata": {},
     "output_type": "execute_result"
    }
   ],
   "source": [
    "parquetfile = \"TrinhPhuQuy_First.parquet\"\n",
    "blob1 = bucket.blob(parquetfile)\n",
    "blob1\n"
   ]
  },
  {
   "cell_type": "code",
   "execution_count": 10,
   "metadata": {},
   "outputs": [],
   "source": [
    "\n",
    "with open(\"TrinhPhuQuy_First.parquet\", 'rb') as local_file:\n",
    "    blob1.upload_from_file(local_file)"
   ]
  },
  {
   "cell_type": "code",
   "execution_count": null,
   "metadata": {},
   "outputs": [],
   "source": []
  }
 ],
 "metadata": {
  "kernelspec": {
   "display_name": "Python 3",
   "language": "python",
   "name": "python3"
  },
  "language_info": {
   "codemirror_mode": {
    "name": "ipython",
    "version": 3
   },
   "file_extension": ".py",
   "mimetype": "text/x-python",
   "name": "python",
   "nbconvert_exporter": "python",
   "pygments_lexer": "ipython3",
   "version": "3.12.2"
  }
 },
 "nbformat": 4,
 "nbformat_minor": 2
}

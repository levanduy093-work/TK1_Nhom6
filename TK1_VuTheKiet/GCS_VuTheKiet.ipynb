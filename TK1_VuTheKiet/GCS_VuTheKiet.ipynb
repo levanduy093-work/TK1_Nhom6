{
 "cells": [
  {
   "cell_type": "code",
   "execution_count": 1,
   "metadata": {},
   "outputs": [
    {
     "name": "stdout",
     "output_type": "stream",
     "text": [
      "Requirement already satisfied: google-cloud-storage in c:\\python\\python311\\lib\\site-packages (2.16.0)\n",
      "Requirement already satisfied: google-auth<3.0dev,>=2.26.1 in c:\\python\\python311\\lib\\site-packages (from google-cloud-storage) (2.29.0)\n",
      "Requirement already satisfied: google-api-core<3.0.0dev,>=2.15.0 in c:\\python\\python311\\lib\\site-packages (from google-cloud-storage) (2.18.0)\n",
      "Requirement already satisfied: google-cloud-core<3.0dev,>=2.3.0 in c:\\python\\python311\\lib\\site-packages (from google-cloud-storage) (2.4.1)\n",
      "Requirement already satisfied: google-resumable-media>=2.6.0 in c:\\python\\python311\\lib\\site-packages (from google-cloud-storage) (2.7.0)\n",
      "Requirement already satisfied: requests<3.0.0dev,>=2.18.0 in c:\\python\\python311\\lib\\site-packages (from google-cloud-storage) (2.31.0)\n",
      "Requirement already satisfied: google-crc32c<2.0dev,>=1.0 in c:\\python\\python311\\lib\\site-packages (from google-cloud-storage) (1.5.0)\n",
      "Requirement already satisfied: googleapis-common-protos<2.0.dev0,>=1.56.2 in c:\\python\\python311\\lib\\site-packages (from google-api-core<3.0.0dev,>=2.15.0->google-cloud-storage) (1.63.0)\n",
      "Requirement already satisfied: protobuf!=3.20.0,!=3.20.1,!=4.21.0,!=4.21.1,!=4.21.2,!=4.21.3,!=4.21.4,!=4.21.5,<5.0.0.dev0,>=3.19.5 in c:\\python\\python311\\lib\\site-packages (from google-api-core<3.0.0dev,>=2.15.0->google-cloud-storage) (4.25.3)\n",
      "Requirement already satisfied: proto-plus<2.0.0dev,>=1.22.3 in c:\\python\\python311\\lib\\site-packages (from google-api-core<3.0.0dev,>=2.15.0->google-cloud-storage) (1.23.0)\n",
      "Requirement already satisfied: cachetools<6.0,>=2.0.0 in c:\\python\\python311\\lib\\site-packages (from google-auth<3.0dev,>=2.26.1->google-cloud-storage) (5.3.3)\n",
      "Requirement already satisfied: pyasn1-modules>=0.2.1 in c:\\python\\python311\\lib\\site-packages (from google-auth<3.0dev,>=2.26.1->google-cloud-storage) (0.3.0)\n",
      "Requirement already satisfied: rsa<5,>=3.1.4 in c:\\python\\python311\\lib\\site-packages (from google-auth<3.0dev,>=2.26.1->google-cloud-storage) (4.9)\n",
      "Requirement already satisfied: charset-normalizer<4,>=2 in c:\\python\\python311\\lib\\site-packages (from requests<3.0.0dev,>=2.18.0->google-cloud-storage) (3.3.2)\n",
      "Requirement already satisfied: idna<4,>=2.5 in c:\\python\\python311\\lib\\site-packages (from requests<3.0.0dev,>=2.18.0->google-cloud-storage) (3.6)\n",
      "Requirement already satisfied: urllib3<3,>=1.21.1 in c:\\python\\python311\\lib\\site-packages (from requests<3.0.0dev,>=2.18.0->google-cloud-storage) (2.2.1)\n",
      "Requirement already satisfied: certifi>=2017.4.17 in c:\\python\\python311\\lib\\site-packages (from requests<3.0.0dev,>=2.18.0->google-cloud-storage) (2024.2.2)\n",
      "Requirement already satisfied: pyasn1<0.6.0,>=0.4.6 in c:\\python\\python311\\lib\\site-packages (from pyasn1-modules>=0.2.1->google-auth<3.0dev,>=2.26.1->google-cloud-storage) (0.5.1)\n"
     ]
    }
   ],
   "source": [
    "!pip install google-cloud-storage"
   ]
  },
  {
   "cell_type": "code",
   "execution_count": 2,
   "metadata": {},
   "outputs": [
    {
     "name": "stdout",
     "output_type": "stream",
     "text": [
      "Requirement already satisfied: google-cloud-storage in c:\\python\\python311\\lib\\site-packages (2.16.0)\n",
      "Requirement already satisfied: google-auth<3.0dev,>=2.26.1 in c:\\python\\python311\\lib\\site-packages (from google-cloud-storage) (2.29.0)\n",
      "Requirement already satisfied: google-api-core<3.0.0dev,>=2.15.0 in c:\\python\\python311\\lib\\site-packages (from google-cloud-storage) (2.18.0)\n",
      "Requirement already satisfied: google-cloud-core<3.0dev,>=2.3.0 in c:\\python\\python311\\lib\\site-packages (from google-cloud-storage) (2.4.1)\n",
      "Requirement already satisfied: google-resumable-media>=2.6.0 in c:\\python\\python311\\lib\\site-packages (from google-cloud-storage) (2.7.0)\n",
      "Requirement already satisfied: requests<3.0.0dev,>=2.18.0 in c:\\python\\python311\\lib\\site-packages (from google-cloud-storage) (2.31.0)\n",
      "Requirement already satisfied: google-crc32c<2.0dev,>=1.0 in c:\\python\\python311\\lib\\site-packages (from google-cloud-storage) (1.5.0)\n",
      "Requirement already satisfied: googleapis-common-protos<2.0.dev0,>=1.56.2 in c:\\python\\python311\\lib\\site-packages (from google-api-core<3.0.0dev,>=2.15.0->google-cloud-storage) (1.63.0)\n",
      "Requirement already satisfied: protobuf!=3.20.0,!=3.20.1,!=4.21.0,!=4.21.1,!=4.21.2,!=4.21.3,!=4.21.4,!=4.21.5,<5.0.0.dev0,>=3.19.5 in c:\\python\\python311\\lib\\site-packages (from google-api-core<3.0.0dev,>=2.15.0->google-cloud-storage) (4.25.3)\n",
      "Requirement already satisfied: proto-plus<2.0.0dev,>=1.22.3 in c:\\python\\python311\\lib\\site-packages (from google-api-core<3.0.0dev,>=2.15.0->google-cloud-storage) (1.23.0)\n",
      "Requirement already satisfied: cachetools<6.0,>=2.0.0 in c:\\python\\python311\\lib\\site-packages (from google-auth<3.0dev,>=2.26.1->google-cloud-storage) (5.3.3)\n",
      "Requirement already satisfied: pyasn1-modules>=0.2.1 in c:\\python\\python311\\lib\\site-packages (from google-auth<3.0dev,>=2.26.1->google-cloud-storage) (0.3.0)\n",
      "Requirement already satisfied: rsa<5,>=3.1.4 in c:\\python\\python311\\lib\\site-packages (from google-auth<3.0dev,>=2.26.1->google-cloud-storage) (4.9)\n",
      "Requirement already satisfied: charset-normalizer<4,>=2 in c:\\python\\python311\\lib\\site-packages (from requests<3.0.0dev,>=2.18.0->google-cloud-storage) (3.3.2)\n",
      "Requirement already satisfied: idna<4,>=2.5 in c:\\python\\python311\\lib\\site-packages (from requests<3.0.0dev,>=2.18.0->google-cloud-storage) (3.6)\n",
      "Requirement already satisfied: urllib3<3,>=1.21.1 in c:\\python\\python311\\lib\\site-packages (from requests<3.0.0dev,>=2.18.0->google-cloud-storage) (2.2.1)\n",
      "Requirement already satisfied: certifi>=2017.4.17 in c:\\python\\python311\\lib\\site-packages (from requests<3.0.0dev,>=2.18.0->google-cloud-storage) (2024.2.2)\n",
      "Requirement already satisfied: pyasn1<0.6.0,>=0.4.6 in c:\\python\\python311\\lib\\site-packages (from pyasn1-modules>=0.2.1->google-auth<3.0dev,>=2.26.1->google-cloud-storage) (0.5.1)\n"
     ]
    }
   ],
   "source": [
    "!pip install --upgrade google-cloud-storage"
   ]
  },
  {
   "cell_type": "code",
   "execution_count": 3,
   "metadata": {},
   "outputs": [
    {
     "name": "stderr",
     "output_type": "stream",
     "text": [
      "Your browser has been opened to visit:\n",
      "\n",
      "    https://accounts.google.com/o/oauth2/auth?response_type=code&client_id=764086051850-6qr4p6gpi6hn506pt8ejuq83di341hur.apps.googleusercontent.com&redirect_uri=http%3A%2F%2Flocalhost%3A8085%2F&scope=openid+https%3A%2F%2Fwww.googleapis.com%2Fauth%2Fuserinfo.email+https%3A%2F%2Fwww.googleapis.com%2Fauth%2Fcloud-platform+https%3A%2F%2Fwww.googleapis.com%2Fauth%2Fsqlservice.login&state=0rV80vQRgmJa2ffEKXIJKAQCNvNQcd&access_type=offline&code_challenge=rGzDu4lJxYBt5CDrI2b7kC5D_0UPwgdznXsX9vUGj_8&code_challenge_method=S256\n",
      "\n",
      "\n",
      "Credentials saved to file: [C:\\Users\\PC\\AppData\\Roaming\\gcloud\\application_default_credentials.json]\n",
      "\n",
      "These credentials will be used by any library that requests Application Default Credentials (ADC).\n",
      "\n",
      "Quota project \"tk01-vuthekiet\" was added to ADC which can be used by Google client libraries for billing and quota. Note that some services may still bill the project owning the resource.\n"
     ]
    }
   ],
   "source": [
    "!gcloud auth application-default login"
   ]
  },
  {
   "cell_type": "code",
   "execution_count": 4,
   "metadata": {},
   "outputs": [
    {
     "name": "stderr",
     "output_type": "stream",
     "text": [
      "Your browser has been opened to visit:\n",
      "\n",
      "    https://accounts.google.com/o/oauth2/auth?response_type=code&client_id=32555940559.apps.googleusercontent.com&redirect_uri=http%3A%2F%2Flocalhost%3A8085%2F&scope=openid+https%3A%2F%2Fwww.googleapis.com%2Fauth%2Fuserinfo.email+https%3A%2F%2Fwww.googleapis.com%2Fauth%2Fcloud-platform+https%3A%2F%2Fwww.googleapis.com%2Fauth%2Fappengine.admin+https%3A%2F%2Fwww.googleapis.com%2Fauth%2Fsqlservice.login+https%3A%2F%2Fwww.googleapis.com%2Fauth%2Fcompute+https%3A%2F%2Fwww.googleapis.com%2Fauth%2Faccounts.reauth&state=seKxjMKL37DURLo4pUX0PXn0PhDJXZ&access_type=offline&code_challenge=cewN0rfE4cije2vdLENvWOjT4lTE2pXDq0WHlTZhJh4&code_challenge_method=S256\n",
      "\n",
      "\n",
      "You are now logged in as [vutuankiet20022@gmail.com].\n",
      "Your current project is [tk01-vuthekiet].  You can change this setting by running:\n",
      "  $ gcloud config set project PROJECT_ID\n"
     ]
    }
   ],
   "source": [
    "!gcloud auth login"
   ]
  },
  {
   "cell_type": "code",
   "execution_count": 6,
   "metadata": {},
   "outputs": [
    {
     "name": "stdout",
     "output_type": "stream",
     "text": [
      "^C\n"
     ]
    }
   ],
   "source": [
    "!gcloud config set compute/region asia-east1"
   ]
  },
  {
   "cell_type": "code",
   "execution_count": 7,
   "metadata": {},
   "outputs": [
    {
     "name": "stdout",
     "output_type": "stream",
     "text": [
      "      Credentialed Accounts\n",
      "ACTIVE  ACCOUNT\n",
      "*       vutuankiet20022@gmail.com\n"
     ]
    },
    {
     "name": "stderr",
     "output_type": "stream",
     "text": [
      "\n",
      "To set the active account, run:\n",
      "    $ gcloud config set account `ACCOUNT`\n",
      "\n"
     ]
    },
    {
     "name": "stdout",
     "output_type": "stream",
     "text": [
      "PROJECT_ID           NAME              PROJECT_NUMBER\n",
      "future-surge-418006  My First Project  480514992665\n",
      "tk01-vuthekiet       TK01-VuTheKiet    341717687258\n"
     ]
    }
   ],
   "source": [
    "!gcloud auth list\n",
    "!gcloud projects list --sort-by=projectId"
   ]
  },
  {
   "cell_type": "code",
   "execution_count": 8,
   "metadata": {},
   "outputs": [
    {
     "name": "stderr",
     "output_type": "stream",
     "text": [
      "Updated property [core/project].\n"
     ]
    }
   ],
   "source": [
    "!gcloud config set project tk01-vuthekiet"
   ]
  },
  {
   "cell_type": "code",
   "execution_count": 2,
   "metadata": {},
   "outputs": [],
   "source": [
    "from google.cloud import storage\n",
    "PROJECT_ID = 'tk01-vuthekiet'\n",
    "storage_client = storage.Client(project=PROJECT_ID)"
   ]
  },
  {
   "cell_type": "code",
   "execution_count": 3,
   "metadata": {},
   "outputs": [],
   "source": [
    "BUCKET_NAME = \"tk01-vuthekiet\"\n",
    "bucket = storage_client.create_bucket(BUCKET_NAME)"
   ]
  },
  {
   "cell_type": "code",
   "execution_count": 4,
   "metadata": {},
   "outputs": [
    {
     "data": {
      "text/plain": [
       "<Bucket: tk01-vuthekiet>"
      ]
     },
     "execution_count": 4,
     "metadata": {},
     "output_type": "execute_result"
    }
   ],
   "source": [
    "bucket"
   ]
  },
  {
   "cell_type": "code",
   "execution_count": 5,
   "metadata": {},
   "outputs": [],
   "source": [
    "import datetime\n",
    "day = datetime.datetime.now().strftime(\"%d\")\n",
    "month = datetime.datetime.now().strftime(\"%m\")\n",
    "year = datetime.datetime.now().strftime(\"%Y\")\n",
    "GCS_BLOB_NAME = \"{year}/{month}/{date}/VuTheKiet.json\".format(year=year, month=month, date=day)\n",
    "blob = bucket.blob(GCS_BLOB_NAME)\n",
    "blob.upload_from_filename(\"VuTheKiet.json\")"
   ]
  },
  {
   "cell_type": "code",
   "execution_count": 6,
   "metadata": {},
   "outputs": [
    {
     "data": {
      "text/plain": [
       "True"
      ]
     },
     "execution_count": 6,
     "metadata": {},
     "output_type": "execute_result"
    }
   ],
   "source": [
    "is_exist = blob.exists(storage_client)\n",
    "is_exist"
   ]
  },
  {
   "cell_type": "code",
   "execution_count": 7,
   "metadata": {},
   "outputs": [],
   "source": [
    "LOCAL_FILE_PATH = \"./download.json\"\n",
    "blob.download_to_filename(LOCAL_FILE_PATH)"
   ]
  },
  {
   "cell_type": "code",
   "execution_count": 8,
   "metadata": {},
   "outputs": [
    {
     "name": "stdout",
     "output_type": "stream",
     "text": [
      "Collecting pyarrow\n",
      "  Downloading pyarrow-15.0.2-cp311-cp311-win_amd64.whl.metadata (3.1 kB)\n",
      "Collecting numpy<2,>=1.16.6 (from pyarrow)\n",
      "  Downloading numpy-1.26.4-cp311-cp311-win_amd64.whl.metadata (61 kB)\n",
      "     ---------------------------------------- 0.0/61.0 kB ? eta -:--:--\n",
      "     ------ --------------------------------- 10.2/61.0 kB ? eta -:--:--\n",
      "     ------------------------- ------------ 41.0/61.0 kB 495.5 kB/s eta 0:00:01\n",
      "     -------------------------------------- 61.0/61.0 kB 819.4 kB/s eta 0:00:00\n",
      "Downloading pyarrow-15.0.2-cp311-cp311-win_amd64.whl (24.8 MB)\n",
      "   ---------------------------------------- 0.0/24.8 MB ? eta -:--:--\n",
      "   ---------------------------------------- 0.1/24.8 MB 3.4 MB/s eta 0:00:08\n",
      "   ---------------------------------------- 0.2/24.8 MB 3.5 MB/s eta 0:00:08\n",
      "    --------------------------------------- 0.5/24.8 MB 4.4 MB/s eta 0:00:06\n",
      "   - -------------------------------------- 1.0/24.8 MB 6.2 MB/s eta 0:00:04\n",
      "   --- ------------------------------------ 2.0/24.8 MB 9.1 MB/s eta 0:00:03\n",
      "   ------ --------------------------------- 4.1/24.8 MB 15.3 MB/s eta 0:00:02\n",
      "   --------- ------------------------------ 6.2/24.8 MB 20.7 MB/s eta 0:00:01\n",
      "   --------- ------------------------------ 6.2/24.8 MB 20.7 MB/s eta 0:00:01\n",
      "   --------------- ------------------------ 9.5/24.8 MB 23.3 MB/s eta 0:00:01\n",
      "   ------------------ --------------------- 11.4/24.8 MB 40.9 MB/s eta 0:00:01\n",
      "   ----------------------- ---------------- 14.8/24.8 MB 46.7 MB/s eta 0:00:01\n",
      "   ------------------------- -------------- 15.5/24.8 MB 40.9 MB/s eta 0:00:01\n",
      "   ------------------------- -------------- 15.6/24.8 MB 36.4 MB/s eta 0:00:01\n",
      "   -------------------------------- ------- 19.9/24.8 MB 50.4 MB/s eta 0:00:01\n",
      "   ---------------------------------- ----- 21.6/24.8 MB 50.4 MB/s eta 0:00:01\n",
      "   ----------------------------------- ---- 22.1/24.8 MB 40.9 MB/s eta 0:00:01\n",
      "   -------------------------------------- - 23.8/24.8 MB 36.4 MB/s eta 0:00:01\n",
      "   ---------------------------------------  24.8/24.8 MB 31.2 MB/s eta 0:00:01\n",
      "   ---------------------------------------  24.8/24.8 MB 31.2 MB/s eta 0:00:01\n",
      "   ---------------------------------------- 24.8/24.8 MB 25.2 MB/s eta 0:00:00\n",
      "Downloading numpy-1.26.4-cp311-cp311-win_amd64.whl (15.8 MB)\n",
      "   ---------------------------------------- 0.0/15.8 MB ? eta -:--:--\n",
      "   -- ------------------------------------- 1.1/15.8 MB 23.3 MB/s eta 0:00:01\n",
      "   ----- ---------------------------------- 2.2/15.8 MB 22.9 MB/s eta 0:00:01\n",
      "   -------- ------------------------------- 3.2/15.8 MB 22.8 MB/s eta 0:00:01\n",
      "   ---------- ----------------------------- 4.3/15.8 MB 22.8 MB/s eta 0:00:01\n",
      "   ------------- -------------------------- 5.3/15.8 MB 22.7 MB/s eta 0:00:01\n",
      "   ---------------- ----------------------- 6.3/15.8 MB 23.8 MB/s eta 0:00:01\n",
      "   ------------------ --------------------- 7.4/15.8 MB 23.6 MB/s eta 0:00:01\n",
      "   --------------------- ------------------ 8.5/15.8 MB 23.5 MB/s eta 0:00:01\n",
      "   ------------------------ --------------- 9.5/15.8 MB 23.4 MB/s eta 0:00:01\n",
      "   -------------------------- ------------- 10.6/15.8 MB 23.4 MB/s eta 0:00:01\n",
      "   ----------------------------- ---------- 11.7/15.8 MB 23.4 MB/s eta 0:00:01\n",
      "   -------------------------------- ------- 12.8/15.8 MB 23.4 MB/s eta 0:00:01\n",
      "   ----------------------------------- ---- 13.9/15.8 MB 23.4 MB/s eta 0:00:01\n",
      "   ------------------------------------- -- 15.0/15.8 MB 23.4 MB/s eta 0:00:01\n",
      "   ---------------------------------------  15.8/15.8 MB 23.4 MB/s eta 0:00:01\n",
      "   ---------------------------------------- 15.8/15.8 MB 21.1 MB/s eta 0:00:00\n",
      "Installing collected packages: numpy, pyarrow\n",
      "Successfully installed numpy-1.26.4 pyarrow-15.0.2\n",
      "Collecting pandas\n",
      "  Downloading pandas-2.2.1-cp311-cp311-win_amd64.whl.metadata (19 kB)\n",
      "Requirement already satisfied: numpy<2,>=1.23.2 in c:\\python\\python311\\lib\\site-packages (from pandas) (1.26.4)\n",
      "Requirement already satisfied: python-dateutil>=2.8.2 in c:\\users\\pc\\appdata\\roaming\\python\\python311\\site-packages (from pandas) (2.9.0.post0)\n",
      "Collecting pytz>=2020.1 (from pandas)\n",
      "  Downloading pytz-2024.1-py2.py3-none-any.whl.metadata (22 kB)\n",
      "Collecting tzdata>=2022.7 (from pandas)\n",
      "  Downloading tzdata-2024.1-py2.py3-none-any.whl.metadata (1.4 kB)\n",
      "Requirement already satisfied: six>=1.5 in c:\\python\\python311\\lib\\site-packages (from python-dateutil>=2.8.2->pandas) (1.16.0)\n",
      "Downloading pandas-2.2.1-cp311-cp311-win_amd64.whl (11.6 MB)\n",
      "   ---------------------------------------- 0.0/11.6 MB ? eta -:--:--\n",
      "   ---------------------------------------- 0.1/11.6 MB 1.1 MB/s eta 0:00:11\n",
      "    --------------------------------------- 0.3/11.6 MB 2.8 MB/s eta 0:00:04\n",
      "   -- ------------------------------------- 0.7/11.6 MB 4.8 MB/s eta 0:00:03\n",
      "   ----- ---------------------------------- 1.6/11.6 MB 8.6 MB/s eta 0:00:02\n",
      "   ------------- -------------------------- 3.8/11.6 MB 16.1 MB/s eta 0:00:01\n",
      "   ----------------- ---------------------- 5.1/11.6 MB 20.4 MB/s eta 0:00:01\n",
      "   ---------------------------------- ----- 10.0/11.6 MB 30.4 MB/s eta 0:00:01\n",
      "   ------------------------------------ --- 10.7/11.6 MB 40.9 MB/s eta 0:00:01\n",
      "   ---------------------------------------  11.6/11.6 MB 50.4 MB/s eta 0:00:01\n",
      "   ---------------------------------------- 11.6/11.6 MB 40.9 MB/s eta 0:00:00\n",
      "Downloading pytz-2024.1-py2.py3-none-any.whl (505 kB)\n",
      "   ---------------------------------------- 0.0/505.5 kB ? eta -:--:--\n",
      "   --------------------------------------- 505.5/505.5 kB 31.0 MB/s eta 0:00:00\n",
      "Downloading tzdata-2024.1-py2.py3-none-any.whl (345 kB)\n",
      "   ---------------------------------------- 0.0/345.4 kB ? eta -:--:--\n",
      "   ---------------------------------------- 345.4/345.4 kB ? eta 0:00:00\n",
      "Installing collected packages: pytz, tzdata, pandas\n",
      "Successfully installed pandas-2.2.1 pytz-2024.1 tzdata-2024.1\n"
     ]
    }
   ],
   "source": [
    "!pip install pyarrow\n",
    "!pip install pandas"
   ]
  },
  {
   "cell_type": "code",
   "execution_count": 9,
   "metadata": {},
   "outputs": [],
   "source": [
    "import pandas as pd\n",
    "import pyarrow as pa\n",
    "import pyarrow.json as pj\n",
    "import pyarrow.parquet as pq"
   ]
  },
  {
   "cell_type": "code",
   "execution_count": 10,
   "metadata": {},
   "outputs": [
    {
     "data": {
      "text/plain": [
       "<Bucket: tk01-vuthekiet>"
      ]
     },
     "execution_count": 10,
     "metadata": {},
     "output_type": "execute_result"
    }
   ],
   "source": [
    "bucket"
   ]
  },
  {
   "cell_type": "code",
   "execution_count": 11,
   "metadata": {},
   "outputs": [
    {
     "data": {
      "text/html": [
       "<div>\n",
       "<style scoped>\n",
       "    .dataframe tbody tr th:only-of-type {\n",
       "        vertical-align: middle;\n",
       "    }\n",
       "\n",
       "    .dataframe tbody tr th {\n",
       "        vertical-align: top;\n",
       "    }\n",
       "\n",
       "    .dataframe thead th {\n",
       "        text-align: right;\n",
       "    }\n",
       "</style>\n",
       "<table border=\"1\" class=\"dataframe\">\n",
       "  <thead>\n",
       "    <tr style=\"text-align: right;\">\n",
       "      <th></th>\n",
       "      <th>Link</th>\n",
       "      <th>Name</th>\n",
       "      <th>Pay</th>\n",
       "      <th>Why</th>\n",
       "      <th>Text_Why</th>\n",
       "      <th>Learn</th>\n",
       "      <th>Text_Learn</th>\n",
       "    </tr>\n",
       "  </thead>\n",
       "  <tbody>\n",
       "    <tr>\n",
       "      <th>0</th>\n",
       "      <td>https://campus.w3schools.com/collections/cours...</td>\n",
       "      <td>Learn Data Analytics</td>\n",
       "      <td>$155.00</td>\n",
       "      <td>Who is the Learn Data Analytics course for?</td>\n",
       "      <td>If you're looking to kickstart your career in ...</td>\n",
       "      <td>You will learn:</td>\n",
       "      <td>How to get started with programming in Python....</td>\n",
       "    </tr>\n",
       "    <tr>\n",
       "      <th>1</th>\n",
       "      <td>https://campus.w3schools.com/collections/cours...</td>\n",
       "      <td>Learn Python</td>\n",
       "      <td>$95.00</td>\n",
       "      <td>Should you take the W3Schools Python Course?</td>\n",
       "      <td>Python is one of the most popular programming ...</td>\n",
       "      <td>You will learn:</td>\n",
       "      <td>to write scripts for automating tasks to creat...</td>\n",
       "    </tr>\n",
       "    <tr>\n",
       "      <th>2</th>\n",
       "      <td>https://campus.w3schools.com/collections/cours...</td>\n",
       "      <td>W3Schools Full Access</td>\n",
       "      <td>$770.00</td>\n",
       "      <td>What is Full Access and why do you need it?</td>\n",
       "      <td>Full Access by W3Schools is the most valuable ...</td>\n",
       "      <td></td>\n",
       "      <td></td>\n",
       "    </tr>\n",
       "    <tr>\n",
       "      <th>3</th>\n",
       "      <td>https://campus.w3schools.com/collections/cours...</td>\n",
       "      <td>Learn SQL</td>\n",
       "      <td>$95.00</td>\n",
       "      <td>Why should you take this SQL Course?</td>\n",
       "      <td>One of the most in-demand developer skills in ...</td>\n",
       "      <td>You will learn:</td>\n",
       "      <td>to extract and analyze data from databasesto q...</td>\n",
       "    </tr>\n",
       "    <tr>\n",
       "      <th>4</th>\n",
       "      <td>https://campus.w3schools.com/collections/cours...</td>\n",
       "      <td>Learn Bootstrap 3</td>\n",
       "      <td>$95.00</td>\n",
       "      <td></td>\n",
       "      <td></td>\n",
       "      <td></td>\n",
       "      <td></td>\n",
       "    </tr>\n",
       "  </tbody>\n",
       "</table>\n",
       "</div>"
      ],
      "text/plain": [
       "                                                Link                   Name  \\\n",
       "0  https://campus.w3schools.com/collections/cours...   Learn Data Analytics   \n",
       "1  https://campus.w3schools.com/collections/cours...           Learn Python   \n",
       "2  https://campus.w3schools.com/collections/cours...  W3Schools Full Access   \n",
       "3  https://campus.w3schools.com/collections/cours...              Learn SQL   \n",
       "4  https://campus.w3schools.com/collections/cours...      Learn Bootstrap 3   \n",
       "\n",
       "       Pay                                           Why  \\\n",
       "0  $155.00   Who is the Learn Data Analytics course for?   \n",
       "1   $95.00  Should you take the W3Schools Python Course?   \n",
       "2  $770.00   What is Full Access and why do you need it?   \n",
       "3   $95.00          Why should you take this SQL Course?   \n",
       "4   $95.00                                                 \n",
       "\n",
       "                                            Text_Why            Learn  \\\n",
       "0  If you're looking to kickstart your career in ...  You will learn:   \n",
       "1  Python is one of the most popular programming ...  You will learn:   \n",
       "2  Full Access by W3Schools is the most valuable ...                    \n",
       "3  One of the most in-demand developer skills in ...  You will learn:   \n",
       "4                                                                       \n",
       "\n",
       "                                          Text_Learn  \n",
       "0  How to get started with programming in Python....  \n",
       "1  to write scripts for automating tasks to creat...  \n",
       "2                                                     \n",
       "3  to extract and analyze data from databasesto q...  \n",
       "4                                                     "
      ]
     },
     "execution_count": 11,
     "metadata": {},
     "output_type": "execute_result"
    }
   ],
   "source": [
    "df = pd.read_json(LOCAL_FILE_PATH)\n",
    "df.head()"
   ]
  },
  {
   "cell_type": "code",
   "execution_count": 12,
   "metadata": {},
   "outputs": [],
   "source": [
    "table = pa.Table.from_pandas(df)"
   ]
  },
  {
   "cell_type": "code",
   "execution_count": 13,
   "metadata": {},
   "outputs": [],
   "source": [
    "pq.write_table(table, 'VuTheKiet_First.parquet', compression='snappy')"
   ]
  },
  {
   "cell_type": "code",
   "execution_count": 16,
   "metadata": {},
   "outputs": [],
   "source": [
    "GCS_BLOB_NAME = \"{year}/{month}/{date}/VuTheKiet_First.parquet\".format(year=year, month=month, date=day)\n",
    "blob = bucket.blob(GCS_BLOB_NAME)\n",
    "blob.upload_from_filename(\"VuTheKiet_First.parquet\")"
   ]
  }
 ],
 "metadata": {
  "kernelspec": {
   "display_name": "Python 3",
   "language": "python",
   "name": "python3"
  },
  "language_info": {
   "codemirror_mode": {
    "name": "ipython",
    "version": 3
   },
   "file_extension": ".py",
   "mimetype": "text/x-python",
   "name": "python",
   "nbconvert_exporter": "python",
   "pygments_lexer": "ipython3",
   "version": "3.11.8"
  }
 },
 "nbformat": 4,
 "nbformat_minor": 2
}

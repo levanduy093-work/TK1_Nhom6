{
  "cells": [
    {
      "cell_type": "markdown",
      "metadata": {
        "id": "aIVfez_Eq8s_"
      },
      "source": [
        "# Cài đặt gcloud"
      ]
    },
    {
      "cell_type": "markdown",
      "metadata": {
        "id": "rQAfzveZq_-T"
      },
      "source": [
        "Cài đặt gcloud theo link và hướng dẫn ở đây:\n",
        "\n",
        "https://cloud.google.com/sdk/docs/install\n",
        "\n",
        "### Một số câu lệnh\n",
        "\n",
        "Sau khi cài đặt xong, chúng ta sử dụng một số câu lệnh sau:\n",
        "\n",
        "Đăng nhập vào app gcloud\n",
        "```\n",
        "gcloud auth login\n",
        "```\n",
        "Lấy crediential để có thể chạy code trên máy local:\n",
        "\n",
        "```\n",
        "gcloud auth application-default login\n",
        "```\n",
        "\n",
        "Update gcloud\n",
        "```\n",
        "gcloud components update\n",
        "```\n",
        "\n",
        "Update setting về vùng\n",
        "```\n",
        "gcloud config set compute/region asia-east1\n",
        "```\n",
        "\n",
        "### Nếu bạn có nhiều account và project\n",
        "List Account và project\n",
        "```\n",
        "gcloud auth list\n",
        "gcloud projects list --sort-by=projectId\n",
        "```\n",
        "\n",
        "\n",
        "Set Account và Project\n",
        "\n",
        "```\n",
        "gcloud config set account ACCOUNT_EMAIL\n",
        "gcloud config set projects PROJECT_ID\n",
        "```\n",
        "\n",
        "\n",
        "Nếu sử dụng service account nên cấu hình environment variable tới\n",
        "GOOGLE_APPLICATION_CREDENTIALS\n",
        "```\n",
        "export GOOGLE_APPLICATION_CREDENTIALS=\"path/to/service/account\"\n",
        "```"
      ]
    },
    {
      "cell_type": "code",
      "source": [],
      "metadata": {
        "id": "KWvsFVlAeilN"
      },
      "execution_count": null,
      "outputs": []
    },
    {
      "cell_type": "markdown",
      "metadata": {
        "id": "GwDTqr28bs7D"
      },
      "source": [
        "# Tạo service Account\n",
        "\n",
        "batch-job-service-account\n",
        "\n",
        "<!-- @test-app-309909.iam.gserviceaccount.com -->"
      ]
    },
    {
      "cell_type": "markdown",
      "metadata": {
        "id": "O6vr3aUZtCAA"
      },
      "source": [
        "# Thao tác với gs\n",
        "\n",
        "Cài đặt thư viện trên python"
      ]
    },
    {
      "cell_type": "code",
      "source": [
        "# !pip install --upgrade google-cloud-storage"
      ],
      "metadata": {
        "id": "CxvrVj_BDkwX"
      },
      "execution_count": null,
      "outputs": []
    },
    {
      "cell_type": "code",
      "source": [
        "!gcloud info --run-diagnostics"
      ],
      "metadata": {
        "colab": {
          "base_uri": "https://localhost:8080/"
        },
        "id": "j5vCxeyTOWaJ",
        "outputId": "309f5a3a-ccd7-4518-9118-33a9e927a8f3"
      },
      "execution_count": null,
      "outputs": [
        {
          "output_type": "stream",
          "name": "stdout",
          "text": [
            "Network diagnostic detects and fixes local network connection issues.\n",
            "Reachability Check passed.\n",
            "Network diagnostic passed (1/1 checks passed).\n",
            "\n",
            "Property diagnostic detects issues that may be caused by properties.\n",
            "\u001b[1;31mERROR:\u001b[0m Hidden Property Check failed.\n",
            "The following hidden properties have been set:\n",
            "    [compute/gce_metadata_read_timeout_sec]\n",
            "Properties files\n",
            "    User: /content/.config/configurations/config_default\n",
            "    Installation: None\n",
            "\n",
            "\u001b[1;31mERROR:\u001b[0m Property diagnostic failed (0/1 checks passed).\n",
            "\n",
            "\u001b[1;31mERROR:\u001b[0m (gcloud.info) Some of the checks in diagnostics failed.\n"
          ]
        }
      ]
    },
    {
      "cell_type": "code",
      "source": [
        "!gcloud auth application-default login"
      ],
      "metadata": {
        "colab": {
          "base_uri": "https://localhost:8080/"
        },
        "id": "0IRciFXuDrYb",
        "outputId": "5fd255b6-e515-41e1-db63-01d476cbfec0"
      },
      "execution_count": null,
      "outputs": [
        {
          "output_type": "stream",
          "name": "stdout",
          "text": [
            "Go to the following link in your browser:\n",
            "\n",
            "    https://accounts.google.com/o/oauth2/auth?response_type=code&client_id=764086051850-6qr4p6gpi6hn506pt8ejuq83di341hur.apps.googleusercontent.com&redirect_uri=https%3A%2F%2Fsdk.cloud.google.com%2Fapplicationdefaultauthcode.html&scope=openid+https%3A%2F%2Fwww.googleapis.com%2Fauth%2Fuserinfo.email+https%3A%2F%2Fwww.googleapis.com%2Fauth%2Fcloud-platform+https%3A%2F%2Fwww.googleapis.com%2Fauth%2Fsqlservice.login&state=a7ceCAgsvXzhJRrbJTsXWBYWZDYtTt&prompt=consent&token_usage=remote&access_type=offline&code_challenge=l38LQDjk7jzpgSRsUgtYrwiDfwQT7xuD-JT2L8y_Msc&code_challenge_method=S256\n",
            "\n",
            "Enter authorization code: 4/0AeaYSHCLuXXRiABOnXUV7UokGDzsZLD78mVNL2zMXLOdtbdsfsDyj45k9ONxEXSuaYw08w\n",
            "\n",
            "Credentials saved to file: [/content/.config/application_default_credentials.json]\n",
            "\n",
            "These credentials will be used by any library that requests Application Default Credentials (ADC).\n",
            "\u001b[1;33mWARNING:\u001b[0m \n",
            "Cannot find a quota project to add to ADC. You might receive a \"quota exceeded\" or \"API not enabled\" error. Run $ gcloud auth application-default set-quota-project to add a quota project.\n"
          ]
        }
      ]
    },
    {
      "cell_type": "code",
      "source": [
        "!gcloud auth login"
      ],
      "metadata": {
        "colab": {
          "base_uri": "https://localhost:8080/"
        },
        "id": "vf28o8mSD7oo",
        "outputId": "5f63d3dc-f53b-47b0-bed4-30bec8bb055d"
      },
      "execution_count": null,
      "outputs": [
        {
          "output_type": "stream",
          "name": "stdout",
          "text": [
            "Go to the following link in your browser:\n",
            "\n",
            "    https://accounts.google.com/o/oauth2/auth?response_type=code&client_id=32555940559.apps.googleusercontent.com&redirect_uri=https%3A%2F%2Fsdk.cloud.google.com%2Fauthcode.html&scope=openid+https%3A%2F%2Fwww.googleapis.com%2Fauth%2Fuserinfo.email+https%3A%2F%2Fwww.googleapis.com%2Fauth%2Fcloud-platform+https%3A%2F%2Fwww.googleapis.com%2Fauth%2Fappengine.admin+https%3A%2F%2Fwww.googleapis.com%2Fauth%2Fsqlservice.login+https%3A%2F%2Fwww.googleapis.com%2Fauth%2Fcompute+https%3A%2F%2Fwww.googleapis.com%2Fauth%2Faccounts.reauth&state=jq1vVU9OsQ3S9NqsLmu0g5eKdSsXVI&prompt=consent&token_usage=remote&access_type=offline&code_challenge=3vnyZDhKKsY6Q26ydfNzwwV6E1o7FsbK6ZyZsV9dNzE&code_challenge_method=S256\n",
            "\n",
            "Enter authorization code: 4/0AeaYSHD3eRNIbK0HHfsl5LbpiCRjytErIdxm30hUgC8m6dUZykq4XmMStGIEY-y-n-Iheg\n",
            "\n",
            "You are now logged in as [khanhnhat24022002@gmail.com].\n",
            "Your current project is [None].  You can change this setting by running:\n",
            "  $ gcloud config set project PROJECT_ID\n"
          ]
        }
      ]
    },
    {
      "cell_type": "code",
      "source": [
        "!gcloud info --run-diagnostics"
      ],
      "metadata": {
        "colab": {
          "base_uri": "https://localhost:8080/"
        },
        "id": "EFmtC9auOnDx",
        "outputId": "da505403-f3f5-42cd-f661-f22198a083dc"
      },
      "execution_count": null,
      "outputs": [
        {
          "output_type": "stream",
          "name": "stdout",
          "text": [
            "Network diagnostic detects and fixes local network connection issues.\n",
            "Reachability Check passed.\n",
            "Network diagnostic passed (1/1 checks passed).\n",
            "\n",
            "Property diagnostic detects issues that may be caused by properties.\n",
            "\u001b[1;31mERROR:\u001b[0m Hidden Property Check failed.\n",
            "The following hidden properties have been set:\n",
            "    [compute/gce_metadata_read_timeout_sec]\n",
            "Properties files\n",
            "    User: /content/.config/configurations/config_default\n",
            "    Installation: None\n",
            "\n",
            "\u001b[1;31mERROR:\u001b[0m Property diagnostic failed (0/1 checks passed).\n",
            "\n",
            "\u001b[1;31mERROR:\u001b[0m (gcloud.info) Some of the checks in diagnostics failed.\n"
          ]
        }
      ]
    },
    {
      "cell_type": "code",
      "source": [
        "from google.colab import auth\n",
        "\n",
        "PROJECT_ID = \"tk01nguyennhatkhanh\"\n",
        "auth.authenticate_user(project_id = PROJECT_ID)\n"
      ],
      "metadata": {
        "id": "EA1Q20KaEGb8"
      },
      "execution_count": null,
      "outputs": []
    },
    {
      "cell_type": "code",
      "source": [
        "!gcloud config set project PROJECT_ID"
      ],
      "metadata": {
        "colab": {
          "base_uri": "https://localhost:8080/"
        },
        "id": "A6XMR3dmO4lT",
        "outputId": "48acdbcc-1bc4-47a9-9a40-765fc72b69cf"
      },
      "execution_count": null,
      "outputs": [
        {
          "output_type": "stream",
          "name": "stdout",
          "text": [
            "\u001b[1;33mWARNING:\u001b[0m Your active project does not match the quota project in your local Application Default Credentials file. This might result in unexpected quota issues.\n",
            "\n",
            "To update your Application Default Credentials quota project, use the `gcloud auth application-default set-quota-project` command.\n",
            "\u001b[1;33mWARNING:\u001b[0m You do not appear to have access to project [PROJECT_ID] or it does not exist.\n",
            "Are you sure you wish to set property [core/project] to PROJECT_ID?\n",
            "\n",
            "Do you want to continue (Y/n)?  y\n",
            "\n",
            "\u001b[1;31mERROR:\u001b[0m (gcloud.config.set) The project property must be set to a valid project ID, not the project name [PROJECT_ID]\n",
            "To set your project, run:\n",
            "\n",
            "  $ gcloud config set project PROJECT_ID\n",
            "\n",
            "or to unset it, run:\n",
            "\n",
            "  $ gcloud config unset project\n"
          ]
        }
      ]
    },
    {
      "cell_type": "code",
      "source": [
        "from google.cloud import storage\n",
        "PROJECT_ID = \"tk01nguyennhatkhanh\"\n",
        "storage_client = storage.Client(project= PROJECT_ID)"
      ],
      "metadata": {
        "id": "Ukf8yH_jEhCd"
      },
      "execution_count": null,
      "outputs": []
    },
    {
      "cell_type": "code",
      "source": [
        "# tạo bucket\n",
        "# BUCKET_NAME = \"data_clean\"\n",
        "# bucket = storage_client.create_bucket(BUCKET_NAME)"
      ],
      "metadata": {
        "id": "JEdJw9EyEpuH"
      },
      "execution_count": null,
      "outputs": []
    },
    {
      "cell_type": "code",
      "source": [
        "# lấy bucket\n",
        "BUCKET_NAME = \"tk01_nguyennhatkhanh\"\n",
        "bucket = storage_client.get_bucket(BUCKET_NAME)\n",
        "bucket"
      ],
      "metadata": {
        "colab": {
          "base_uri": "https://localhost:8080/"
        },
        "id": "Qo5wZX7-FAli",
        "outputId": "d69c30e2-679a-4a8b-9fa1-e843f159ccdf"
      },
      "execution_count": null,
      "outputs": [
        {
          "output_type": "execute_result",
          "data": {
            "text/plain": [
              "<Bucket: tk01_nguyennhatkhanh>"
            ]
          },
          "metadata": {},
          "execution_count": 15
        }
      ]
    },
    {
      "cell_type": "code",
      "source": [
        "# list các file trong bucket với đường dẫn\n",
        "PREFIX = \"rawl-data/event/2023/08/12\"\n",
        "for blob in bucket.list_blobs(prefix = PREFIX):\n",
        "  print(blob)"
      ],
      "metadata": {
        "id": "w09kMDd3FN1F"
      },
      "execution_count": null,
      "outputs": []
    },
    {
      "cell_type": "code",
      "source": [
        "# câu lệnh tương tự list các file trong bucket với đường dẫn\n",
        "for blob in storage_client.list_blobs(BUCKET_NAME, prefix = PREFIX):\n",
        "  print(blob)"
      ],
      "metadata": {
        "colab": {
          "base_uri": "https://localhost:8080/"
        },
        "id": "zWdTd7I8FhqN",
        "outputId": "506e4f2f-53de-493e-b369-dd7f89cf5b0a"
      },
      "execution_count": null,
      "outputs": [
        {
          "output_type": "stream",
          "name": "stdout",
          "text": [
            "<Blob: demo01_processing, rawl-data/event/2023/08/12/c6bfa982-3933-11ee-800c-56934cb9d3ad.json, 1707654420863670>\n",
            "<Blob: demo01_processing, rawl-data/event/2023/08/12/c8aaf800-3933-11ee-800c-56934cb9d3ad.json, 1707652627546014>\n"
          ]
        }
      ]
    },
    {
      "cell_type": "code",
      "execution_count": null,
      "metadata": {
        "id": "BwLPFXm-w7Eu"
      },
      "outputs": [],
      "source": [
        "# Upload file lên blob\n",
        "blob.upload_from_filename(\"/content/swe.json\")"
      ]
    },
    {
      "cell_type": "code",
      "source": [
        "# lấy blob/ tạo blob\n",
        "GCS_BLOB_NAME = \"swe.json\"\n",
        "blob = bucket.blob(GCS_BLOB_NAME)\n",
        "blob"
      ],
      "metadata": {
        "id": "XxN3l3kqF0U9",
        "colab": {
          "base_uri": "https://localhost:8080/"
        },
        "outputId": "92ba8198-2a76-409a-ded0-582159265a64"
      },
      "execution_count": null,
      "outputs": [
        {
          "output_type": "execute_result",
          "data": {
            "text/plain": [
              "<Blob: tk01_nguyennhatkhanh, swe.json, None>"
            ]
          },
          "metadata": {},
          "execution_count": 54
        }
      ]
    },
    {
      "cell_type": "code",
      "source": [
        "# kiểm tra có tồn tại hay không\n",
        "is_existed = blob.exists()\n",
        "is_existed"
      ],
      "metadata": {
        "colab": {
          "base_uri": "https://localhost:8080/"
        },
        "id": "_N9-nBXfGFSx",
        "outputId": "32d5df54-1493-4072-c2dd-e8200a2de584"
      },
      "execution_count": null,
      "outputs": [
        {
          "output_type": "execute_result",
          "data": {
            "text/plain": [
              "True"
            ]
          },
          "metadata": {},
          "execution_count": 28
        }
      ]
    },
    {
      "cell_type": "code",
      "source": [
        "# download file về máy\n",
        "# đổi tên đường dẫn tuỳ ý\n",
        "LOCAL_FILE_PATH = \"./downloaded.json\"\n",
        "\n",
        "blob.download_to_filename(LOCAL_FILE_PATH)\n"
      ],
      "metadata": {
        "id": "oRzw8KA3GOfU"
      },
      "execution_count": null,
      "outputs": []
    },
    {
      "cell_type": "code",
      "source": [
        "# download file vào bộ nhớ\n",
        "data = blob.download_as_bytes()"
      ],
      "metadata": {
        "id": "5bBzK2JDGhZB"
      },
      "execution_count": null,
      "outputs": []
    },
    {
      "cell_type": "code",
      "source": [
        "# data\n",
        "# Trường hợp data là file json\n",
        "for line in data.decode('utf-8').split(\"/n\"):\n",
        "    print(line)\n",
        "    break"
      ],
      "metadata": {
        "id": "ojI8it3OGpUi"
      },
      "execution_count": null,
      "outputs": []
    },
    {
      "cell_type": "code",
      "source": [
        "# Upload file lên blob\n",
        "blob.upload_from_filename(LOCAL_FILE_PATH)"
      ],
      "metadata": {
        "id": "Nlhg3lVFGsjw"
      },
      "execution_count": null,
      "outputs": []
    },
    {
      "cell_type": "markdown",
      "metadata": {
        "id": "CDcImRbw2QLS"
      },
      "source": [
        "# Thao tác với pyarrow\n",
        "\n",
        "https://arrow.apache.org/cookbook/py/data.html\n"
      ]
    },
    {
      "cell_type": "code",
      "execution_count": null,
      "metadata": {
        "colab": {
          "base_uri": "https://localhost:8080/"
        },
        "id": "3K5_vwhZyupT",
        "outputId": "e64a8d86-ca7c-4bef-c2ca-3c2dc43c1670"
      },
      "outputs": [
        {
          "output_type": "stream",
          "name": "stdout",
          "text": [
            "Requirement already satisfied: pyarrow in /usr/local/lib/python3.10/dist-packages (10.0.1)\n",
            "Requirement already satisfied: numpy>=1.16.6 in /usr/local/lib/python3.10/dist-packages (from pyarrow) (1.23.5)\n"
          ]
        }
      ],
      "source": [
        "!pip install pyarrow"
      ]
    },
    {
      "cell_type": "code",
      "execution_count": null,
      "metadata": {
        "id": "nD5FhVhb2P5A",
        "colab": {
          "base_uri": "https://localhost:8080/",
          "height": 304
        },
        "outputId": "7c31d7dd-a648-4c2d-d9e0-9d02d6fa1e8e"
      },
      "outputs": [
        {
          "output_type": "stream",
          "name": "stdout",
          "text": [
            "Requirement already satisfied: pyarrow in /usr/local/lib/python3.10/dist-packages (8.0.0)\n",
            "Collecting pyarrow\n",
            "  Downloading pyarrow-15.0.2-cp310-cp310-manylinux_2_28_x86_64.whl (38.3 MB)\n",
            "\u001b[2K     \u001b[90m━━━━━━━━━━━━━━━━━━━━━━━━━━━━━━━━━━━━━━━━\u001b[0m \u001b[32m38.3/38.3 MB\u001b[0m \u001b[31m23.0 MB/s\u001b[0m eta \u001b[36m0:00:00\u001b[0m\n",
            "\u001b[?25hRequirement already satisfied: numpy<2,>=1.16.6 in /usr/local/lib/python3.10/dist-packages (from pyarrow) (1.25.2)\n",
            "Installing collected packages: pyarrow\n",
            "  Attempting uninstall: pyarrow\n",
            "    Found existing installation: pyarrow 8.0.0\n",
            "    Uninstalling pyarrow-8.0.0:\n",
            "      Successfully uninstalled pyarrow-8.0.0\n",
            "Successfully installed pyarrow-15.0.2\n"
          ]
        },
        {
          "output_type": "display_data",
          "data": {
            "application/vnd.colab-display-data+json": {
              "pip_warning": {
                "packages": [
                  "pyarrow"
                ]
              },
              "id": "a0030aadd18f4d10b01d0b8edadd0cc3"
            }
          },
          "metadata": {}
        }
      ],
      "source": [
        "# Cài đặt pyarrow\n",
        "!pip install --upgrade pyarrow"
      ]
    },
    {
      "cell_type": "code",
      "source": [
        "import pyarrow\n",
        "from pyarrow import json\n",
        "import pyarrow.parquet"
      ],
      "metadata": {
        "id": "ARmcbWKpG7CE"
      },
      "execution_count": null,
      "outputs": []
    },
    {
      "cell_type": "code",
      "source": [
        "!pip uninstall datasets\n",
        "\n",
        "!pip install datasets==2.10.1"
      ],
      "metadata": {
        "colab": {
          "base_uri": "https://localhost:8080/"
        },
        "id": "T_dFpiRwVN4-",
        "outputId": "9ef3f398-6eba-48c2-b3aa-a77700345932"
      },
      "execution_count": null,
      "outputs": [
        {
          "output_type": "stream",
          "name": "stdout",
          "text": [
            "\u001b[33mWARNING: Skipping datasets as it is not installed.\u001b[0m\u001b[33m\n",
            "\u001b[0mCollecting datasets==2.10.1\n",
            "  Downloading datasets-2.10.1-py3-none-any.whl (469 kB)\n",
            "\u001b[2K     \u001b[90m━━━━━━━━━━━━━━━━━━━━━━━━━━━━━━━━━━━━━━━━\u001b[0m \u001b[32m469.0/469.0 kB\u001b[0m \u001b[31m8.5 MB/s\u001b[0m eta \u001b[36m0:00:00\u001b[0m\n",
            "\u001b[?25hRequirement already satisfied: numpy>=1.17 in /usr/local/lib/python3.10/dist-packages (from datasets==2.10.1) (1.25.2)\n",
            "Requirement already satisfied: pyarrow>=6.0.0 in /usr/local/lib/python3.10/dist-packages (from datasets==2.10.1) (15.0.2)\n",
            "Collecting dill<0.3.7,>=0.3.0 (from datasets==2.10.1)\n",
            "  Downloading dill-0.3.6-py3-none-any.whl (110 kB)\n",
            "\u001b[2K     \u001b[90m━━━━━━━━━━━━━━━━━━━━━━━━━━━━━━━━━━━━━━━━\u001b[0m \u001b[32m110.5/110.5 kB\u001b[0m \u001b[31m14.2 MB/s\u001b[0m eta \u001b[36m0:00:00\u001b[0m\n",
            "\u001b[?25hRequirement already satisfied: pandas in /usr/local/lib/python3.10/dist-packages (from datasets==2.10.1) (1.5.3)\n",
            "Requirement already satisfied: requests>=2.19.0 in /usr/local/lib/python3.10/dist-packages (from datasets==2.10.1) (2.31.0)\n",
            "Requirement already satisfied: tqdm>=4.62.1 in /usr/local/lib/python3.10/dist-packages (from datasets==2.10.1) (4.66.2)\n",
            "Collecting xxhash (from datasets==2.10.1)\n",
            "  Downloading xxhash-3.4.1-cp310-cp310-manylinux_2_17_x86_64.manylinux2014_x86_64.whl (194 kB)\n",
            "\u001b[2K     \u001b[90m━━━━━━━━━━━━━━━━━━━━━━━━━━━━━━━━━━━━━━━━\u001b[0m \u001b[32m194.1/194.1 kB\u001b[0m \u001b[31m12.8 MB/s\u001b[0m eta \u001b[36m0:00:00\u001b[0m\n",
            "\u001b[?25hCollecting multiprocess (from datasets==2.10.1)\n",
            "  Downloading multiprocess-0.70.16-py310-none-any.whl (134 kB)\n",
            "\u001b[2K     \u001b[90m━━━━━━━━━━━━━━━━━━━━━━━━━━━━━━━━━━━━━━━━\u001b[0m \u001b[32m134.8/134.8 kB\u001b[0m \u001b[31m15.5 MB/s\u001b[0m eta \u001b[36m0:00:00\u001b[0m\n",
            "\u001b[?25hRequirement already satisfied: fsspec[http]>=2021.11.1 in /usr/local/lib/python3.10/dist-packages (from datasets==2.10.1) (2023.6.0)\n",
            "Requirement already satisfied: aiohttp in /usr/local/lib/python3.10/dist-packages (from datasets==2.10.1) (3.9.3)\n",
            "Requirement already satisfied: huggingface-hub<1.0.0,>=0.2.0 in /usr/local/lib/python3.10/dist-packages (from datasets==2.10.1) (0.20.3)\n",
            "Requirement already satisfied: packaging in /usr/local/lib/python3.10/dist-packages (from datasets==2.10.1) (24.0)\n",
            "Collecting responses<0.19 (from datasets==2.10.1)\n",
            "  Downloading responses-0.18.0-py3-none-any.whl (38 kB)\n",
            "Requirement already satisfied: pyyaml>=5.1 in /usr/local/lib/python3.10/dist-packages (from datasets==2.10.1) (6.0.1)\n",
            "Requirement already satisfied: aiosignal>=1.1.2 in /usr/local/lib/python3.10/dist-packages (from aiohttp->datasets==2.10.1) (1.3.1)\n",
            "Requirement already satisfied: attrs>=17.3.0 in /usr/local/lib/python3.10/dist-packages (from aiohttp->datasets==2.10.1) (23.2.0)\n",
            "Requirement already satisfied: frozenlist>=1.1.1 in /usr/local/lib/python3.10/dist-packages (from aiohttp->datasets==2.10.1) (1.4.1)\n",
            "Requirement already satisfied: multidict<7.0,>=4.5 in /usr/local/lib/python3.10/dist-packages (from aiohttp->datasets==2.10.1) (6.0.5)\n",
            "Requirement already satisfied: yarl<2.0,>=1.0 in /usr/local/lib/python3.10/dist-packages (from aiohttp->datasets==2.10.1) (1.9.4)\n",
            "Requirement already satisfied: async-timeout<5.0,>=4.0 in /usr/local/lib/python3.10/dist-packages (from aiohttp->datasets==2.10.1) (4.0.3)\n",
            "Requirement already satisfied: filelock in /usr/local/lib/python3.10/dist-packages (from huggingface-hub<1.0.0,>=0.2.0->datasets==2.10.1) (3.13.1)\n",
            "Requirement already satisfied: typing-extensions>=3.7.4.3 in /usr/local/lib/python3.10/dist-packages (from huggingface-hub<1.0.0,>=0.2.0->datasets==2.10.1) (4.10.0)\n",
            "Requirement already satisfied: charset-normalizer<4,>=2 in /usr/local/lib/python3.10/dist-packages (from requests>=2.19.0->datasets==2.10.1) (3.3.2)\n",
            "Requirement already satisfied: idna<4,>=2.5 in /usr/local/lib/python3.10/dist-packages (from requests>=2.19.0->datasets==2.10.1) (3.6)\n",
            "Requirement already satisfied: urllib3<3,>=1.21.1 in /usr/local/lib/python3.10/dist-packages (from requests>=2.19.0->datasets==2.10.1) (2.0.7)\n",
            "Requirement already satisfied: certifi>=2017.4.17 in /usr/local/lib/python3.10/dist-packages (from requests>=2.19.0->datasets==2.10.1) (2024.2.2)\n",
            "INFO: pip is looking at multiple versions of multiprocess to determine which version is compatible with other requirements. This could take a while.\n",
            "Collecting multiprocess (from datasets==2.10.1)\n",
            "  Downloading multiprocess-0.70.15-py310-none-any.whl (134 kB)\n",
            "\u001b[2K     \u001b[90m━━━━━━━━━━━━━━━━━━━━━━━━━━━━━━━━━━━━━━━━\u001b[0m \u001b[32m134.8/134.8 kB\u001b[0m \u001b[31m18.0 MB/s\u001b[0m eta \u001b[36m0:00:00\u001b[0m\n",
            "\u001b[?25h  Downloading multiprocess-0.70.14-py310-none-any.whl (134 kB)\n",
            "\u001b[2K     \u001b[90m━━━━━━━━━━━━━━━━━━━━━━━━━━━━━━━━━━━━━━━━\u001b[0m \u001b[32m134.3/134.3 kB\u001b[0m \u001b[31m17.8 MB/s\u001b[0m eta \u001b[36m0:00:00\u001b[0m\n",
            "\u001b[?25hRequirement already satisfied: python-dateutil>=2.8.1 in /usr/local/lib/python3.10/dist-packages (from pandas->datasets==2.10.1) (2.8.2)\n",
            "Requirement already satisfied: pytz>=2020.1 in /usr/local/lib/python3.10/dist-packages (from pandas->datasets==2.10.1) (2023.4)\n",
            "Requirement already satisfied: six>=1.5 in /usr/local/lib/python3.10/dist-packages (from python-dateutil>=2.8.1->pandas->datasets==2.10.1) (1.16.0)\n",
            "Installing collected packages: xxhash, dill, responses, multiprocess, datasets\n",
            "Successfully installed datasets-2.10.1 dill-0.3.6 multiprocess-0.70.14 responses-0.18.0 xxhash-3.4.1\n"
          ]
        }
      ]
    },
    {
      "cell_type": "code",
      "source": [
        "# GCS_BLOB_NAME = \"swe.json\"\n",
        "# blob = bucket.blob(GCS_BLOB_NAME)\n",
        "\n",
        "# # download file về storage\n",
        "# LOCAL_FILE_PATH = \"/content/cleaned.json\"\n",
        "# blob.download_to_filename(LOCAL_FILE_PATH)\n",
        "\n",
        "# đọc json từ file\n",
        "# path = \"/content/cleaned.json\"\n",
        "table = pyarrow.json.read_json(\"/content/cleanedd.json\")\n",
        "table"
      ],
      "metadata": {
        "id": "urJjZxcBHEcf",
        "colab": {
          "base_uri": "https://localhost:8080/",
          "height": 252
        },
        "outputId": "4d7f65bc-53d4-496d-f52f-e0f9b525e443"
      },
      "execution_count": null,
      "outputs": [
        {
          "output_type": "error",
          "ename": "ArrowInvalid",
          "evalue": "JSON parse error: Column() changed from object to array in row 0",
          "traceback": [
            "\u001b[0;31m---------------------------------------------------------------------------\u001b[0m",
            "\u001b[0;31mArrowInvalid\u001b[0m                              Traceback (most recent call last)",
            "\u001b[0;32m<ipython-input-5-e2300f849861>\u001b[0m in \u001b[0;36m<cell line: 10>\u001b[0;34m()\u001b[0m\n\u001b[1;32m      8\u001b[0m \u001b[0;31m# đọc json từ file\u001b[0m\u001b[0;34m\u001b[0m\u001b[0;34m\u001b[0m\u001b[0m\n\u001b[1;32m      9\u001b[0m \u001b[0;31m# path = \"/content/cleaned.json\"\u001b[0m\u001b[0;34m\u001b[0m\u001b[0;34m\u001b[0m\u001b[0m\n\u001b[0;32m---> 10\u001b[0;31m \u001b[0mtable\u001b[0m \u001b[0;34m=\u001b[0m \u001b[0mpyarrow\u001b[0m\u001b[0;34m.\u001b[0m\u001b[0mjson\u001b[0m\u001b[0;34m.\u001b[0m\u001b[0mread_json\u001b[0m\u001b[0;34m(\u001b[0m\u001b[0;34m\"/content/cleanedd.json\"\u001b[0m\u001b[0;34m)\u001b[0m\u001b[0;34m\u001b[0m\u001b[0;34m\u001b[0m\u001b[0m\n\u001b[0m\u001b[1;32m     11\u001b[0m \u001b[0mtable\u001b[0m\u001b[0;34m\u001b[0m\u001b[0;34m\u001b[0m\u001b[0m\n",
            "\u001b[0;32m/usr/local/lib/python3.10/dist-packages/pyarrow/_json.pyx\u001b[0m in \u001b[0;36mpyarrow._json.read_json\u001b[0;34m()\u001b[0m\n",
            "\u001b[0;32m/usr/local/lib/python3.10/dist-packages/pyarrow/error.pxi\u001b[0m in \u001b[0;36mpyarrow.lib.pyarrow_internal_check_status\u001b[0;34m()\u001b[0m\n",
            "\u001b[0;32m/usr/local/lib/python3.10/dist-packages/pyarrow/error.pxi\u001b[0m in \u001b[0;36mpyarrow.lib.check_status\u001b[0;34m()\u001b[0m\n",
            "\u001b[0;31mArrowInvalid\u001b[0m: JSON parse error: Column() changed from object to array in row 0"
          ]
        }
      ]
    },
    {
      "cell_type": "code",
      "source": [
        "table.schema\n"
      ],
      "metadata": {
        "id": "2NCXtHOGH8WU",
        "colab": {
          "base_uri": "https://localhost:8080/",
          "height": 141
        },
        "outputId": "15e5610d-be5c-4b3a-92aa-7b27d15da7d3"
      },
      "execution_count": null,
      "outputs": [
        {
          "output_type": "error",
          "ename": "NameError",
          "evalue": "name 'table' is not defined",
          "traceback": [
            "\u001b[0;31m---------------------------------------------------------------------------\u001b[0m",
            "\u001b[0;31mNameError\u001b[0m                                 Traceback (most recent call last)",
            "\u001b[0;32m<ipython-input-69-f2743e70a945>\u001b[0m in \u001b[0;36m<cell line: 1>\u001b[0;34m()\u001b[0m\n\u001b[0;32m----> 1\u001b[0;31m \u001b[0mtable\u001b[0m\u001b[0;34m.\u001b[0m\u001b[0mschema\u001b[0m\u001b[0;34m\u001b[0m\u001b[0;34m\u001b[0m\u001b[0m\n\u001b[0m",
            "\u001b[0;31mNameError\u001b[0m: name 'table' is not defined"
          ]
        }
      ]
    },
    {
      "cell_type": "code",
      "source": [
        "schema = pyarrow.schema([\n",
        "    ('event_id', pyarrow.string()),\n",
        "    ('event_type', pyarrow.string()),\n",
        "    ('timestamp', pyarrow.string()),   # Sửa kiểu timestamp thành string\n",
        "    ('user_id', pyarrow.int64()),\n",
        "    ('location', pyarrow.string()),\n",
        "    ('device', pyarrow.string()),\n",
        "    ('ip_address', pyarrow.string()),\n",
        "    ('event_attribute', pyarrow.list_(pyarrow.struct([\n",
        "        ('key', pyarrow.string()),\n",
        "        ('int_value', pyarrow.int64()),\n",
        "        ('float_value', pyarrow.float64()),\n",
        "        ('string_value', pyarrow.string()),\n",
        "        ('bool_value', pyarrow.bool_())\n",
        "    ])))\n",
        "])\n",
        "\n",
        "parse_opt = pyarrow.json.ParseOptions(\n",
        "    explicit_schema = schema\n",
        ")\n",
        "table = pyarrow.json.read_json(LOCAL_FILE_PATH,parse_options=parse_opt)"
      ],
      "metadata": {
        "id": "DLZSJWjkHzwE"
      },
      "execution_count": null,
      "outputs": []
    },
    {
      "cell_type": "code",
      "source": [
        "table.schema"
      ],
      "metadata": {
        "colab": {
          "base_uri": "https://localhost:8080/"
        },
        "id": "7ufN6iC5IBd9",
        "outputId": "634eee89-ae3a-471b-d423-c2d09045e4b0"
      },
      "execution_count": null,
      "outputs": [
        {
          "output_type": "execute_result",
          "data": {
            "text/plain": [
              "event_id: string\n",
              "timestamp: timestamp[s]\n",
              "user_id: int64\n",
              "event_type: string\n",
              "location: string\n",
              "device: string\n",
              "ip_address: string\n",
              "event_attribute: list<item: struct<key: string, int_value: int64, float_value: double, string_value: string, bool_value: bool>>\n",
              "  child 0, item: struct<key: string, int_value: int64, float_value: double, string_value: string, bool_value: bool>\n",
              "      child 0, key: string\n",
              "      child 1, int_value: int64\n",
              "      child 2, float_value: double\n",
              "      child 3, string_value: string\n",
              "      child 4, bool_value: bool"
            ]
          },
          "metadata": {},
          "execution_count": 25
        }
      ]
    },
    {
      "cell_type": "code",
      "source": [
        "table['event_id']\n",
        "\n",
        "# table[['event_id','event_attribute']] Lỗi"
      ],
      "metadata": {
        "id": "9BecCnTfID8K"
      },
      "execution_count": null,
      "outputs": []
    },
    {
      "cell_type": "code",
      "source": [
        "table.select(['event_id','event_attribute'])"
      ],
      "metadata": {
        "id": "UWUdRm31IGAt"
      },
      "execution_count": null,
      "outputs": []
    },
    {
      "cell_type": "code",
      "source": [
        "table.group_by('user_id').aggregate([(\"event_id\", \"count\"),\n",
        "                                    (\"timestamp\", \"max\")])"
      ],
      "metadata": {
        "id": "cReP-umpIHZx"
      },
      "execution_count": null,
      "outputs": []
    },
    {
      "cell_type": "code",
      "source": [
        "# Xuất table ra file\n",
        "pyarrow.parquet.write_table(table,\"table.parquet\", compression=\"snappy\")"
      ],
      "metadata": {
        "id": "IrSYAyyyII1J"
      },
      "execution_count": null,
      "outputs": []
    },
    {
      "cell_type": "code",
      "source": [
        "# Check size của data\n",
        "!du -h cleaned.json table.parquet"
      ],
      "metadata": {
        "colab": {
          "base_uri": "https://localhost:8080/"
        },
        "id": "4Rg3zYwtIK9l",
        "outputId": "84f66c93-064f-46c7-e456-ae4ed7e815ea"
      },
      "execution_count": null,
      "outputs": [
        {
          "output_type": "stream",
          "name": "stdout",
          "text": [
            "21M\tcleaned.json\n",
            "4.5M\ttable.parquet\n"
          ]
        }
      ]
    },
    {
      "cell_type": "code",
      "source": [
        "# Đọc table từ parquet file\n",
        "pyarrow.parquet.read_table(\"table.parquet\")"
      ],
      "metadata": {
        "id": "P1CqxR0GINht"
      },
      "execution_count": null,
      "outputs": []
    },
    {
      "cell_type": "code",
      "source": [
        "# Ghi ra dataset\n",
        "pyarrow.parquet.write_to_dataset(table, root_path='event_info_dataset',\n",
        "                                    partition_cols=['event_type',\n",
        "                                                    'user_id'])"
      ],
      "metadata": {
        "id": "LYlvML4CIPmv"
      },
      "execution_count": null,
      "outputs": []
    },
    {
      "cell_type": "code",
      "source": [
        "import pyarrow.fs\n",
        "\n",
        "gcs= pyarrow.fs.GcsFileSystem(anonymous=False)"
      ],
      "metadata": {
        "id": "rbDB_z-RI0FR"
      },
      "execution_count": null,
      "outputs": []
    },
    {
      "cell_type": "code",
      "source": [
        "# Mở file trên google cloud storage và đọc file (ghi trực tiếp)\n",
        "import pyarrow.fs\n",
        "\n",
        "gcs= pyarrow.fs.GcsFileSystem(anonymous=False)\n",
        "gs_path = \"aggregate-data/json/c6bfa982-3933-11ee-800c-56934cb9d3ad.json\"\n",
        "my_file = gcs.open_input_stream(gs_path)\n",
        "\n",
        "schema = pyarrow.schema([\n",
        "    ('event_id', pyarrow.string()),\n",
        "    ('event_type', pyarrow.string()),\n",
        "    ('timestamp', pyarrow.string()),\n",
        "    ('user_id', pyarrow.int64()),\n",
        "    ('location', pyarrow.string()),\n",
        "    ('device', pyarrow.string()),\n",
        "    ('ip_address', pyarrow.string()),\n",
        "    ('event_attribute', pyarrow.list_(pyarrow.struct([\n",
        "        ('key', pyarrow.string()),\n",
        "        ('int_value', pyarrow.int64()),\n",
        "        ('float_value', pyarrow.float64()),\n",
        "        ('string_value', pyarrow.string()),\n",
        "        ('bool_value', pyarrow.bool_())\n",
        "    ])))\n",
        "])\n",
        "\n",
        "parse_opt = pyarrow.json.ParseOptions(\n",
        "    explicit_schema = schema\n",
        ")\n",
        "\n",
        "table = pyarrow.json.read_json(my_file,parse_options=parse_opt)"
      ],
      "metadata": {
        "id": "fMwP8bgHI7qE"
      },
      "execution_count": null,
      "outputs": []
    },
    {
      "cell_type": "code",
      "source": [
        "# Ghi ra dataset file\n",
        "pyarrow.parquet.write_to_dataset(table,\n",
        "                                root_path='demo01_processing/aggregate-data/event_info_dataset',\n",
        "                                partition_cols=['event_type', 'user_id'],\n",
        "                                filesystem=gcs)"
      ],
      "metadata": {
        "id": "XLmQL4HOKvPi"
      },
      "execution_count": null,
      "outputs": []
    },
    {
      "cell_type": "code",
      "source": [
        "pyarrow.parquet.read_table(\"./event_info_dataset\")"
      ],
      "metadata": {
        "id": "DNoZi767NErI"
      },
      "execution_count": null,
      "outputs": []
    },
    {
      "cell_type": "code",
      "source": [
        "import pyarrow.json as pj\n",
        "import pyarrow.parquet as pq\n",
        "\n",
        "input_json_file = '/content/cleanedd.json'\n",
        "table = pj.read_json(input_json_file)\n",
        "output_parquet_file = '/content/output.parquet'\n",
        "pq.write_table(table, output_parquet_file)"
      ],
      "metadata": {
        "colab": {
          "base_uri": "https://localhost:8080/",
          "height": 269
        },
        "id": "_gMBM6fyYx2Q",
        "outputId": "d4589b57-b535-4746-fc66-7dac966fca93"
      },
      "execution_count": null,
      "outputs": [
        {
          "output_type": "error",
          "ename": "ArrowInvalid",
          "evalue": "JSON parse error: Column() changed from object to array in row 0",
          "traceback": [
            "\u001b[0;31m---------------------------------------------------------------------------\u001b[0m",
            "\u001b[0;31mArrowInvalid\u001b[0m                              Traceback (most recent call last)",
            "\u001b[0;32m<ipython-input-6-2fa59d6e6618>\u001b[0m in \u001b[0;36m<cell line: 5>\u001b[0;34m()\u001b[0m\n\u001b[1;32m      3\u001b[0m \u001b[0;34m\u001b[0m\u001b[0m\n\u001b[1;32m      4\u001b[0m \u001b[0minput_json_file\u001b[0m \u001b[0;34m=\u001b[0m \u001b[0;34m'/content/cleanedd.json'\u001b[0m\u001b[0;34m\u001b[0m\u001b[0;34m\u001b[0m\u001b[0m\n\u001b[0;32m----> 5\u001b[0;31m \u001b[0mtable\u001b[0m \u001b[0;34m=\u001b[0m \u001b[0mpj\u001b[0m\u001b[0;34m.\u001b[0m\u001b[0mread_json\u001b[0m\u001b[0;34m(\u001b[0m\u001b[0minput_json_file\u001b[0m\u001b[0;34m)\u001b[0m\u001b[0;34m\u001b[0m\u001b[0;34m\u001b[0m\u001b[0m\n\u001b[0m\u001b[1;32m      6\u001b[0m \u001b[0moutput_parquet_file\u001b[0m \u001b[0;34m=\u001b[0m \u001b[0;34m'/content/output.parquet'\u001b[0m\u001b[0;34m\u001b[0m\u001b[0;34m\u001b[0m\u001b[0m\n\u001b[1;32m      7\u001b[0m \u001b[0mpq\u001b[0m\u001b[0;34m.\u001b[0m\u001b[0mwrite_table\u001b[0m\u001b[0;34m(\u001b[0m\u001b[0mtable\u001b[0m\u001b[0;34m,\u001b[0m \u001b[0moutput_parquet_file\u001b[0m\u001b[0;34m)\u001b[0m\u001b[0;34m\u001b[0m\u001b[0;34m\u001b[0m\u001b[0m\n",
            "\u001b[0;32m/usr/local/lib/python3.10/dist-packages/pyarrow/_json.pyx\u001b[0m in \u001b[0;36mpyarrow._json.read_json\u001b[0;34m()\u001b[0m\n",
            "\u001b[0;32m/usr/local/lib/python3.10/dist-packages/pyarrow/error.pxi\u001b[0m in \u001b[0;36mpyarrow.lib.pyarrow_internal_check_status\u001b[0;34m()\u001b[0m\n",
            "\u001b[0;32m/usr/local/lib/python3.10/dist-packages/pyarrow/error.pxi\u001b[0m in \u001b[0;36mpyarrow.lib.check_status\u001b[0;34m()\u001b[0m\n",
            "\u001b[0;31mArrowInvalid\u001b[0m: JSON parse error: Column() changed from object to array in row 0"
          ]
        }
      ]
    },
    {
      "cell_type": "markdown",
      "metadata": {
        "id": "WRC-PaR9Am1P"
      },
      "source": [
        "# Problem :\n",
        "- Pyarrow chỉ Overwrite dataset\n",
        "- Work arround:\n",
        "    - Lưu data theo path year/month/day\n",
        "    - Parse Timestamp thành cột year/month/day\n"
      ]
    },
    {
      "cell_type": "markdown",
      "metadata": {
        "id": "U5inxEIYQYb3"
      },
      "source": [
        "# Pandas và pyarrow\n",
        "\n",
        "Pandas 2.0 có hỗ trợ pyarrow engine\n"
      ]
    },
    {
      "cell_type": "code",
      "execution_count": null,
      "metadata": {
        "id": "z9c1qPA3Qd2E"
      },
      "outputs": [],
      "source": [
        "# !pip install --upgrade\n",
        "!pip install pandas==2.0"
      ]
    },
    {
      "cell_type": "code",
      "source": [
        "import pandas as pd\n",
        "\n",
        "df = pd.read_json(\"/content/cleanedd.json\")\n",
        "df"
      ],
      "metadata": {
        "colab": {
          "base_uri": "https://localhost:8080/",
          "height": 597
        },
        "id": "0wUQxYxsqVC1",
        "outputId": "152c179b-dec4-4ad3-bdea-7f17210671ad"
      },
      "execution_count": null,
      "outputs": [
        {
          "output_type": "execute_result",
          "data": {
            "text/plain": [
              "                                             Link  \\\n",
              "0     https://swe.vn/products/24-jersey-tee-white   \n",
              "1     https://swe.vn/products/crew-neck-tee-black   \n",
              "2     https://swe.vn/products/pleated-pants-black   \n",
              "3         https://swe.vn/products/patch-tee-white   \n",
              "4         https://swe.vn/products/patch-tee-black   \n",
              "..                                            ...   \n",
              "122          https://swe.vn/products/frayed-jeans   \n",
              "123  https://swe.vn/products/8th-washed-tee-black   \n",
              "124   https://swe.vn/products/8th-washed-tee-blue   \n",
              "125         https://swe.vn/products/24-polo-cream   \n",
              "126         https://swe.vn/products/24-polo-black   \n",
              "\n",
              "                            Name     Price           Size  \\\n",
              "0          24 JERSEY TEE - WHITE  280,000₫  [S, M, L, XL]   \n",
              "1          CREW NECK TEE - BLACK  221,000₫  [S, M, L, XL]   \n",
              "2          PLEATED PANTS - BLACK  550,000₫      [S, M, L]   \n",
              "3              PATCH TEE - WHITE  273,000₫  [S, M, L, XL]   \n",
              "4              PATCH TEE - BLACK  273,000₫  [S, M, L, XL]   \n",
              "..                           ...       ...            ...   \n",
              "122                 FRAYED JEANS  648,000₫  [S, M, L, XL]   \n",
              "123       8TH WASHED TEE - BLACK  480,000₫  [S, M, L, XL]   \n",
              "124  8TH WASHED TEE - STORM BLUE  480,000₫  [S, M, L, XL]   \n",
              "125              24 POLO - CREAM  500,000₫  [S, M, L, XL]   \n",
              "126              24 POLO - BLACK  500,000₫  [S, M, L, XL]   \n",
              "\n",
              "                                                 Image Detail  \n",
              "0    [//product.hstatic.net/1000344185/product/6ee0...    NaN  \n",
              "1    [//product.hstatic.net/1000344185/product/1__1...    NaN  \n",
              "2    [//product.hstatic.net/1000344185/product/1__2...    NaN  \n",
              "3    [//product.hstatic.net/1000344185/product/1_d5...    NaN  \n",
              "4    [//product.hstatic.net/1000344185/product/1_82...    NaN  \n",
              "..                                                 ...    ...  \n",
              "122  [//product.hstatic.net/1000344185/product/1_3f...    NaN  \n",
              "123  [//product.hstatic.net/1000344185/product/af16...    NaN  \n",
              "124  [//product.hstatic.net/1000344185/product/1_1a...    NaN  \n",
              "125  [//product.hstatic.net/1000344185/product/1_18...    NaN  \n",
              "126  [//product.hstatic.net/1000344185/product/1c12...    NaN  \n",
              "\n",
              "[127 rows x 6 columns]"
            ],
            "text/html": [
              "\n",
              "  <div id=\"df-0a645868-e2de-4f2c-b097-227e63c5961b\" class=\"colab-df-container\">\n",
              "    <div>\n",
              "<style scoped>\n",
              "    .dataframe tbody tr th:only-of-type {\n",
              "        vertical-align: middle;\n",
              "    }\n",
              "\n",
              "    .dataframe tbody tr th {\n",
              "        vertical-align: top;\n",
              "    }\n",
              "\n",
              "    .dataframe thead th {\n",
              "        text-align: right;\n",
              "    }\n",
              "</style>\n",
              "<table border=\"1\" class=\"dataframe\">\n",
              "  <thead>\n",
              "    <tr style=\"text-align: right;\">\n",
              "      <th></th>\n",
              "      <th>Link</th>\n",
              "      <th>Name</th>\n",
              "      <th>Price</th>\n",
              "      <th>Size</th>\n",
              "      <th>Image</th>\n",
              "      <th>Detail</th>\n",
              "    </tr>\n",
              "  </thead>\n",
              "  <tbody>\n",
              "    <tr>\n",
              "      <th>0</th>\n",
              "      <td>https://swe.vn/products/24-jersey-tee-white</td>\n",
              "      <td>24 JERSEY TEE - WHITE</td>\n",
              "      <td>280,000₫</td>\n",
              "      <td>[S, M, L, XL]</td>\n",
              "      <td>[//product.hstatic.net/1000344185/product/6ee0...</td>\n",
              "      <td>NaN</td>\n",
              "    </tr>\n",
              "    <tr>\n",
              "      <th>1</th>\n",
              "      <td>https://swe.vn/products/crew-neck-tee-black</td>\n",
              "      <td>CREW NECK TEE - BLACK</td>\n",
              "      <td>221,000₫</td>\n",
              "      <td>[S, M, L, XL]</td>\n",
              "      <td>[//product.hstatic.net/1000344185/product/1__1...</td>\n",
              "      <td>NaN</td>\n",
              "    </tr>\n",
              "    <tr>\n",
              "      <th>2</th>\n",
              "      <td>https://swe.vn/products/pleated-pants-black</td>\n",
              "      <td>PLEATED PANTS - BLACK</td>\n",
              "      <td>550,000₫</td>\n",
              "      <td>[S, M, L]</td>\n",
              "      <td>[//product.hstatic.net/1000344185/product/1__2...</td>\n",
              "      <td>NaN</td>\n",
              "    </tr>\n",
              "    <tr>\n",
              "      <th>3</th>\n",
              "      <td>https://swe.vn/products/patch-tee-white</td>\n",
              "      <td>PATCH TEE - WHITE</td>\n",
              "      <td>273,000₫</td>\n",
              "      <td>[S, M, L, XL]</td>\n",
              "      <td>[//product.hstatic.net/1000344185/product/1_d5...</td>\n",
              "      <td>NaN</td>\n",
              "    </tr>\n",
              "    <tr>\n",
              "      <th>4</th>\n",
              "      <td>https://swe.vn/products/patch-tee-black</td>\n",
              "      <td>PATCH TEE - BLACK</td>\n",
              "      <td>273,000₫</td>\n",
              "      <td>[S, M, L, XL]</td>\n",
              "      <td>[//product.hstatic.net/1000344185/product/1_82...</td>\n",
              "      <td>NaN</td>\n",
              "    </tr>\n",
              "    <tr>\n",
              "      <th>...</th>\n",
              "      <td>...</td>\n",
              "      <td>...</td>\n",
              "      <td>...</td>\n",
              "      <td>...</td>\n",
              "      <td>...</td>\n",
              "      <td>...</td>\n",
              "    </tr>\n",
              "    <tr>\n",
              "      <th>122</th>\n",
              "      <td>https://swe.vn/products/frayed-jeans</td>\n",
              "      <td>FRAYED JEANS</td>\n",
              "      <td>648,000₫</td>\n",
              "      <td>[S, M, L, XL]</td>\n",
              "      <td>[//product.hstatic.net/1000344185/product/1_3f...</td>\n",
              "      <td>NaN</td>\n",
              "    </tr>\n",
              "    <tr>\n",
              "      <th>123</th>\n",
              "      <td>https://swe.vn/products/8th-washed-tee-black</td>\n",
              "      <td>8TH WASHED TEE - BLACK</td>\n",
              "      <td>480,000₫</td>\n",
              "      <td>[S, M, L, XL]</td>\n",
              "      <td>[//product.hstatic.net/1000344185/product/af16...</td>\n",
              "      <td>NaN</td>\n",
              "    </tr>\n",
              "    <tr>\n",
              "      <th>124</th>\n",
              "      <td>https://swe.vn/products/8th-washed-tee-blue</td>\n",
              "      <td>8TH WASHED TEE - STORM BLUE</td>\n",
              "      <td>480,000₫</td>\n",
              "      <td>[S, M, L, XL]</td>\n",
              "      <td>[//product.hstatic.net/1000344185/product/1_1a...</td>\n",
              "      <td>NaN</td>\n",
              "    </tr>\n",
              "    <tr>\n",
              "      <th>125</th>\n",
              "      <td>https://swe.vn/products/24-polo-cream</td>\n",
              "      <td>24 POLO - CREAM</td>\n",
              "      <td>500,000₫</td>\n",
              "      <td>[S, M, L, XL]</td>\n",
              "      <td>[//product.hstatic.net/1000344185/product/1_18...</td>\n",
              "      <td>NaN</td>\n",
              "    </tr>\n",
              "    <tr>\n",
              "      <th>126</th>\n",
              "      <td>https://swe.vn/products/24-polo-black</td>\n",
              "      <td>24 POLO - BLACK</td>\n",
              "      <td>500,000₫</td>\n",
              "      <td>[S, M, L, XL]</td>\n",
              "      <td>[//product.hstatic.net/1000344185/product/1c12...</td>\n",
              "      <td>NaN</td>\n",
              "    </tr>\n",
              "  </tbody>\n",
              "</table>\n",
              "<p>127 rows × 6 columns</p>\n",
              "</div>\n",
              "    <div class=\"colab-df-buttons\">\n",
              "\n",
              "  <div class=\"colab-df-container\">\n",
              "    <button class=\"colab-df-convert\" onclick=\"convertToInteractive('df-0a645868-e2de-4f2c-b097-227e63c5961b')\"\n",
              "            title=\"Convert this dataframe to an interactive table.\"\n",
              "            style=\"display:none;\">\n",
              "\n",
              "  <svg xmlns=\"http://www.w3.org/2000/svg\" height=\"24px\" viewBox=\"0 -960 960 960\">\n",
              "    <path d=\"M120-120v-720h720v720H120Zm60-500h600v-160H180v160Zm220 220h160v-160H400v160Zm0 220h160v-160H400v160ZM180-400h160v-160H180v160Zm440 0h160v-160H620v160ZM180-180h160v-160H180v160Zm440 0h160v-160H620v160Z\"/>\n",
              "  </svg>\n",
              "    </button>\n",
              "\n",
              "  <style>\n",
              "    .colab-df-container {\n",
              "      display:flex;\n",
              "      gap: 12px;\n",
              "    }\n",
              "\n",
              "    .colab-df-convert {\n",
              "      background-color: #E8F0FE;\n",
              "      border: none;\n",
              "      border-radius: 50%;\n",
              "      cursor: pointer;\n",
              "      display: none;\n",
              "      fill: #1967D2;\n",
              "      height: 32px;\n",
              "      padding: 0 0 0 0;\n",
              "      width: 32px;\n",
              "    }\n",
              "\n",
              "    .colab-df-convert:hover {\n",
              "      background-color: #E2EBFA;\n",
              "      box-shadow: 0px 1px 2px rgba(60, 64, 67, 0.3), 0px 1px 3px 1px rgba(60, 64, 67, 0.15);\n",
              "      fill: #174EA6;\n",
              "    }\n",
              "\n",
              "    .colab-df-buttons div {\n",
              "      margin-bottom: 4px;\n",
              "    }\n",
              "\n",
              "    [theme=dark] .colab-df-convert {\n",
              "      background-color: #3B4455;\n",
              "      fill: #D2E3FC;\n",
              "    }\n",
              "\n",
              "    [theme=dark] .colab-df-convert:hover {\n",
              "      background-color: #434B5C;\n",
              "      box-shadow: 0px 1px 3px 1px rgba(0, 0, 0, 0.15);\n",
              "      filter: drop-shadow(0px 1px 2px rgba(0, 0, 0, 0.3));\n",
              "      fill: #FFFFFF;\n",
              "    }\n",
              "  </style>\n",
              "\n",
              "    <script>\n",
              "      const buttonEl =\n",
              "        document.querySelector('#df-0a645868-e2de-4f2c-b097-227e63c5961b button.colab-df-convert');\n",
              "      buttonEl.style.display =\n",
              "        google.colab.kernel.accessAllowed ? 'block' : 'none';\n",
              "\n",
              "      async function convertToInteractive(key) {\n",
              "        const element = document.querySelector('#df-0a645868-e2de-4f2c-b097-227e63c5961b');\n",
              "        const dataTable =\n",
              "          await google.colab.kernel.invokeFunction('convertToInteractive',\n",
              "                                                    [key], {});\n",
              "        if (!dataTable) return;\n",
              "\n",
              "        const docLinkHtml = 'Like what you see? Visit the ' +\n",
              "          '<a target=\"_blank\" href=https://colab.research.google.com/notebooks/data_table.ipynb>data table notebook</a>'\n",
              "          + ' to learn more about interactive tables.';\n",
              "        element.innerHTML = '';\n",
              "        dataTable['output_type'] = 'display_data';\n",
              "        await google.colab.output.renderOutput(dataTable, element);\n",
              "        const docLink = document.createElement('div');\n",
              "        docLink.innerHTML = docLinkHtml;\n",
              "        element.appendChild(docLink);\n",
              "      }\n",
              "    </script>\n",
              "  </div>\n",
              "\n",
              "\n",
              "<div id=\"df-5d141b4c-9b63-49f1-8728-31a89a2ece3c\">\n",
              "  <button class=\"colab-df-quickchart\" onclick=\"quickchart('df-5d141b4c-9b63-49f1-8728-31a89a2ece3c')\"\n",
              "            title=\"Suggest charts\"\n",
              "            style=\"display:none;\">\n",
              "\n",
              "<svg xmlns=\"http://www.w3.org/2000/svg\" height=\"24px\"viewBox=\"0 0 24 24\"\n",
              "     width=\"24px\">\n",
              "    <g>\n",
              "        <path d=\"M19 3H5c-1.1 0-2 .9-2 2v14c0 1.1.9 2 2 2h14c1.1 0 2-.9 2-2V5c0-1.1-.9-2-2-2zM9 17H7v-7h2v7zm4 0h-2V7h2v10zm4 0h-2v-4h2v4z\"/>\n",
              "    </g>\n",
              "</svg>\n",
              "  </button>\n",
              "\n",
              "<style>\n",
              "  .colab-df-quickchart {\n",
              "      --bg-color: #E8F0FE;\n",
              "      --fill-color: #1967D2;\n",
              "      --hover-bg-color: #E2EBFA;\n",
              "      --hover-fill-color: #174EA6;\n",
              "      --disabled-fill-color: #AAA;\n",
              "      --disabled-bg-color: #DDD;\n",
              "  }\n",
              "\n",
              "  [theme=dark] .colab-df-quickchart {\n",
              "      --bg-color: #3B4455;\n",
              "      --fill-color: #D2E3FC;\n",
              "      --hover-bg-color: #434B5C;\n",
              "      --hover-fill-color: #FFFFFF;\n",
              "      --disabled-bg-color: #3B4455;\n",
              "      --disabled-fill-color: #666;\n",
              "  }\n",
              "\n",
              "  .colab-df-quickchart {\n",
              "    background-color: var(--bg-color);\n",
              "    border: none;\n",
              "    border-radius: 50%;\n",
              "    cursor: pointer;\n",
              "    display: none;\n",
              "    fill: var(--fill-color);\n",
              "    height: 32px;\n",
              "    padding: 0;\n",
              "    width: 32px;\n",
              "  }\n",
              "\n",
              "  .colab-df-quickchart:hover {\n",
              "    background-color: var(--hover-bg-color);\n",
              "    box-shadow: 0 1px 2px rgba(60, 64, 67, 0.3), 0 1px 3px 1px rgba(60, 64, 67, 0.15);\n",
              "    fill: var(--button-hover-fill-color);\n",
              "  }\n",
              "\n",
              "  .colab-df-quickchart-complete:disabled,\n",
              "  .colab-df-quickchart-complete:disabled:hover {\n",
              "    background-color: var(--disabled-bg-color);\n",
              "    fill: var(--disabled-fill-color);\n",
              "    box-shadow: none;\n",
              "  }\n",
              "\n",
              "  .colab-df-spinner {\n",
              "    border: 2px solid var(--fill-color);\n",
              "    border-color: transparent;\n",
              "    border-bottom-color: var(--fill-color);\n",
              "    animation:\n",
              "      spin 1s steps(1) infinite;\n",
              "  }\n",
              "\n",
              "  @keyframes spin {\n",
              "    0% {\n",
              "      border-color: transparent;\n",
              "      border-bottom-color: var(--fill-color);\n",
              "      border-left-color: var(--fill-color);\n",
              "    }\n",
              "    20% {\n",
              "      border-color: transparent;\n",
              "      border-left-color: var(--fill-color);\n",
              "      border-top-color: var(--fill-color);\n",
              "    }\n",
              "    30% {\n",
              "      border-color: transparent;\n",
              "      border-left-color: var(--fill-color);\n",
              "      border-top-color: var(--fill-color);\n",
              "      border-right-color: var(--fill-color);\n",
              "    }\n",
              "    40% {\n",
              "      border-color: transparent;\n",
              "      border-right-color: var(--fill-color);\n",
              "      border-top-color: var(--fill-color);\n",
              "    }\n",
              "    60% {\n",
              "      border-color: transparent;\n",
              "      border-right-color: var(--fill-color);\n",
              "    }\n",
              "    80% {\n",
              "      border-color: transparent;\n",
              "      border-right-color: var(--fill-color);\n",
              "      border-bottom-color: var(--fill-color);\n",
              "    }\n",
              "    90% {\n",
              "      border-color: transparent;\n",
              "      border-bottom-color: var(--fill-color);\n",
              "    }\n",
              "  }\n",
              "</style>\n",
              "\n",
              "  <script>\n",
              "    async function quickchart(key) {\n",
              "      const quickchartButtonEl =\n",
              "        document.querySelector('#' + key + ' button');\n",
              "      quickchartButtonEl.disabled = true;  // To prevent multiple clicks.\n",
              "      quickchartButtonEl.classList.add('colab-df-spinner');\n",
              "      try {\n",
              "        const charts = await google.colab.kernel.invokeFunction(\n",
              "            'suggestCharts', [key], {});\n",
              "      } catch (error) {\n",
              "        console.error('Error during call to suggestCharts:', error);\n",
              "      }\n",
              "      quickchartButtonEl.classList.remove('colab-df-spinner');\n",
              "      quickchartButtonEl.classList.add('colab-df-quickchart-complete');\n",
              "    }\n",
              "    (() => {\n",
              "      let quickchartButtonEl =\n",
              "        document.querySelector('#df-5d141b4c-9b63-49f1-8728-31a89a2ece3c button');\n",
              "      quickchartButtonEl.style.display =\n",
              "        google.colab.kernel.accessAllowed ? 'block' : 'none';\n",
              "    })();\n",
              "  </script>\n",
              "</div>\n",
              "\n",
              "  <div id=\"id_9dc1f866-df51-4927-bfa6-b14437767d1e\">\n",
              "    <style>\n",
              "      .colab-df-generate {\n",
              "        background-color: #E8F0FE;\n",
              "        border: none;\n",
              "        border-radius: 50%;\n",
              "        cursor: pointer;\n",
              "        display: none;\n",
              "        fill: #1967D2;\n",
              "        height: 32px;\n",
              "        padding: 0 0 0 0;\n",
              "        width: 32px;\n",
              "      }\n",
              "\n",
              "      .colab-df-generate:hover {\n",
              "        background-color: #E2EBFA;\n",
              "        box-shadow: 0px 1px 2px rgba(60, 64, 67, 0.3), 0px 1px 3px 1px rgba(60, 64, 67, 0.15);\n",
              "        fill: #174EA6;\n",
              "      }\n",
              "\n",
              "      [theme=dark] .colab-df-generate {\n",
              "        background-color: #3B4455;\n",
              "        fill: #D2E3FC;\n",
              "      }\n",
              "\n",
              "      [theme=dark] .colab-df-generate:hover {\n",
              "        background-color: #434B5C;\n",
              "        box-shadow: 0px 1px 3px 1px rgba(0, 0, 0, 0.15);\n",
              "        filter: drop-shadow(0px 1px 2px rgba(0, 0, 0, 0.3));\n",
              "        fill: #FFFFFF;\n",
              "      }\n",
              "    </style>\n",
              "    <button class=\"colab-df-generate\" onclick=\"generateWithVariable('df')\"\n",
              "            title=\"Generate code using this dataframe.\"\n",
              "            style=\"display:none;\">\n",
              "\n",
              "  <svg xmlns=\"http://www.w3.org/2000/svg\" height=\"24px\"viewBox=\"0 0 24 24\"\n",
              "       width=\"24px\">\n",
              "    <path d=\"M7,19H8.4L18.45,9,17,7.55,7,17.6ZM5,21V16.75L18.45,3.32a2,2,0,0,1,2.83,0l1.4,1.43a1.91,1.91,0,0,1,.58,1.4,1.91,1.91,0,0,1-.58,1.4L9.25,21ZM18.45,9,17,7.55Zm-12,3A5.31,5.31,0,0,0,4.9,8.1,5.31,5.31,0,0,0,1,6.5,5.31,5.31,0,0,0,4.9,4.9,5.31,5.31,0,0,0,6.5,1,5.31,5.31,0,0,0,8.1,4.9,5.31,5.31,0,0,0,12,6.5,5.46,5.46,0,0,0,6.5,12Z\"/>\n",
              "  </svg>\n",
              "    </button>\n",
              "    <script>\n",
              "      (() => {\n",
              "      const buttonEl =\n",
              "        document.querySelector('#id_9dc1f866-df51-4927-bfa6-b14437767d1e button.colab-df-generate');\n",
              "      buttonEl.style.display =\n",
              "        google.colab.kernel.accessAllowed ? 'block' : 'none';\n",
              "\n",
              "      buttonEl.onclick = () => {\n",
              "        google.colab.notebook.generateWithVariable('df');\n",
              "      }\n",
              "      })();\n",
              "    </script>\n",
              "  </div>\n",
              "\n",
              "    </div>\n",
              "  </div>\n"
            ],
            "application/vnd.google.colaboratory.intrinsic+json": {
              "type": "dataframe",
              "variable_name": "df",
              "summary": "{\n  \"name\": \"df\",\n  \"rows\": 127,\n  \"fields\": [\n    {\n      \"column\": \"Link\",\n      \"properties\": {\n        \"dtype\": \"string\",\n        \"num_unique_values\": 127,\n        \"samples\": [\n          \"https://swe.vn/products/swe-boxer-briefs\",\n          \"https://swe.vn/products/ily-tee-black\",\n          \"https://swe.vn/products/ripped-cargo-jeans-black\"\n        ],\n        \"semantic_type\": \"\",\n        \"description\": \"\"\n      }\n    },\n    {\n      \"column\": \"Name\",\n      \"properties\": {\n        \"dtype\": \"string\",\n        \"num_unique_values\": 127,\n        \"samples\": [\n          \"SWE BOXER BRIEFS - BLACK\",\n          \"ILY TEE - BLACK\",\n          \"RIPPED CARGO JEANS - BLACK\"\n        ],\n        \"semantic_type\": \"\",\n        \"description\": \"\"\n      }\n    },\n    {\n      \"column\": \"Price\",\n      \"properties\": {\n        \"dtype\": \"string\",\n        \"num_unique_values\": 68,\n        \"samples\": [\n          \"390,000\\u20ab\",\n          \"180,000\\u20ab\",\n          \"420,000\\u20ab\"\n        ],\n        \"semantic_type\": \"\",\n        \"description\": \"\"\n      }\n    },\n    {\n      \"column\": \"Size\",\n      \"properties\": {\n        \"dtype\": \"object\",\n        \"semantic_type\": \"\",\n        \"description\": \"\"\n      }\n    },\n    {\n      \"column\": \"Image\",\n      \"properties\": {\n        \"dtype\": \"object\",\n        \"semantic_type\": \"\",\n        \"description\": \"\"\n      }\n    },\n    {\n      \"column\": \"Detail\",\n      \"properties\": {\n        \"dtype\": \"object\",\n        \"semantic_type\": \"\",\n        \"description\": \"\"\n      }\n    }\n  ]\n}"
            }
          },
          "metadata": {},
          "execution_count": 8
        }
      ]
    },
    {
      "cell_type": "code",
      "source": [
        "import pyarrow as pa\n",
        "\n",
        "table = pa.Table.from_pandas(df)\n",
        "table"
      ],
      "metadata": {
        "colab": {
          "base_uri": "https://localhost:8080/"
        },
        "id": "7v255ZL_qy7w",
        "outputId": "2a1663ac-cf0b-4d77-a113-d34c017fe6c0"
      },
      "execution_count": null,
      "outputs": [
        {
          "output_type": "execute_result",
          "data": {
            "text/plain": [
              "pyarrow.Table\n",
              "Link: string\n",
              "Name: string\n",
              "Price: string\n",
              "Size: list<item: string>\n",
              "  child 0, item: string\n",
              "Image: list<item: string>\n",
              "  child 0, item: string\n",
              "Detail: list<item: string>\n",
              "  child 0, item: string\n",
              "----\n",
              "Link: [[\"https://swe.vn/products/24-jersey-tee-white\",\"https://swe.vn/products/crew-neck-tee-black\",\"https://swe.vn/products/pleated-pants-black\",\"https://swe.vn/products/patch-tee-white\",\"https://swe.vn/products/patch-tee-black\",...,\"https://swe.vn/products/frayed-jeans\",\"https://swe.vn/products/8th-washed-tee-black\",\"https://swe.vn/products/8th-washed-tee-blue\",\"https://swe.vn/products/24-polo-cream\",\"https://swe.vn/products/24-polo-black\"]]\n",
              "Name: [[\"24 JERSEY TEE - WHITE\",\"CREW NECK TEE - BLACK\",\"PLEATED PANTS - BLACK\",\"PATCH TEE - WHITE\",\"PATCH TEE - BLACK\",...,\"FRAYED JEANS\",\"8TH WASHED TEE - BLACK\",\"8TH WASHED TEE - STORM BLUE\",\"24 POLO - CREAM\",\"24 POLO - BLACK\"]]\n",
              "Price: [[\"280,000₫\",\"221,000₫\",\"550,000₫\",\"273,000₫\",\"273,000₫\",...,\"648,000₫\",\"480,000₫\",\"480,000₫\",\"500,000₫\",\"500,000₫\"]]\n",
              "Size: [[[\"S\",\"M\",\"L\",\"XL\"],[\"S\",\"M\",\"L\",\"XL\"],...,[\"S\",\"M\",\"L\",\"XL\"],[\"S\",\"M\",\"L\",\"XL\"]]]\n",
              "Image: [[[\"//product.hstatic.net/1000344185/product/6ee035a4-85b1-46bd-ab67-9b94db780406_243ecbf15b244581b681b222c585307c_large.jpg\",\"//product.hstatic.net/1000344185/product/2c87a6f2-b9b1-4968-a0a1-d9c84b61b41a_15e2881852524c0ca8696b56a0bdf975_large.jpg\",\"//product.hstatic.net/1000344185/product/0dd5c96a-d1bd-47da-ad3a-a7a38d8e2c41_70341336e58040c08fe1e822ecce8798_large.jpg\",\"//product.hstatic.net/1000344185/product/b3aaf129-be8a-4a9b-9755-8459e3d35275_8c1decd5c61c40eb83e40fb2493c1710_large.jpg\",\"//product.hstatic.net/1000344185/product/475d55cf-9a26-421b-83e2-cb9cf757838a_256daf6c41304941946f2ab4cff3ff67_large.jpg\",\"//product.hstatic.net/1000344185/product/1514ebcf-911c-4640-80cd-9015f051d0ad_3929f45ea0fd4b729b0f88786606091f_large.jpg\",\"//product.hstatic.net/1000344185/product/f4c7ccc7-f74f-4ee0-b9b1-315d6ec3d8e2_1df73a5531204bc4b6ff48c051526838_large.jpg\",\"//product.hstatic.net/1000344185/product/24-jersey-sc_66b58b9821dd458ca431dce498a17dd4_large.jpg\"],[\"//product.hstatic.net/1000344185/product/1__1__101ac8a5db9c49f7b807d4e8815f514d_large.jpg\",\"//product.hstatic.net/1000344185/product/2_18f34d1685c14ea38b4507cdbdbd7339_large.jpg\",\"//product.hstatic.net/1000344185/product/img_0543__1__f1b6290bb47a4e958394f6c02df2ad71_large.jpg\",\"//product.hstatic.net/1000344185/product/img_0547_e14386fed40141c2b2c9cb6557660082_large.jpg\",\"//product.hstatic.net/1000344185/product/crewneck-sc-black_400ffe2e92d6438eb5ce6ce5f435fa11_large.jpg\"],...,[\"//product.hstatic.net/1000344185/product/1_185924569f104d629b63da16887c8039_large.jpg\",\"//product.hstatic.net/1000344185/product/2_f17d68047b324c0d9e7effd418007544_large.jpg\",\"//product.hstatic.net/1000344185/product/img_7779_d6290b73bc494845854a22bcbb348345_large.jpg\",\"//product.hstatic.net/1000344185/product/img_7780_46bdbba08281436e8031d447aff16365_large.jpg\",\"//product.hstatic.net/1000344185/product/img_7783_1a92fc5629604128a75d97d8776971c2_large.jpg\",\"//product.hstatic.net/1000344185/product/img_7785_e65021a600354261968b4e3f41220e10_large.jpg\",\"//product.hstatic.net/1000344185/product/img_7786_30cbb16e78d347ca90cca0360e7ac962_large.jpg\",\"//product.hstatic.net/1000344185/product/24-polo-sc-1_950179605e6344c3bea379f5847299a1_large.jpg\"],[\"//product.hstatic.net/1000344185/product/1c12f7d4-a376-463b-97eb-01f3cb8d35e3_55814aabe1d046249afc7052343438e2_large.jpg\",\"//product.hstatic.net/1000344185/product/0352b8b7-25b5-48eb-931e-88a774f96426_dc570ada2bb647c98e9924b7bec28e6e_large.jpg\",\"//product.hstatic.net/1000344185/product/dc66b9ed-c306-4b08-ac4b-6660277a0c58_cc27ce3f841d449694daf03d3e0bcc58_large.jpg\",\"//product.hstatic.net/1000344185/product/ebc0f651-a226-4dd3-b190-4265fced162d_66fb190839604bf8948211c9b804ab12_large.jpg\",\"//product.hstatic.net/1000344185/product/4cda8613-8e4c-4c05-9b91-ef03d01e4e45_eae1bb518eba4d2c9c072f828069b392_large.jpg\",\"//product.hstatic.net/1000344185/product/70a8bfd1-cae0-4a68-8298-f6ad9e1c4ed6_42ed8279817f4645b7c5aa3452bdfad3_large.jpg\",\"//product.hstatic.net/1000344185/product/2c5b48f7-27e1-4a52-9887-b3f1df95c9d8_677c1aea12f74d9a882004b2deb85481_large.jpg\",\"//product.hstatic.net/1000344185/product/24-polo-sc-2_e13f613dc9aa49bc992c67344e79aaef_large.jpg\"]]]\n",
              "Detail: [[null,null,...,null,null]]"
            ]
          },
          "metadata": {},
          "execution_count": 9
        }
      ]
    },
    {
      "cell_type": "code",
      "source": [
        "import pyarrow.parquet as pq\n",
        "\n",
        "pq.write_table(table, 'NguyenNhatKhanh_First.parquet', compression='snappy')"
      ],
      "metadata": {
        "id": "zBhuo8uJq96U"
      },
      "execution_count": null,
      "outputs": []
    },
    {
      "cell_type": "code",
      "source": [
        "GCS_BLOB_NAME = \"NguyenNhatKhanh_First.parquet\"\n",
        "blob = bucket.blob(GCS_BLOB_NAME)\n",
        "blob"
      ],
      "metadata": {
        "colab": {
          "base_uri": "https://localhost:8080/"
        },
        "id": "w9DLqOFbr-Ns",
        "outputId": "d081500f-34d0-4ef3-e9e0-f4b86b0049dc"
      },
      "execution_count": null,
      "outputs": [
        {
          "output_type": "execute_result",
          "data": {
            "text/plain": [
              "<Blob: tk01_nguyennhatkhanh, NguyenNhatKhanh_First.parquet, None>"
            ]
          },
          "metadata": {},
          "execution_count": 16
        }
      ]
    },
    {
      "cell_type": "code",
      "source": [
        "blob.upload_from_filename(\"/content/NguyenNhatKhanh_First.parquet\")"
      ],
      "metadata": {
        "id": "pxJD9mGDs5fc"
      },
      "execution_count": null,
      "outputs": []
    },
    {
      "cell_type": "code",
      "source": [
        "import pandas as pd\n",
        "\n",
        "\n",
        "pd.read_parquet(\"./table.parquet\",engine = \"pyarrow\")\n",
        "\n",
        "# Convert Pyarrow sang pandas\n",
        "df = table.to_pandas( types_mapper = pd.ArrowDtype)\n",
        "df"
      ],
      "metadata": {
        "id": "finjws43LVJL"
      },
      "execution_count": null,
      "outputs": []
    },
    {
      "cell_type": "code",
      "source": [
        "\n",
        "df['timestamp'] = df['timestamp'].astype(str)\n",
        "df['datetime'] = df['timestamp'].str.split(\" \").map(lambda x: x[0])\n",
        "df['year'] = df['datetime'].str.split(\"-\").map(lambda x: x[0])\n",
        "df['month'] = df['datetime'].str.split(\"-\").map(lambda x: x[1])\n",
        "df['day'] = df['datetime'].str.split(\"-\").map(lambda x: x[2])\n",
        "\n",
        "new_table = pyarrow.Table.from_pandas(df)\n",
        "\n",
        "pyarrow.parquet.write_to_dataset(new_table,\n",
        "                                root_path='mmo_event_processing/gold-zone/event_info_dataset',\n",
        "                                partition_cols=['year','month','day'],\n",
        "                                filesystem=gcs)"
      ],
      "metadata": {
        "id": "ri0U4fFKKxii"
      },
      "execution_count": null,
      "outputs": []
    },
    {
      "cell_type": "code",
      "source": [],
      "metadata": {
        "id": "RLPTJ7itLW-y"
      },
      "execution_count": null,
      "outputs": []
    },
    {
      "cell_type": "markdown",
      "metadata": {
        "id": "coNtd4z2Ayks"
      },
      "source": [
        "# Cloud Build\n",
        "\n",
        "Câu lệnh build bằng docker\n",
        "```\n",
        "docker build\n",
        "```\n",
        "\n",
        "Câu lệnh build trên cloud\n",
        "```\n",
        "gcloud builds submit --tag gcr.io/project-id/test-app-309909/simple-image:v1.0\n",
        "```\n",
        "\n",
        "```\n",
        "# cloudbuild.yaml\n",
        "steps:\n",
        "    - name: 'gcr.io/cloud-builders/docker'\n",
        "args: [ 'build', '-t','gcr.io/${_PROJECT_ID}/${_IMAGE_NAME}:${_TAG}', '.' ]\n",
        "substitutions:\n",
        "_PROJECT_ID: test-app-309909 # default value\n",
        "_IMAGE_NAME: simple-image # default value\n",
        "_TAG: v1.0\n",
        "images:\n",
        "- 'gcr.io/${_PROJECT_ID}/${_IMAGE_NAME}:${_TAG}'\n",
        "```\n",
        "\n",
        "```\n",
        "gcloud builds submit --config=cloudbuild.yaml\n",
        "```\n",
        "\n",
        "```\n",
        "gcloud builds submit \\\n",
        "        --config=cloudbuild.yaml \\\n",
        "        --substitutions=_PROJECT_ID=test-app-309909,_IMAGE_NAME=simple-image,_TAG=v1.0\n",
        "```"
      ]
    },
    {
      "cell_type": "markdown",
      "metadata": {
        "id": "2wO65s7vBTU0"
      },
      "source": [
        "# Cloud Run\n",
        "\n",
        "Câu lệnh tạo job cloud run\n",
        "```\n",
        "export PROJECT_ID=test-app-309909\n",
        "export IMAGE=simple-image\n",
        "export TAG=v1.0\n",
        "export JOB_NAME=simple-job\n",
        "export SERVICE_ACCOUNT=batch-job-service-account@test-app-309909.iam.gserviceaccount.com\n",
        "\n",
        "gcloud run jobs create ${JOB_NAME} \\\n",
        "            --region asia-east1 \\\n",
        "            --image gcr.io/${PROJECT_ID}/${IMAGE}:${TAG} \\\n",
        "            --service-account ${SERVICE_ACCOUNT}\n",
        "```"
      ]
    },
    {
      "cell_type": "markdown",
      "metadata": {
        "id": "F21QShOinX2n"
      },
      "source": [
        "# Cloud Scheduler\n",
        "\n",
        "Câu lệnh tạo cloud scheduler\n",
        "\n",
        "```\n",
        "export PROJECT_ID=test-app-309909\n",
        "export IMAGE=simple-image\n",
        "export TAG=v1.0\n",
        "export SCHEDULER_NAME=simple-scheduler\n",
        "export JOB_NAME=simple-job\n",
        "export CLOUD_RUN_REGION=asia-east1\n",
        "export SCHEDULER_REGION=asia-east1\n",
        "export SERVICE_ACCOUNT=batch-job-service-account@test-app-309909.iam.gserviceaccount.com\n",
        "\n",
        "\n",
        "gcloud scheduler jobs create http ${SCHEDULER_NAME}\\\n",
        "        --location ${SCHEDULER_REGION} \\\n",
        "        --schedule=\"* * * * *\" \\\n",
        "        --uri=\"https://${CLOUD_RUN_REGION}-run.googleapis.com/apis/run.googleapis.com/v1/namespaces/${PROJECT_ID}/jobs/${JOB_NAME}:run\" \\\n",
        "        --http-method POST \\\n",
        "        --oidc-service-account-email ${SERVICE_ACCOUNT}\n",
        "\n",
        "```"
      ]
    }
  ],
  "metadata": {
    "colab": {
      "provenance": []
    },
    "kernelspec": {
      "display_name": "Python 3",
      "name": "python3"
    },
    "language_info": {
      "name": "python"
    }
  },
  "nbformat": 4,
  "nbformat_minor": 0
}
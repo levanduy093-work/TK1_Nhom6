{
 "cells": [
  {
   "cell_type": "code",
   "execution_count": 3,
   "metadata": {},
   "outputs": [
    {
     "name": "stdout",
     "output_type": "stream",
     "text": [
      "Requirement already satisfied: google-cloud-storage in c:\\python310\\lib\\site-packages (2.16.0)\n",
      "Requirement already satisfied: google-auth<3.0dev,>=2.26.1 in c:\\python310\\lib\\site-packages (from google-cloud-storage) (2.29.0)\n",
      "Requirement already satisfied: google-api-core<3.0.0dev,>=2.15.0 in c:\\python310\\lib\\site-packages (from google-cloud-storage) (2.18.0)\n",
      "Requirement already satisfied: google-cloud-core<3.0dev,>=2.3.0 in c:\\python310\\lib\\site-packages (from google-cloud-storage) (2.3.2)\n",
      "Requirement already satisfied: google-resumable-media>=2.6.0 in c:\\python310\\lib\\site-packages (from google-cloud-storage) (2.7.0)\n",
      "Requirement already satisfied: requests<3.0.0dev,>=2.18.0 in c:\\python310\\lib\\site-packages (from google-cloud-storage) (2.28.1)\n",
      "Requirement already satisfied: google-crc32c<2.0dev,>=1.0 in c:\\python310\\lib\\site-packages (from google-cloud-storage) (1.5.0)\n",
      "Requirement already satisfied: googleapis-common-protos<2.0.dev0,>=1.56.2 in c:\\python310\\lib\\site-packages (from google-api-core<3.0.0dev,>=2.15.0->google-cloud-storage) (1.56.4)\n",
      "Requirement already satisfied: protobuf!=3.20.0,!=3.20.1,!=4.21.0,!=4.21.1,!=4.21.2,!=4.21.3,!=4.21.4,!=4.21.5,<5.0.0.dev0,>=3.19.5 in c:\\python310\\lib\\site-packages (from google-api-core<3.0.0dev,>=2.15.0->google-cloud-storage) (4.21.7)\n",
      "Requirement already satisfied: proto-plus<2.0.0dev,>=1.22.3 in c:\\python310\\lib\\site-packages (from google-api-core<3.0.0dev,>=2.15.0->google-cloud-storage) (1.23.0)\n",
      "Requirement already satisfied: cachetools<6.0,>=2.0.0 in c:\\python310\\lib\\site-packages (from google-auth<3.0dev,>=2.26.1->google-cloud-storage) (5.2.0)\n",
      "Requirement already satisfied: pyasn1-modules>=0.2.1 in c:\\python310\\lib\\site-packages (from google-auth<3.0dev,>=2.26.1->google-cloud-storage) (0.2.8)\n",
      "Requirement already satisfied: rsa<5,>=3.1.4 in c:\\python310\\lib\\site-packages (from google-auth<3.0dev,>=2.26.1->google-cloud-storage) (4.9)\n",
      "Requirement already satisfied: charset-normalizer<3,>=2 in c:\\python310\\lib\\site-packages (from requests<3.0.0dev,>=2.18.0->google-cloud-storage) (2.1.1)\n",
      "Requirement already satisfied: idna<4,>=2.5 in c:\\python310\\lib\\site-packages (from requests<3.0.0dev,>=2.18.0->google-cloud-storage) (3.4)\n",
      "Requirement already satisfied: urllib3<1.27,>=1.21.1 in c:\\python310\\lib\\site-packages (from requests<3.0.0dev,>=2.18.0->google-cloud-storage) (1.26.12)\n",
      "Requirement already satisfied: certifi>=2017.4.17 in c:\\python310\\lib\\site-packages (from requests<3.0.0dev,>=2.18.0->google-cloud-storage) (2022.9.24)\n",
      "Requirement already satisfied: pyasn1<0.5.0,>=0.4.6 in c:\\python310\\lib\\site-packages (from pyasn1-modules>=0.2.1->google-auth<3.0dev,>=2.26.1->google-cloud-storage) (0.4.8)\n"
     ]
    }
   ],
   "source": [
    "# Install the Google Cloud Storage library\n",
    "!pip install google-cloud-storage"
   ]
  },
  {
   "cell_type": "code",
   "execution_count": 4,
   "metadata": {},
   "outputs": [
    {
     "name": "stdout",
     "output_type": "stream",
     "text": [
      "Requirement already satisfied: google-cloud-storage in c:\\python310\\lib\\site-packages (2.16.0)\n",
      "Requirement already satisfied: google-auth<3.0dev,>=2.26.1 in c:\\python310\\lib\\site-packages (from google-cloud-storage) (2.29.0)\n",
      "Requirement already satisfied: google-api-core<3.0.0dev,>=2.15.0 in c:\\python310\\lib\\site-packages (from google-cloud-storage) (2.18.0)\n",
      "Requirement already satisfied: google-cloud-core<3.0dev,>=2.3.0 in c:\\python310\\lib\\site-packages (from google-cloud-storage) (2.3.2)\n",
      "Requirement already satisfied: google-resumable-media>=2.6.0 in c:\\python310\\lib\\site-packages (from google-cloud-storage) (2.7.0)\n",
      "Requirement already satisfied: requests<3.0.0dev,>=2.18.0 in c:\\python310\\lib\\site-packages (from google-cloud-storage) (2.28.1)\n",
      "Requirement already satisfied: google-crc32c<2.0dev,>=1.0 in c:\\python310\\lib\\site-packages (from google-cloud-storage) (1.5.0)\n",
      "Requirement already satisfied: googleapis-common-protos<2.0.dev0,>=1.56.2 in c:\\python310\\lib\\site-packages (from google-api-core<3.0.0dev,>=2.15.0->google-cloud-storage) (1.56.4)\n",
      "Requirement already satisfied: protobuf!=3.20.0,!=3.20.1,!=4.21.0,!=4.21.1,!=4.21.2,!=4.21.3,!=4.21.4,!=4.21.5,<5.0.0.dev0,>=3.19.5 in c:\\python310\\lib\\site-packages (from google-api-core<3.0.0dev,>=2.15.0->google-cloud-storage) (4.21.7)\n",
      "Requirement already satisfied: proto-plus<2.0.0dev,>=1.22.3 in c:\\python310\\lib\\site-packages (from google-api-core<3.0.0dev,>=2.15.0->google-cloud-storage) (1.23.0)\n",
      "Requirement already satisfied: cachetools<6.0,>=2.0.0 in c:\\python310\\lib\\site-packages (from google-auth<3.0dev,>=2.26.1->google-cloud-storage) (5.2.0)\n",
      "Requirement already satisfied: pyasn1-modules>=0.2.1 in c:\\python310\\lib\\site-packages (from google-auth<3.0dev,>=2.26.1->google-cloud-storage) (0.2.8)\n",
      "Requirement already satisfied: rsa<5,>=3.1.4 in c:\\python310\\lib\\site-packages (from google-auth<3.0dev,>=2.26.1->google-cloud-storage) (4.9)\n",
      "Requirement already satisfied: charset-normalizer<3,>=2 in c:\\python310\\lib\\site-packages (from requests<3.0.0dev,>=2.18.0->google-cloud-storage) (2.1.1)\n",
      "Requirement already satisfied: idna<4,>=2.5 in c:\\python310\\lib\\site-packages (from requests<3.0.0dev,>=2.18.0->google-cloud-storage) (3.4)\n",
      "Requirement already satisfied: urllib3<1.27,>=1.21.1 in c:\\python310\\lib\\site-packages (from requests<3.0.0dev,>=2.18.0->google-cloud-storage) (1.26.12)\n",
      "Requirement already satisfied: certifi>=2017.4.17 in c:\\python310\\lib\\site-packages (from requests<3.0.0dev,>=2.18.0->google-cloud-storage) (2022.9.24)\n",
      "Requirement already satisfied: pyasn1<0.5.0,>=0.4.6 in c:\\python310\\lib\\site-packages (from pyasn1-modules>=0.2.1->google-auth<3.0dev,>=2.26.1->google-cloud-storage) (0.4.8)\n"
     ]
    }
   ],
   "source": [
    "# Upgrade the Google Cloud Storage library\n",
    "!pip install --upgrade google-cloud-storage"
   ]
  },
  {
   "cell_type": "code",
   "execution_count": 10,
   "metadata": {},
   "outputs": [
    {
     "name": "stderr",
     "output_type": "stream",
     "text": [
      "Your browser has been opened to visit:\n",
      "\n",
      "    https://accounts.google.com/o/oauth2/auth?response_type=code&client_id=764086051850-6qr4p6gpi6hn506pt8ejuq83di341hur.apps.googleusercontent.com&redirect_uri=http%3A%2F%2Flocalhost%3A8085%2F&scope=openid+https%3A%2F%2Fwww.googleapis.com%2Fauth%2Fuserinfo.email+https%3A%2F%2Fwww.googleapis.com%2Fauth%2Fcloud-platform+https%3A%2F%2Fwww.googleapis.com%2Fauth%2Fsqlservice.login&state=VuVFG5UnVwipGMgGRF9CAkOFnpvSFW&access_type=offline&code_challenge=SOxITf24HZZmG-5TH-h2tAmlrX4j0RGhIQ9kTBfgPAg&code_challenge_method=S256\n",
      "\n",
      "\n",
      "Credentials saved to file: [C:\\Users\\ACER\\AppData\\Roaming\\gcloud\\application_default_credentials.json]\n",
      "\n",
      "These credentials will be used by any library that requests Application Default Credentials (ADC).\n",
      "WARNING: \n",
      "Cannot add the project \"balmy-component-415711\" to ADC as the quota project because the account in ADC does not have the \"serviceusage.services.use\" permission on this project. You might receive a \"quota_exceeded\" or \"API not enabled\" error. Run $ gcloud auth application-default set-quota-project to add a quota project.\n"
     ]
    }
   ],
   "source": [
    "# Login to Google Cloud\n",
    "!gcloud auth application-default login"
   ]
  },
  {
   "cell_type": "code",
   "execution_count": 11,
   "metadata": {},
   "outputs": [
    {
     "name": "stderr",
     "output_type": "stream",
     "text": [
      "Your browser has been opened to visit:\n",
      "\n",
      "    https://accounts.google.com/o/oauth2/auth?response_type=code&client_id=764086051850-6qr4p6gpi6hn506pt8ejuq83di341hur.apps.googleusercontent.com&redirect_uri=http%3A%2F%2Flocalhost%3A8085%2F&scope=openid+https%3A%2F%2Fwww.googleapis.com%2Fauth%2Fuserinfo.email+https%3A%2F%2Fwww.googleapis.com%2Fauth%2Fcloud-platform+https%3A%2F%2Fwww.googleapis.com%2Fauth%2Fsqlservice.login&state=4see4rDhNX4lY15qCadB0KmBSWfHnT&access_type=offline&code_challenge=CKXa0QAbcqkyQGf3urhU7VhrhqYxAOkYQfNchItzRv4&code_challenge_method=S256\n",
      "\n",
      "\n",
      "Credentials saved to file: [C:\\Users\\ACER\\AppData\\Roaming\\gcloud\\application_default_credentials.json]\n",
      "\n",
      "These credentials will be used by any library that requests Application Default Credentials (ADC).\n",
      "WARNING: \n",
      "Cannot add the project \"balmy-component-415711\" to ADC as the quota project because the account in ADC does not have the \"serviceusage.services.use\" permission on this project. You might receive a \"quota_exceeded\" or \"API not enabled\" error. Run $ gcloud auth application-default set-quota-project to add a quota project.\n"
     ]
    }
   ],
   "source": [
    "# Login to Google Cloud\n",
    "!gcloud auth application-default login"
   ]
  },
  {
   "cell_type": "code",
   "execution_count": 12,
   "metadata": {},
   "outputs": [
    {
     "name": "stderr",
     "output_type": "stream",
     "text": [
      "Updated property [compute/region].\n"
     ]
    }
   ],
   "source": [
    "# Update zone\n",
    "!gcloud config set compute/region asia-east1"
   ]
  },
  {
   "cell_type": "code",
   "execution_count": 14,
   "metadata": {},
   "outputs": [
    {
     "name": "stderr",
     "output_type": "stream",
     "text": [
      "Your browser has been opened to visit:\n",
      "\n",
      "    https://accounts.google.com/o/oauth2/auth?response_type=code&client_id=32555940559.apps.googleusercontent.com&redirect_uri=http%3A%2F%2Flocalhost%3A8085%2F&scope=openid+https%3A%2F%2Fwww.googleapis.com%2Fauth%2Fuserinfo.email+https%3A%2F%2Fwww.googleapis.com%2Fauth%2Fcloud-platform+https%3A%2F%2Fwww.googleapis.com%2Fauth%2Fappengine.admin+https%3A%2F%2Fwww.googleapis.com%2Fauth%2Fsqlservice.login+https%3A%2F%2Fwww.googleapis.com%2Fauth%2Fcompute+https%3A%2F%2Fwww.googleapis.com%2Fauth%2Faccounts.reauth&state=6ULSxn0EYdMWlEDftWdDKI9ReFkErH&access_type=offline&code_challenge=hhz7XNVB3hdtu2FlPnNwNXkg9XqhtUjP1ygei0ZL9Pg&code_challenge_method=S256\n",
      "\n",
      "\n",
      "You are now logged in as [quoc016872@gmail.com].\n",
      "Your current project is [balmy-component-415711].  You can change this setting by running:\n",
      "  $ gcloud config set project PROJECT_ID\n"
     ]
    }
   ],
   "source": [
    "!gcloud auth login quoc016872@gmail.com\n"
   ]
  },
  {
   "cell_type": "code",
   "execution_count": 15,
   "metadata": {},
   "outputs": [
    {
     "name": "stdout",
     "output_type": "stream",
     "text": [
      "    Credentialed Accounts\n",
      "ACTIVE  ACCOUNT\n",
      "*       quoc016872@gmail.com\n",
      "        quoc7246329@gmail.com\n"
     ]
    },
    {
     "name": "stderr",
     "output_type": "stream",
     "text": [
      "\n",
      "To set the active account, run:\n",
      "    $ gcloud config set account `ACCOUNT`\n",
      "\n"
     ]
    },
    {
     "name": "stdout",
     "output_type": "stream",
     "text": [
      "PROJECT_ID          NAME               PROJECT_NUMBER\n",
      "green-space-418001  My First Project   914905289554\n",
      "tk01-huynhhuuquoc   tk01-huynhhuuquoc  1044329989366\n"
     ]
    }
   ],
   "source": [
    "# List account and project id\n",
    "!gcloud auth list\n",
    "!gcloud projects list --sort-by=projectId"
   ]
  },
  {
   "cell_type": "code",
   "execution_count": 13,
   "metadata": {},
   "outputs": [
    {
     "name": "stdout",
     "output_type": "stream",
     "text": [
      "    Credentialed Accounts\n",
      "ACTIVE  ACCOUNT\n",
      "*       quoc7246329@gmail.com\n"
     ]
    },
    {
     "name": "stderr",
     "output_type": "stream",
     "text": [
      "\n",
      "To set the active account, run:\n",
      "    $ gcloud config set account `ACCOUNT`\n",
      "\n"
     ]
    }
   ],
   "source": [
    "!gcloud auth list"
   ]
  },
  {
   "cell_type": "code",
   "execution_count": 16,
   "metadata": {},
   "outputs": [
    {
     "name": "stdout",
     "output_type": "stream",
     "text": [
      "PROJECT_ID          NAME               PROJECT_NUMBER\n",
      "green-space-418001  My First Project   914905289554\n",
      "tk01-huynhhuuquoc   tk01-huynhhuuquoc  1044329989366\n"
     ]
    }
   ],
   "source": [
    "!gcloud projects list"
   ]
  },
  {
   "cell_type": "code",
   "execution_count": 22,
   "metadata": {},
   "outputs": [
    {
     "name": "stderr",
     "output_type": "stream",
     "text": [
      "Updated property [core/project].\n"
     ]
    }
   ],
   "source": [
    "# Set project id\n",
    "!gcloud config set project tk01-huynhhuuquoc"
   ]
  },
  {
   "cell_type": "code",
   "execution_count": 23,
   "metadata": {},
   "outputs": [],
   "source": [
    "# Create an storage client for impact\n",
    "from google.cloud import storage\n",
    "PROJECT_ID = 'tk01-huynhuuquoc'\n",
    "storage_client = storage.Client(project=PROJECT_ID)"
   ]
  },
  {
   "cell_type": "code",
   "execution_count": 25,
   "metadata": {},
   "outputs": [
    {
     "name": "stdout",
     "output_type": "stream",
     "text": [
      "Bucket thuvienphapluat_crawl đã được tạo thành công.\n"
     ]
    }
   ],
   "source": [
    "from google.cloud import storage\n",
    "\n",
    "# Khởi tạo storage client\n",
    "storage_client = storage.Client()\n",
    "\n",
    "# Tên của bucket mới\n",
    "BUCKET_NAME = \"thuvienphapluat_crawl\"\n",
    "\n",
    "# Tạo bucket\n",
    "bucket = storage_client.create_bucket(BUCKET_NAME)\n",
    "\n",
    "print(\"Bucket {} đã được tạo thành công.\".format(bucket.name))\n"
   ]
  },
  {
   "cell_type": "code",
   "execution_count": 26,
   "metadata": {},
   "outputs": [
    {
     "data": {
      "text/plain": [
       "<Bucket: thuvienphapluat_crawl>"
      ]
     },
     "execution_count": 26,
     "metadata": {},
     "output_type": "execute_result"
    }
   ],
   "source": [
    "# List all buckets\n",
    "bucket"
   ]
  },
  {
   "cell_type": "code",
   "execution_count": 35,
   "metadata": {},
   "outputs": [],
   "source": [
    "import datetime\n",
    "day = datetime.datetime.now().strftime(\"%d\")\n",
    "month = datetime.datetime.now().strftime(\"%m\")\n",
    "year = datetime.datetime.now().strftime(\"%Y\")\n",
    "GCS_BLOB_NAME = \"{year}/{month}/{date}/lawnet_phapluat.json\".format(year=year, month=month, date=day)\n",
    "blob = bucket.blob(GCS_BLOB_NAME)\n",
    "blob.upload_from_filename(\"lawnet_phapluat.json\")"
   ]
  },
  {
   "cell_type": "code",
   "execution_count": 36,
   "metadata": {},
   "outputs": [
    {
     "data": {
      "text/plain": [
       "True"
      ]
     },
     "execution_count": 36,
     "metadata": {},
     "output_type": "execute_result"
    }
   ],
   "source": [
    "# Check if the blob exists\n",
    "is_exist = blob.exists(storage_client)\n",
    "is_exist"
   ]
  },
  {
   "cell_type": "code",
   "execution_count": 37,
   "metadata": {},
   "outputs": [],
   "source": [
    "LOCAL_FILE_PATH = \"./download.json\"\n",
    "blob.download_to_filename(LOCAL_FILE_PATH)"
   ]
  },
  {
   "cell_type": "code",
   "execution_count": 38,
   "metadata": {},
   "outputs": [
    {
     "name": "stdout",
     "output_type": "stream",
     "text": [
      "Requirement already satisfied: pyarrow in c:\\python310\\lib\\site-packages (15.0.1)\n",
      "Requirement already satisfied: numpy<2,>=1.16.6 in c:\\python310\\lib\\site-packages (from pyarrow) (1.23.3)\n",
      "Requirement already satisfied: pandas in c:\\python310\\lib\\site-packages (1.4.4)\n",
      "Requirement already satisfied: python-dateutil>=2.8.1 in c:\\python310\\lib\\site-packages (from pandas) (2.8.2)\n",
      "Requirement already satisfied: pytz>=2020.1 in c:\\python310\\lib\\site-packages (from pandas) (2022.2.1)\n",
      "Requirement already satisfied: numpy>=1.21.0 in c:\\python310\\lib\\site-packages (from pandas) (1.23.3)\n",
      "Requirement already satisfied: six>=1.5 in c:\\python310\\lib\\site-packages (from python-dateutil>=2.8.1->pandas) (1.16.0)\n"
     ]
    }
   ],
   "source": [
    "# Install pyarrow\n",
    "!pip install pyarrow\n",
    "!pip install pandas"
   ]
  },
  {
   "cell_type": "code",
   "execution_count": 39,
   "metadata": {},
   "outputs": [],
   "source": [
    "# Import pyarrow\n",
    "import pandas as pd\n",
    "import pyarrow as pa\n",
    "import pyarrow.json as pj\n",
    "import pyarrow.parquet as pq"
   ]
  },
  {
   "cell_type": "code",
   "execution_count": 40,
   "metadata": {},
   "outputs": [
    {
     "data": {
      "text/plain": [
       "<Bucket: thuvienphapluat_crawl>"
      ]
     },
     "execution_count": 40,
     "metadata": {},
     "output_type": "execute_result"
    }
   ],
   "source": [
    "bucket"
   ]
  },
  {
   "cell_type": "code",
   "execution_count": 41,
   "metadata": {},
   "outputs": [
    {
     "data": {
      "text/html": [
       "<div>\n",
       "<style scoped>\n",
       "    .dataframe tbody tr th:only-of-type {\n",
       "        vertical-align: middle;\n",
       "    }\n",
       "\n",
       "    .dataframe tbody tr th {\n",
       "        vertical-align: top;\n",
       "    }\n",
       "\n",
       "    .dataframe thead th {\n",
       "        text-align: right;\n",
       "    }\n",
       "</style>\n",
       "<table border=\"1\" class=\"dataframe\">\n",
       "  <thead>\n",
       "    <tr style=\"text-align: right;\">\n",
       "      <th></th>\n",
       "      <th>Link</th>\n",
       "      <th>Lawname</th>\n",
       "      <th>Title</th>\n",
       "      <th>Question</th>\n",
       "      <th>Answer</th>\n",
       "    </tr>\n",
       "  </thead>\n",
       "  <tbody>\n",
       "    <tr>\n",
       "      <th>0</th>\n",
       "      <td>https://thuvienphapluat.vn/phap-luat/bang-doc-...</td>\n",
       "      <td>phapluat</td>\n",
       "      <td>Bằng độc quyền giải pháp hữu ích có hiệu lực b...</td>\n",
       "      <td>Bằng độc quyền giải pháp hữu ích là văn bằng b...</td>\n",
       "      <td>[Văn bằng bảo hộ, 1. Văn bằng bảo hộ ghi nhận ...</td>\n",
       "    </tr>\n",
       "    <tr>\n",
       "      <th>1</th>\n",
       "      <td>https://thuvienphapluat.vn/phap-luat/quyen-con...</td>\n",
       "      <td>phapluat</td>\n",
       "      <td>Quyền công bố tác phẩm là quyền nhân thân hay ...</td>\n",
       "      <td>Tôi có một câu hỏi liên quan đến quyền công bố...</td>\n",
       "      <td>[Quyền nhân thân, Quyền nhân thân bao gồm:, 1....</td>\n",
       "    </tr>\n",
       "    <tr>\n",
       "      <th>2</th>\n",
       "      <td>https://thuvienphapluat.vn/phap-luat/thoi-han-...</td>\n",
       "      <td>phapluat</td>\n",
       "      <td>Thời hạn bảo hộ quyền công bố tác phẩm văn học...</td>\n",
       "      <td>Tôi có một câu hỏi liên quan đến việc bảo hộ t...</td>\n",
       "      <td>[Các loại hình tác phẩm được bảo hộ quyền tác ...</td>\n",
       "    </tr>\n",
       "    <tr>\n",
       "      <th>3</th>\n",
       "      <td>https://thuvienphapluat.vn/phap-luat/giay-chun...</td>\n",
       "      <td>phapluat</td>\n",
       "      <td>Giấy chứng nhận đăng ký nhãn hiệu có hiệu lực ...</td>\n",
       "      <td>Giấy chứng nhận đăng ký nhãn hiệu có hiệu lực ...</td>\n",
       "      <td>[Văn bằng bảo hộ, 1. Văn bằng bảo hộ ghi nhận ...</td>\n",
       "    </tr>\n",
       "    <tr>\n",
       "      <th>4</th>\n",
       "      <td>https://thuvienphapluat.vn/phap-luat/cong-nghe...</td>\n",
       "      <td>phapluat</td>\n",
       "      <td>Công nghệ mới thuộc đối tượng được khuyến khíc...</td>\n",
       "      <td>Tôi có thắc mắc: Công nghệ mới thuộc đối tượng...</td>\n",
       "      <td>[Công nghệ khuyến khích chuyển giao, ..., 2. C...</td>\n",
       "    </tr>\n",
       "  </tbody>\n",
       "</table>\n",
       "</div>"
      ],
      "text/plain": [
       "                                                Link   Lawname  \\\n",
       "0  https://thuvienphapluat.vn/phap-luat/bang-doc-...  phapluat   \n",
       "1  https://thuvienphapluat.vn/phap-luat/quyen-con...  phapluat   \n",
       "2  https://thuvienphapluat.vn/phap-luat/thoi-han-...  phapluat   \n",
       "3  https://thuvienphapluat.vn/phap-luat/giay-chun...  phapluat   \n",
       "4  https://thuvienphapluat.vn/phap-luat/cong-nghe...  phapluat   \n",
       "\n",
       "                                               Title  \\\n",
       "0  Bằng độc quyền giải pháp hữu ích có hiệu lực b...   \n",
       "1  Quyền công bố tác phẩm là quyền nhân thân hay ...   \n",
       "2  Thời hạn bảo hộ quyền công bố tác phẩm văn học...   \n",
       "3  Giấy chứng nhận đăng ký nhãn hiệu có hiệu lực ...   \n",
       "4  Công nghệ mới thuộc đối tượng được khuyến khíc...   \n",
       "\n",
       "                                            Question  \\\n",
       "0  Bằng độc quyền giải pháp hữu ích là văn bằng b...   \n",
       "1  Tôi có một câu hỏi liên quan đến quyền công bố...   \n",
       "2  Tôi có một câu hỏi liên quan đến việc bảo hộ t...   \n",
       "3  Giấy chứng nhận đăng ký nhãn hiệu có hiệu lực ...   \n",
       "4  Tôi có thắc mắc: Công nghệ mới thuộc đối tượng...   \n",
       "\n",
       "                                              Answer  \n",
       "0  [Văn bằng bảo hộ, 1. Văn bằng bảo hộ ghi nhận ...  \n",
       "1  [Quyền nhân thân, Quyền nhân thân bao gồm:, 1....  \n",
       "2  [Các loại hình tác phẩm được bảo hộ quyền tác ...  \n",
       "3  [Văn bằng bảo hộ, 1. Văn bằng bảo hộ ghi nhận ...  \n",
       "4  [Công nghệ khuyến khích chuyển giao, ..., 2. C...  "
      ]
     },
     "execution_count": 41,
     "metadata": {},
     "output_type": "execute_result"
    }
   ],
   "source": [
    "# Read the file\n",
    "df = pd.read_json(LOCAL_FILE_PATH)\n",
    "df.head()"
   ]
  },
  {
   "cell_type": "code",
   "execution_count": 42,
   "metadata": {},
   "outputs": [],
   "source": [
    "# Convert DataFrame to Table\n",
    "table = pa.Table.from_pandas(df)"
   ]
  },
  {
   "cell_type": "code",
   "execution_count": 43,
   "metadata": {},
   "outputs": [],
   "source": [
    "# Write the table to a Parquet file\n",
    "pq.write_table(table, 'HuynhHuuQuoc_First.parquet', compression='snappy')"
   ]
  },
  {
   "cell_type": "code",
   "execution_count": 49,
   "metadata": {},
   "outputs": [],
   "source": [
    "# Upload the Parquet file to GCS\n",
    "GCS_BLOB_NAME = \"{year}/{month}/{date}/HuynhHuuQuoc_First.parquet\".format(year=year, month=month, date=day)\n",
    "blob = bucket.blob(GCS_BLOB_NAME)\n",
    "blob.upload_from_filename(\"HuynhHuuQuoc_First.parquet\")"
   ]
  },
  {
   "cell_type": "code",
   "execution_count": 51,
   "metadata": {},
   "outputs": [
    {
     "name": "stderr",
     "output_type": "stream",
     "text": [
      "Updated [https://www.googleapis.com/compute/v1/projects/tk01-huynhhuuquoc/regions/asia-east1/subnetworks/default].\n"
     ]
    }
   ],
   "source": [
    "!gcloud compute networks subnets update default --region=asia-east1 --enable-private-ip-google-access\n"
   ]
  }
 ],
 "metadata": {
  "kernelspec": {
   "display_name": "Python 3",
   "language": "python",
   "name": "python3"
  },
  "language_info": {
   "codemirror_mode": {
    "name": "ipython",
    "version": 3
   },
   "file_extension": ".py",
   "mimetype": "text/x-python",
   "name": "python",
   "nbconvert_exporter": "python",
   "pygments_lexer": "ipython3",
   "version": "3.10.6"
  }
 },
 "nbformat": 4,
 "nbformat_minor": 2
}

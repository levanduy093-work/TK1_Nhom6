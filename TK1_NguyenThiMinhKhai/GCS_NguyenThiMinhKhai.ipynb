{
 "cells": [
  {
   "cell_type": "code",
   "execution_count": 1,
   "metadata": {},
   "outputs": [
    {
     "name": "stdout",
     "output_type": "stream",
     "text": [
      "Collecting google-cloud-storage\n",
      "  Downloading google_cloud_storage-2.16.0-py2.py3-none-any.whl.metadata (6.1 kB)\n",
      "Requirement already satisfied: google-auth<3.0dev,>=2.26.1 in c:\\users\\lenovo\\appdata\\local\\programs\\python\\python312\\lib\\site-packages (from google-cloud-storage) (2.28.1)\n",
      "Collecting google-api-core<3.0.0dev,>=2.15.0 (from google-cloud-storage)\n",
      "  Downloading google_api_core-2.17.1-py3-none-any.whl.metadata (2.7 kB)\n",
      "Collecting google-cloud-core<3.0dev,>=2.3.0 (from google-cloud-storage)\n",
      "  Downloading google_cloud_core-2.4.1-py2.py3-none-any.whl.metadata (2.7 kB)\n",
      "Collecting google-resumable-media>=2.6.0 (from google-cloud-storage)\n",
      "  Downloading google_resumable_media-2.7.0-py2.py3-none-any.whl.metadata (2.2 kB)\n",
      "Requirement already satisfied: requests<3.0.0dev,>=2.18.0 in c:\\users\\lenovo\\appdata\\local\\programs\\python\\python312\\lib\\site-packages (from google-cloud-storage) (2.31.0)\n",
      "Collecting google-crc32c<2.0dev,>=1.0 (from google-cloud-storage)\n",
      "  Downloading google-crc32c-1.5.0.tar.gz (12 kB)\n",
      "  Installing build dependencies: started\n",
      "  Installing build dependencies: finished with status 'done'\n",
      "  Getting requirements to build wheel: started\n",
      "  Getting requirements to build wheel: finished with status 'done'\n",
      "  Preparing metadata (pyproject.toml): started\n",
      "  Preparing metadata (pyproject.toml): finished with status 'done'\n",
      "Collecting googleapis-common-protos<2.0.dev0,>=1.56.2 (from google-api-core<3.0.0dev,>=2.15.0->google-cloud-storage)\n",
      "  Downloading googleapis_common_protos-1.63.0-py2.py3-none-any.whl.metadata (1.5 kB)\n",
      "Collecting protobuf!=3.20.0,!=3.20.1,!=4.21.0,!=4.21.1,!=4.21.2,!=4.21.3,!=4.21.4,!=4.21.5,<5.0.0.dev0,>=3.19.5 (from google-api-core<3.0.0dev,>=2.15.0->google-cloud-storage)\n",
      "  Downloading protobuf-4.25.3-cp310-abi3-win_amd64.whl.metadata (541 bytes)\n",
      "Requirement already satisfied: cachetools<6.0,>=2.0.0 in c:\\users\\lenovo\\appdata\\local\\programs\\python\\python312\\lib\\site-packages (from google-auth<3.0dev,>=2.26.1->google-cloud-storage) (5.3.3)\n",
      "Requirement already satisfied: pyasn1-modules>=0.2.1 in c:\\users\\lenovo\\appdata\\local\\programs\\python\\python312\\lib\\site-packages (from google-auth<3.0dev,>=2.26.1->google-cloud-storage) (0.3.0)\n",
      "Requirement already satisfied: rsa<5,>=3.1.4 in c:\\users\\lenovo\\appdata\\local\\programs\\python\\python312\\lib\\site-packages (from google-auth<3.0dev,>=2.26.1->google-cloud-storage) (4.9)\n",
      "Requirement already satisfied: charset-normalizer<4,>=2 in c:\\users\\lenovo\\appdata\\local\\programs\\python\\python312\\lib\\site-packages (from requests<3.0.0dev,>=2.18.0->google-cloud-storage) (3.3.2)\n",
      "Requirement already satisfied: idna<4,>=2.5 in c:\\users\\lenovo\\appdata\\local\\programs\\python\\python312\\lib\\site-packages (from requests<3.0.0dev,>=2.18.0->google-cloud-storage) (3.6)\n",
      "Requirement already satisfied: urllib3<3,>=1.21.1 in c:\\users\\lenovo\\appdata\\local\\programs\\python\\python312\\lib\\site-packages (from requests<3.0.0dev,>=2.18.0->google-cloud-storage) (2.2.1)\n",
      "Requirement already satisfied: certifi>=2017.4.17 in c:\\users\\lenovo\\appdata\\local\\programs\\python\\python312\\lib\\site-packages (from requests<3.0.0dev,>=2.18.0->google-cloud-storage) (2024.2.2)\n",
      "Requirement already satisfied: pyasn1<0.6.0,>=0.4.6 in c:\\users\\lenovo\\appdata\\local\\programs\\python\\python312\\lib\\site-packages (from pyasn1-modules>=0.2.1->google-auth<3.0dev,>=2.26.1->google-cloud-storage) (0.5.1)\n",
      "Downloading google_cloud_storage-2.16.0-py2.py3-none-any.whl (125 kB)\n",
      "   ---------------------------------------- 0.0/125.6 kB ? eta -:--:--\n",
      "   --- ------------------------------------ 10.2/125.6 kB ? eta -:--:--\n",
      "   ----------------------------- ---------- 92.2/125.6 kB 1.3 MB/s eta 0:00:01\n",
      "   ---------------------------------------- 125.6/125.6 kB 1.8 MB/s eta 0:00:00\n",
      "Downloading google_api_core-2.17.1-py3-none-any.whl (137 kB)\n",
      "   ---------------------------------------- 0.0/137.0 kB ? eta -:--:--\n",
      "   -------------------------------- ------- 112.6/137.0 kB ? eta -:--:--\n",
      "   ---------------------------------------- 137.0/137.0 kB 2.7 MB/s eta 0:00:00\n",
      "Downloading google_cloud_core-2.4.1-py2.py3-none-any.whl (29 kB)\n",
      "Downloading google_resumable_media-2.7.0-py2.py3-none-any.whl (80 kB)\n",
      "   ---------------------------------------- 0.0/80.6 kB ? eta -:--:--\n",
      "   ---------------------------------------- 80.6/80.6 kB ? eta 0:00:00\n",
      "Downloading googleapis_common_protos-1.63.0-py2.py3-none-any.whl (229 kB)\n",
      "   ---------------------------------------- 0.0/229.1 kB ? eta -:--:--\n",
      "   ---------------------------------------- 229.1/229.1 kB 7.1 MB/s eta 0:00:00\n",
      "Downloading protobuf-4.25.3-cp310-abi3-win_amd64.whl (413 kB)\n",
      "   ---------------------------------------- 0.0/413.4 kB ? eta -:--:--\n",
      "   ---------------------------------------- 0.0/413.4 kB ? eta -:--:--\n",
      "   ----------------------------- ---------- 307.2/413.4 kB 9.6 MB/s eta 0:00:01\n",
      "   ---------------------------------------- 413.4/413.4 kB 6.5 MB/s eta 0:00:00\n",
      "Building wheels for collected packages: google-crc32c\n",
      "  Building wheel for google-crc32c (pyproject.toml): started\n",
      "  Building wheel for google-crc32c (pyproject.toml): finished with status 'done'\n",
      "  Created wheel for google-crc32c: filename=google_crc32c-1.5.0-py3-none-any.whl size=13046 sha256=403dc066e72594dc9b01a5474cbba2beb5c92a791e17a84a05c44373bd2e7094\n",
      "  Stored in directory: c:\\users\\lenovo\\appdata\\local\\pip\\cache\\wheels\\40\\b9\\2e\\089df51c5e6f7cda282c650457a1d9a7a55bf6386d8de8bf3d\n",
      "Successfully built google-crc32c\n",
      "Installing collected packages: protobuf, google-crc32c, googleapis-common-protos, google-resumable-media, google-api-core, google-cloud-core, google-cloud-storage\n",
      "Successfully installed google-api-core-2.17.1 google-cloud-core-2.4.1 google-cloud-storage-2.16.0 google-crc32c-1.5.0 google-resumable-media-2.7.0 googleapis-common-protos-1.63.0 protobuf-4.25.3\n"
     ]
    }
   ],
   "source": [
    "# Install the Google Cloud Storage library\n",
    "!pip install google-cloud-storage"
   ]
  },
  {
   "cell_type": "code",
   "execution_count": 2,
   "metadata": {},
   "outputs": [
    {
     "name": "stdout",
     "output_type": "stream",
     "text": [
      "Requirement already satisfied: google-cloud-storage in c:\\users\\lenovo\\appdata\\local\\programs\\python\\python312\\lib\\site-packages (2.16.0)\n",
      "Requirement already satisfied: google-auth<3.0dev,>=2.26.1 in c:\\users\\lenovo\\appdata\\local\\programs\\python\\python312\\lib\\site-packages (from google-cloud-storage) (2.28.1)\n",
      "Requirement already satisfied: google-api-core<3.0.0dev,>=2.15.0 in c:\\users\\lenovo\\appdata\\local\\programs\\python\\python312\\lib\\site-packages (from google-cloud-storage) (2.17.1)\n",
      "Requirement already satisfied: google-cloud-core<3.0dev,>=2.3.0 in c:\\users\\lenovo\\appdata\\local\\programs\\python\\python312\\lib\\site-packages (from google-cloud-storage) (2.4.1)\n",
      "Requirement already satisfied: google-resumable-media>=2.6.0 in c:\\users\\lenovo\\appdata\\local\\programs\\python\\python312\\lib\\site-packages (from google-cloud-storage) (2.7.0)\n",
      "Requirement already satisfied: requests<3.0.0dev,>=2.18.0 in c:\\users\\lenovo\\appdata\\local\\programs\\python\\python312\\lib\\site-packages (from google-cloud-storage) (2.31.0)\n",
      "Requirement already satisfied: google-crc32c<2.0dev,>=1.0 in c:\\users\\lenovo\\appdata\\local\\programs\\python\\python312\\lib\\site-packages (from google-cloud-storage) (1.5.0)\n",
      "Requirement already satisfied: googleapis-common-protos<2.0.dev0,>=1.56.2 in c:\\users\\lenovo\\appdata\\local\\programs\\python\\python312\\lib\\site-packages (from google-api-core<3.0.0dev,>=2.15.0->google-cloud-storage) (1.63.0)\n",
      "Requirement already satisfied: protobuf!=3.20.0,!=3.20.1,!=4.21.0,!=4.21.1,!=4.21.2,!=4.21.3,!=4.21.4,!=4.21.5,<5.0.0.dev0,>=3.19.5 in c:\\users\\lenovo\\appdata\\local\\programs\\python\\python312\\lib\\site-packages (from google-api-core<3.0.0dev,>=2.15.0->google-cloud-storage) (4.25.3)\n",
      "Requirement already satisfied: cachetools<6.0,>=2.0.0 in c:\\users\\lenovo\\appdata\\local\\programs\\python\\python312\\lib\\site-packages (from google-auth<3.0dev,>=2.26.1->google-cloud-storage) (5.3.3)\n",
      "Requirement already satisfied: pyasn1-modules>=0.2.1 in c:\\users\\lenovo\\appdata\\local\\programs\\python\\python312\\lib\\site-packages (from google-auth<3.0dev,>=2.26.1->google-cloud-storage) (0.3.0)\n",
      "Requirement already satisfied: rsa<5,>=3.1.4 in c:\\users\\lenovo\\appdata\\local\\programs\\python\\python312\\lib\\site-packages (from google-auth<3.0dev,>=2.26.1->google-cloud-storage) (4.9)\n",
      "Requirement already satisfied: charset-normalizer<4,>=2 in c:\\users\\lenovo\\appdata\\local\\programs\\python\\python312\\lib\\site-packages (from requests<3.0.0dev,>=2.18.0->google-cloud-storage) (3.3.2)\n",
      "Requirement already satisfied: idna<4,>=2.5 in c:\\users\\lenovo\\appdata\\local\\programs\\python\\python312\\lib\\site-packages (from requests<3.0.0dev,>=2.18.0->google-cloud-storage) (3.6)\n",
      "Requirement already satisfied: urllib3<3,>=1.21.1 in c:\\users\\lenovo\\appdata\\local\\programs\\python\\python312\\lib\\site-packages (from requests<3.0.0dev,>=2.18.0->google-cloud-storage) (2.2.1)\n",
      "Requirement already satisfied: certifi>=2017.4.17 in c:\\users\\lenovo\\appdata\\local\\programs\\python\\python312\\lib\\site-packages (from requests<3.0.0dev,>=2.18.0->google-cloud-storage) (2024.2.2)\n",
      "Requirement already satisfied: pyasn1<0.6.0,>=0.4.6 in c:\\users\\lenovo\\appdata\\local\\programs\\python\\python312\\lib\\site-packages (from pyasn1-modules>=0.2.1->google-auth<3.0dev,>=2.26.1->google-cloud-storage) (0.5.1)\n"
     ]
    }
   ],
   "source": [
    "# Upgrade the Google Cloud Storage library\n",
    "!pip install --upgrade google-cloud-storage"
   ]
  },
  {
   "cell_type": "code",
   "execution_count": 3,
   "metadata": {},
   "outputs": [
    {
     "name": "stderr",
     "output_type": "stream",
     "text": [
      "Your browser has been opened to visit:\n",
      "\n",
      "    https://accounts.google.com/o/oauth2/auth?response_type=code&client_id=764086051850-6qr4p6gpi6hn506pt8ejuq83di341hur.apps.googleusercontent.com&redirect_uri=http%3A%2F%2Flocalhost%3A8085%2F&scope=openid+https%3A%2F%2Fwww.googleapis.com%2Fauth%2Fuserinfo.email+https%3A%2F%2Fwww.googleapis.com%2Fauth%2Fcloud-platform+https%3A%2F%2Fwww.googleapis.com%2Fauth%2Fsqlservice.login&state=jAWQm03p9ewsSwQZ6P82P9loVBi95J&access_type=offline&code_challenge=V-QsUuyGd0D1--8k0DhQ-dIFzm4J6gMIXdQnlEKE6e0&code_challenge_method=S256\n",
      "\n",
      "\n",
      "Credentials saved to file: [C:\\Users\\LENOVO\\AppData\\Roaming\\gcloud\\application_default_credentials.json]\n",
      "\n",
      "These credentials will be used by any library that requests Application Default Credentials (ADC).\n",
      "WARNING: \n",
      "Cannot find a quota project to add to ADC. You might receive a \"quota exceeded\" or \"API not enabled\" error. Run $ gcloud auth application-default set-quota-project to add a quota project.\n"
     ]
    }
   ],
   "source": [
    "# Login to Google Cloud\n",
    "!gcloud auth application-default login"
   ]
  },
  {
   "cell_type": "code",
   "execution_count": 4,
   "metadata": {},
   "outputs": [
    {
     "name": "stderr",
     "output_type": "stream",
     "text": [
      "Your browser has been opened to visit:\n",
      "\n",
      "    https://accounts.google.com/o/oauth2/auth?response_type=code&client_id=32555940559.apps.googleusercontent.com&redirect_uri=http%3A%2F%2Flocalhost%3A8085%2F&scope=openid+https%3A%2F%2Fwww.googleapis.com%2Fauth%2Fuserinfo.email+https%3A%2F%2Fwww.googleapis.com%2Fauth%2Fcloud-platform+https%3A%2F%2Fwww.googleapis.com%2Fauth%2Fappengine.admin+https%3A%2F%2Fwww.googleapis.com%2Fauth%2Fsqlservice.login+https%3A%2F%2Fwww.googleapis.com%2Fauth%2Fcompute+https%3A%2F%2Fwww.googleapis.com%2Fauth%2Faccounts.reauth&state=5jK8gfg2hOD3Gd9CHAqADGcaNBek5k&access_type=offline&code_challenge=GciPL2JbSRBiqm1S5U5U4jJsjAxuoylnV3hkpDKjojk&code_challenge_method=S256\n",
      "\n",
      "\n",
      "You are now logged in as [ngyenkhai66@gmail.com].\n",
      "Your current project is [None].  You can change this setting by running:\n",
      "  $ gcloud config set project PROJECT_ID\n"
     ]
    }
   ],
   "source": [
    "# If you are using a service account, you can use the following command to login\n",
    "!gcloud auth login"
   ]
  },
  {
   "cell_type": "code",
   "execution_count": 5,
   "metadata": {},
   "outputs": [
    {
     "name": "stderr",
     "output_type": "stream",
     "text": [
      "ERROR: (gcloud.config.set) The required property [project] is not currently set.\n",
      "It can be set on a per-command basis by re-running your command with the [--project] flag.\n",
      "\n",
      "You may set it for your current workspace by running:\n",
      "\n",
      "  $ gcloud config set project VALUE\n",
      "\n",
      "or it can be set temporarily by the environment variable [CLOUDSDK_CORE_PROJECT]\n"
     ]
    }
   ],
   "source": [
    "# Update zone\n",
    "!gcloud config set compute/region asia-east1"
   ]
  },
  {
   "cell_type": "code",
   "execution_count": 6,
   "metadata": {},
   "outputs": [
    {
     "name": "stdout",
     "output_type": "stream",
     "text": [
      "    Credentialed Accounts\n",
      "ACTIVE  ACCOUNT\n",
      "*       ngyenkhai66@gmail.com\n"
     ]
    },
    {
     "name": "stderr",
     "output_type": "stream",
     "text": [
      "\n",
      "To set the active account, run:\n",
      "    $ gcloud config set account `ACCOUNT`\n",
      "\n"
     ]
    },
    {
     "name": "stdout",
     "output_type": "stream",
     "text": [
      "PROJECT_ID              NAME              PROJECT_NUMBER\n",
      "bright-calculus-415714  My First Project  895725746904\n",
      "demo01-minhkhai         demo01            439918595619\n",
      "eighth-density-415714   My First Project  424650274248\n",
      "phonic-raceway-415808   My First Project  377882253682\n",
      "rock-elevator-415714    My First Project  480392551476\n",
      "white-smile-415802      My First Project  663295760882\n"
     ]
    }
   ],
   "source": [
    "# List account and project id\n",
    "!gcloud auth list\n",
    "!gcloud projects list --sort-by=projectId"
   ]
  },
  {
   "cell_type": "code",
   "execution_count": 7,
   "metadata": {},
   "outputs": [
    {
     "name": "stderr",
     "output_type": "stream",
     "text": [
      "WARNING: Your active project does not match the quota project in your local Application Default Credentials file. This might result in unexpected quota issues.\n",
      "\n",
      "To update your Application Default Credentials quota project, use the `gcloud auth application-default set-quota-project` command.\n",
      "Updated property [core/project].\n"
     ]
    }
   ],
   "source": [
    "# Set project id\n",
    "!gcloud config set project demo01-minhkhai"
   ]
  },
  {
   "cell_type": "code",
   "execution_count": 8,
   "metadata": {},
   "outputs": [
    {
     "name": "stderr",
     "output_type": "stream",
     "text": [
      "c:\\Users\\LENOVO\\AppData\\Local\\Programs\\Python\\Python312\\Lib\\site-packages\\google\\auth\\_default.py:76: UserWarning: Your application has authenticated using end user credentials from Google Cloud SDK without a quota project. You might receive a \"quota exceeded\" or \"API not enabled\" error. See the following page for troubleshooting: https://cloud.google.com/docs/authentication/adc-troubleshooting/user-creds. \n",
      "  warnings.warn(_CLOUD_SDK_CREDENTIALS_WARNING)\n"
     ]
    }
   ],
   "source": [
    "# Create an storage client for impact\n",
    "from google.cloud import storage\n",
    "PROJECT_ID = 'demo01-minhkhai'\n",
    "storage_client = storage.Client(project=PROJECT_ID)"
   ]
  },
  {
   "cell_type": "code",
   "execution_count": 12,
   "metadata": {},
   "outputs": [],
   "source": [
    "# Create a bucket\n",
    "BUCKET_NAME = \"tk01-nguyenthiminhkhai\"\n",
    "bucket = storage_client.create_bucket(BUCKET_NAME)"
   ]
  },
  {
   "cell_type": "code",
   "execution_count": 13,
   "metadata": {},
   "outputs": [
    {
     "data": {
      "text/plain": [
       "<Bucket: tk01-nguyenthiminhkhai>"
      ]
     },
     "execution_count": 13,
     "metadata": {},
     "output_type": "execute_result"
    }
   ],
   "source": [
    "# List all buckets\n",
    "bucket"
   ]
  },
  {
   "cell_type": "code",
   "execution_count": 31,
   "metadata": {},
   "outputs": [],
   "source": [
    "import datetime\n",
    "day = datetime.datetime.now().strftime(\"%d\")\n",
    "month = datetime.datetime.now().strftime(\"%m\")\n",
    "year = datetime.datetime.now().strftime(\"%Y\")\n",
    "GCS_BLOB_NAME = \"{year}/{month}/{date}/nguyenthiminhkhai.json\".format(year=year, month=month, date=day)\n",
    "blob = bucket.blob(GCS_BLOB_NAME)\n",
    "blob.upload_from_filename(\"data.json\")"
   ]
  },
  {
   "cell_type": "code",
   "execution_count": 16,
   "metadata": {},
   "outputs": [
    {
     "data": {
      "text/plain": [
       "True"
      ]
     },
     "execution_count": 16,
     "metadata": {},
     "output_type": "execute_result"
    }
   ],
   "source": [
    "# Check if the blob exists\n",
    "is_exist = blob.exists(storage_client)\n",
    "is_exist"
   ]
  },
  {
   "cell_type": "code",
   "execution_count": 32,
   "metadata": {},
   "outputs": [],
   "source": [
    "LOCAL_FILE_PATH = \"./download.json\"\n",
    "blob.download_to_filename(LOCAL_FILE_PATH)"
   ]
  },
  {
   "cell_type": "code",
   "execution_count": 18,
   "metadata": {},
   "outputs": [
    {
     "name": "stdout",
     "output_type": "stream",
     "text": [
      "Collecting pyarrow\n",
      "  Downloading pyarrow-15.0.2-cp312-cp312-win_amd64.whl.metadata (3.1 kB)\n",
      "Collecting numpy<2,>=1.16.6 (from pyarrow)\n",
      "  Downloading numpy-1.26.4-cp312-cp312-win_amd64.whl.metadata (61 kB)\n",
      "     ---------------------------------------- 0.0/61.0 kB ? eta -:--:--\n",
      "     ------ --------------------------------- 10.2/61.0 kB ? eta -:--:--\n",
      "     ------ --------------------------------- 10.2/61.0 kB ? eta -:--:--\n",
      "     ------------------- ------------------ 30.7/61.0 kB 330.3 kB/s eta 0:00:01\n",
      "     -------------------------------------- 61.0/61.0 kB 406.4 kB/s eta 0:00:00\n",
      "Downloading pyarrow-15.0.2-cp312-cp312-win_amd64.whl (25.3 MB)\n",
      "   ---------------------------------------- 0.0/25.3 MB ? eta -:--:--\n",
      "   ---------------------------------------- 0.1/25.3 MB 2.0 MB/s eta 0:00:13\n",
      "   ---------------------------------------- 0.2/25.3 MB 2.9 MB/s eta 0:00:09\n",
      "    --------------------------------------- 0.6/25.3 MB 4.3 MB/s eta 0:00:06\n",
      "   - -------------------------------------- 1.1/25.3 MB 6.6 MB/s eta 0:00:04\n",
      "   --- ------------------------------------ 2.1/25.3 MB 9.5 MB/s eta 0:00:03\n",
      "   ---- ----------------------------------- 2.7/25.3 MB 10.3 MB/s eta 0:00:03\n",
      "   ------ --------------------------------- 3.9/25.3 MB 12.5 MB/s eta 0:00:02\n",
      "   ------- -------------------------------- 4.9/25.3 MB 13.6 MB/s eta 0:00:02\n",
      "   --------- ------------------------------ 6.1/25.3 MB 14.9 MB/s eta 0:00:02\n",
      "   ----------- ---------------------------- 7.4/25.3 MB 16.3 MB/s eta 0:00:02\n",
      "   ------------- -------------------------- 8.4/25.3 MB 16.8 MB/s eta 0:00:02\n",
      "   -------------- ------------------------- 8.9/25.3 MB 16.2 MB/s eta 0:00:02\n",
      "   -------------- ------------------------- 9.3/25.3 MB 16.0 MB/s eta 0:00:02\n",
      "   --------------- ------------------------ 9.7/25.3 MB 15.4 MB/s eta 0:00:02\n",
      "   --------------- ------------------------ 10.0/25.3 MB 14.9 MB/s eta 0:00:02\n",
      "   ----------------- ---------------------- 10.9/25.3 MB 17.7 MB/s eta 0:00:01\n",
      "   ------------------ --------------------- 11.7/25.3 MB 18.2 MB/s eta 0:00:01\n",
      "   -------------------- ------------------- 12.8/25.3 MB 18.7 MB/s eta 0:00:01\n",
      "   --------------------- ------------------ 13.9/25.3 MB 18.2 MB/s eta 0:00:01\n",
      "   ----------------------- ---------------- 15.1/25.3 MB 18.7 MB/s eta 0:00:01\n",
      "   ------------------------- -------------- 16.4/25.3 MB 18.7 MB/s eta 0:00:01\n",
      "   ---------------------------- ----------- 17.7/25.3 MB 18.7 MB/s eta 0:00:01\n",
      "   ----------------------------- ---------- 18.8/25.3 MB 19.3 MB/s eta 0:00:01\n",
      "   ------------------------------- -------- 19.8/25.3 MB 21.8 MB/s eta 0:00:01\n",
      "   -------------------------------- ------- 20.8/25.3 MB 23.4 MB/s eta 0:00:01\n",
      "   --------------------------------- ------ 21.5/25.3 MB 23.4 MB/s eta 0:00:01\n",
      "   ---------------------------------- ----- 22.0/25.3 MB 21.8 MB/s eta 0:00:01\n",
      "   ------------------------------------ --- 22.9/25.3 MB 21.9 MB/s eta 0:00:01\n",
      "   ------------------------------------- -- 23.9/25.3 MB 21.9 MB/s eta 0:00:01\n",
      "   ---------------------------------------  24.8/25.3 MB 21.8 MB/s eta 0:00:01\n",
      "   ---------------------------------------  25.3/25.3 MB 20.5 MB/s eta 0:00:01\n",
      "   ---------------------------------------  25.3/25.3 MB 20.5 MB/s eta 0:00:01\n",
      "   ---------------------------------------- 25.3/25.3 MB 17.7 MB/s eta 0:00:00\n",
      "Downloading numpy-1.26.4-cp312-cp312-win_amd64.whl (15.5 MB)\n",
      "   ---------------------------------------- 0.0/15.5 MB ? eta -:--:--\n",
      "   -- ------------------------------------- 1.0/15.5 MB 29.4 MB/s eta 0:00:01\n",
      "   ----- ---------------------------------- 2.0/15.5 MB 25.7 MB/s eta 0:00:01\n",
      "   ------- -------------------------------- 3.1/15.5 MB 24.3 MB/s eta 0:00:01\n",
      "   ---------- ----------------------------- 4.2/15.5 MB 24.5 MB/s eta 0:00:01\n",
      "   ------------ --------------------------- 4.7/15.5 MB 21.3 MB/s eta 0:00:01\n",
      "   -------------- ------------------------- 5.7/15.5 MB 21.2 MB/s eta 0:00:01\n",
      "   ----------------- ---------------------- 6.8/15.5 MB 21.6 MB/s eta 0:00:01\n",
      "   ------------------- -------------------- 7.7/15.5 MB 21.4 MB/s eta 0:00:01\n",
      "   ---------------------- ----------------- 8.7/15.5 MB 21.4 MB/s eta 0:00:01\n",
      "   ------------------------ --------------- 9.7/15.5 MB 21.3 MB/s eta 0:00:01\n",
      "   --------------------------- ------------ 10.7/15.5 MB 21.1 MB/s eta 0:00:01\n",
      "   ------------------------------ --------- 11.9/15.5 MB 21.1 MB/s eta 0:00:01\n",
      "   --------------------------------- ------ 13.0/15.5 MB 21.1 MB/s eta 0:00:01\n",
      "   ------------------------------------ --- 14.2/15.5 MB 21.9 MB/s eta 0:00:01\n",
      "   ---------------------------------------  15.2/15.5 MB 23.4 MB/s eta 0:00:01\n",
      "   ---------------------------------------  15.5/15.5 MB 23.4 MB/s eta 0:00:01\n",
      "   ---------------------------------------- 15.5/15.5 MB 21.1 MB/s eta 0:00:00\n",
      "Installing collected packages: numpy, pyarrow\n",
      "Successfully installed numpy-1.26.4 pyarrow-15.0.2\n",
      "Collecting pandas\n",
      "  Downloading pandas-2.2.1-cp312-cp312-win_amd64.whl.metadata (19 kB)\n",
      "Requirement already satisfied: numpy<2,>=1.26.0 in c:\\users\\lenovo\\appdata\\local\\programs\\python\\python312\\lib\\site-packages (from pandas) (1.26.4)\n",
      "Requirement already satisfied: python-dateutil>=2.8.2 in c:\\users\\lenovo\\appdata\\roaming\\python\\python312\\site-packages (from pandas) (2.8.2)\n",
      "Collecting pytz>=2020.1 (from pandas)\n",
      "  Downloading pytz-2024.1-py2.py3-none-any.whl.metadata (22 kB)\n",
      "Collecting tzdata>=2022.7 (from pandas)\n",
      "  Downloading tzdata-2024.1-py2.py3-none-any.whl.metadata (1.4 kB)\n",
      "Requirement already satisfied: six>=1.5 in c:\\users\\lenovo\\appdata\\roaming\\python\\python312\\site-packages (from python-dateutil>=2.8.2->pandas) (1.16.0)\n",
      "Downloading pandas-2.2.1-cp312-cp312-win_amd64.whl (11.5 MB)\n",
      "   ---------------------------------------- 0.0/11.5 MB ? eta -:--:--\n",
      "   ---------------------------------------- 0.0/11.5 MB 1.4 MB/s eta 0:00:09\n",
      "   ---------------------------------------- 0.1/11.5 MB 1.8 MB/s eta 0:00:07\n",
      "   - -------------------------------------- 0.3/11.5 MB 2.8 MB/s eta 0:00:04\n",
      "   -- ------------------------------------- 0.7/11.5 MB 4.1 MB/s eta 0:00:03\n",
      "   --- ------------------------------------ 1.0/11.5 MB 5.8 MB/s eta 0:00:02\n",
      "   ----- ---------------------------------- 1.7/11.5 MB 6.6 MB/s eta 0:00:02\n",
      "   ------- -------------------------------- 2.3/11.5 MB 7.6 MB/s eta 0:00:02\n",
      "   --------- ------------------------------ 2.8/11.5 MB 8.2 MB/s eta 0:00:02\n",
      "   ----------- ---------------------------- 3.3/11.5 MB 8.5 MB/s eta 0:00:01\n",
      "   ------------- -------------------------- 3.8/11.5 MB 8.7 MB/s eta 0:00:01\n",
      "   ---------------- ----------------------- 4.6/11.5 MB 9.5 MB/s eta 0:00:01\n",
      "   ------------------ --------------------- 5.3/11.5 MB 10.0 MB/s eta 0:00:01\n",
      "   -------------------- ------------------- 5.9/11.5 MB 10.2 MB/s eta 0:00:01\n",
      "   ---------------------- ----------------- 6.6/11.5 MB 10.5 MB/s eta 0:00:01\n",
      "   -------------------------- ------------- 7.6/11.5 MB 11.3 MB/s eta 0:00:01\n",
      "   ----------------------------- ---------- 8.4/11.5 MB 11.7 MB/s eta 0:00:01\n",
      "   --------------------------------- ------ 9.5/11.5 MB 12.4 MB/s eta 0:00:01\n",
      "   ---------------------------------- ----- 9.9/11.5 MB 12.4 MB/s eta 0:00:01\n",
      "   ------------------------------------- -- 10.9/11.5 MB 14.6 MB/s eta 0:00:01\n",
      "   ---------------------------------------  11.5/11.5 MB 16.0 MB/s eta 0:00:01\n",
      "   ---------------------------------------- 11.5/11.5 MB 15.2 MB/s eta 0:00:00\n",
      "Downloading pytz-2024.1-py2.py3-none-any.whl (505 kB)\n",
      "   ---------------------------------------- 0.0/505.5 kB ? eta -:--:--\n",
      "   --------------------------------------- 505.5/505.5 kB 16.0 MB/s eta 0:00:00\n",
      "Downloading tzdata-2024.1-py2.py3-none-any.whl (345 kB)\n",
      "   ---------------------------------------- 0.0/345.4 kB ? eta -:--:--\n",
      "   --------------------------------------- 345.4/345.4 kB 20.9 MB/s eta 0:00:00\n",
      "Installing collected packages: pytz, tzdata, pandas\n",
      "Successfully installed pandas-2.2.1 pytz-2024.1 tzdata-2024.1\n"
     ]
    }
   ],
   "source": [
    "# Install pyarrow\n",
    "!pip install pyarrow\n",
    "!pip install pandas"
   ]
  },
  {
   "cell_type": "code",
   "execution_count": 19,
   "metadata": {},
   "outputs": [],
   "source": [
    "# Import pyarrow\n",
    "import pandas as pd\n",
    "import pyarrow as pa\n",
    "import pyarrow.json as pj\n",
    "import pyarrow.parquet as pq"
   ]
  },
  {
   "cell_type": "code",
   "execution_count": 20,
   "metadata": {},
   "outputs": [
    {
     "data": {
      "text/plain": [
       "<Bucket: tk01-nguyenthiminhkhai>"
      ]
     },
     "execution_count": 20,
     "metadata": {},
     "output_type": "execute_result"
    }
   ],
   "source": [
    "bucket"
   ]
  },
  {
   "cell_type": "code",
   "execution_count": 37,
   "metadata": {},
   "outputs": [],
   "source": [
    "# Download the file from GCS    \n",
    "GCS_BLOB_NAME = \"2024/03/21/nguyenthiminhkhai.json\"\n",
    "blob = bucket.blob(GCS_BLOB_NAME)\n",
    "\n",
    "LOCAL_FILE_PATH = \"./nguyenthiminhkhai.json\"\n",
    "blob.download_to_filename(LOCAL_FILE_PATH)"
   ]
  },
  {
   "cell_type": "code",
   "execution_count": 38,
   "metadata": {},
   "outputs": [
    {
     "data": {
      "text/html": [
       "<div>\n",
       "<style scoped>\n",
       "    .dataframe tbody tr th:only-of-type {\n",
       "        vertical-align: middle;\n",
       "    }\n",
       "\n",
       "    .dataframe tbody tr th {\n",
       "        vertical-align: top;\n",
       "    }\n",
       "\n",
       "    .dataframe thead th {\n",
       "        text-align: right;\n",
       "    }\n",
       "</style>\n",
       "<table border=\"1\" class=\"dataframe\">\n",
       "  <thead>\n",
       "    <tr style=\"text-align: right;\">\n",
       "      <th></th>\n",
       "      <th>url</th>\n",
       "      <th>company</th>\n",
       "      <th>website</th>\n",
       "      <th>job_name</th>\n",
       "      <th>job_description</th>\n",
       "      <th>job_function</th>\n",
       "    </tr>\n",
       "  </thead>\n",
       "  <tbody>\n",
       "    <tr>\n",
       "      <th>0</th>\n",
       "      <td>https://www.timesjobs.com/job-detail/ios-swift...</td>\n",
       "      <td>AIS Technolabs PVT LTD</td>\n",
       "      <td>http://www.aistechnolabs.com</td>\n",
       "      <td>\\r\\n\\t  \\r\\n  IOS (Swift) Developer\\r\\n</td>\n",
       "      <td>[Designing and building mobile applications fo...</td>\n",
       "      <td>IT Software : Software Products &amp; Services</td>\n",
       "    </tr>\n",
       "    <tr>\n",
       "      <th>1</th>\n",
       "      <td>https://www.timesjobs.com/job-detail/senior-io...</td>\n",
       "      <td>Pyze Inc.</td>\n",
       "      <td>http://www.pyze.com</td>\n",
       "      <td>\\r\\n\\t  \\r\\n  Senior iOS Engineer\\r\\n</td>\n",
       "      <td>[]</td>\n",
       "      <td>IT Software : Software Products &amp; Services</td>\n",
       "    </tr>\n",
       "    <tr>\n",
       "      <th>2</th>\n",
       "      <td>https://www.timesjobs.com/job-detail/ios-devel...</td>\n",
       "      <td>destiny hr group services</td>\n",
       "      <td>http://www.destinyhrgroup.com</td>\n",
       "      <td>\\r\\n\\t  \\r\\n  IOS Developer\\r\\n</td>\n",
       "      <td>[Customer focused, adapts well in a fast-chang...</td>\n",
       "      <td>IT Software : Software Products &amp; Services</td>\n",
       "    </tr>\n",
       "    <tr>\n",
       "      <th>3</th>\n",
       "      <td>https://www.timesjobs.com/job-detail/ios-devel...</td>\n",
       "      <td>W3Softech India Private Limited</td>\n",
       "      <td>http://www.w3softech.com</td>\n",
       "      <td>\\r\\n\\t  \\r\\n  iOS Developer\\r\\n</td>\n",
       "      <td>[]</td>\n",
       "      <td>IT Software : Software Products &amp; Services</td>\n",
       "    </tr>\n",
       "    <tr>\n",
       "      <th>4</th>\n",
       "      <td>https://www.timesjobs.com/job-detail/app-devel...</td>\n",
       "      <td>ANTRORSE CORPORATION</td>\n",
       "      <td>http://www.antrorse.org</td>\n",
       "      <td>\\r\\n\\t  \\r\\n  App Developer\\r\\n</td>\n",
       "      <td>[]</td>\n",
       "      <td>IT Software : Software Products &amp; Services</td>\n",
       "    </tr>\n",
       "  </tbody>\n",
       "</table>\n",
       "</div>"
      ],
      "text/plain": [
       "                                                 url  \\\n",
       "0  https://www.timesjobs.com/job-detail/ios-swift...   \n",
       "1  https://www.timesjobs.com/job-detail/senior-io...   \n",
       "2  https://www.timesjobs.com/job-detail/ios-devel...   \n",
       "3  https://www.timesjobs.com/job-detail/ios-devel...   \n",
       "4  https://www.timesjobs.com/job-detail/app-devel...   \n",
       "\n",
       "                           company                        website  \\\n",
       "0           AIS Technolabs PVT LTD   http://www.aistechnolabs.com   \n",
       "1                        Pyze Inc.            http://www.pyze.com   \n",
       "2        destiny hr group services  http://www.destinyhrgroup.com   \n",
       "3  W3Softech India Private Limited       http://www.w3softech.com   \n",
       "4             ANTRORSE CORPORATION        http://www.antrorse.org   \n",
       "\n",
       "                                    job_name  \\\n",
       "0  \\r\\n\\t  \\r\\n  IOS (Swift) Developer\\r\\n     \n",
       "1    \\r\\n\\t  \\r\\n  Senior iOS Engineer\\r\\n     \n",
       "2          \\r\\n\\t  \\r\\n  IOS Developer\\r\\n     \n",
       "3          \\r\\n\\t  \\r\\n  iOS Developer\\r\\n     \n",
       "4          \\r\\n\\t  \\r\\n  App Developer\\r\\n     \n",
       "\n",
       "                                     job_description  \\\n",
       "0  [Designing and building mobile applications fo...   \n",
       "1                                                 []   \n",
       "2  [Customer focused, adapts well in a fast-chang...   \n",
       "3                                                 []   \n",
       "4                                                 []   \n",
       "\n",
       "                                 job_function  \n",
       "0  IT Software : Software Products & Services  \n",
       "1  IT Software : Software Products & Services  \n",
       "2  IT Software : Software Products & Services  \n",
       "3  IT Software : Software Products & Services  \n",
       "4  IT Software : Software Products & Services  "
      ]
     },
     "execution_count": 38,
     "metadata": {},
     "output_type": "execute_result"
    }
   ],
   "source": [
    "# Read the file\n",
    "df = pd.read_json(LOCAL_FILE_PATH)\n",
    "df.head()"
   ]
  },
  {
   "cell_type": "code",
   "execution_count": 39,
   "metadata": {},
   "outputs": [],
   "source": [
    "# Convert DataFrame to Table\n",
    "table = pa.Table.from_pandas(df)"
   ]
  },
  {
   "cell_type": "code",
   "execution_count": 40,
   "metadata": {},
   "outputs": [],
   "source": [
    "# Write the table to a Parquet file\n",
    "pq.write_table(table, 'nguyenthiminhkhai.parquet', compression='snappy')"
   ]
  },
  {
   "cell_type": "code",
   "execution_count": 41,
   "metadata": {},
   "outputs": [
    {
     "name": "stderr",
     "output_type": "stream",
     "text": [
      "'du' is not recognized as an internal or external command,\n",
      "operable program or batch file.\n"
     ]
    }
   ],
   "source": [
    "!du -h nguyenthiminhkhai.json nguyenthiminhkhai.parquet"
   ]
  },
  {
   "cell_type": "code",
   "execution_count": 42,
   "metadata": {},
   "outputs": [],
   "source": [
    "# Upload the Parquet file to GCS\n",
    "GCS_BLOB_NAME = \"{year}/{month}/{date}/nguyenthiminhkhai.parquet\".format(year=year, month=month, date=day)\n",
    "blob = bucket.blob(GCS_BLOB_NAME)\n",
    "blob.upload_from_filename(\"jobs.parquet\")"
   ]
  },
  {
   "cell_type": "code",
   "execution_count": null,
   "metadata": {},
   "outputs": [],
   "source": []
  }
 ],
 "metadata": {
  "kernelspec": {
   "display_name": "Python 3",
   "language": "python",
   "name": "python3"
  },
  "language_info": {
   "codemirror_mode": {
    "name": "ipython",
    "version": 3
   },
   "file_extension": ".py",
   "mimetype": "text/x-python",
   "name": "python",
   "nbconvert_exporter": "python",
   "pygments_lexer": "ipython3",
   "version": "3.12.2"
  }
 },
 "nbformat": 4,
 "nbformat_minor": 2
}

{
 "cells": [
  {
   "cell_type": "code",
   "execution_count": 1,
   "metadata": {},
   "outputs": [
    {
     "name": "stdout",
     "output_type": "stream",
     "text": [
      "\u001b[33mWARNING: Skipping /opt/homebrew/lib/python3.11/site-packages/certifi-2024.2.2.dist-info due to invalid metadata entry 'name'\u001b[0m\u001b[33m\n",
      "\u001b[0mRequirement already satisfied: google-cloud-storage in /opt/homebrew/lib/python3.11/site-packages (2.15.0)\n",
      "Requirement already satisfied: google-auth<3.0dev,>=2.26.1 in /opt/homebrew/lib/python3.11/site-packages (from google-cloud-storage) (2.28.1)\n",
      "Requirement already satisfied: google-api-core<3.0.0dev,>=2.15.0 in /opt/homebrew/lib/python3.11/site-packages (from google-cloud-storage) (2.17.1)\n",
      "Requirement already satisfied: google-cloud-core<3.0dev,>=2.3.0 in /opt/homebrew/lib/python3.11/site-packages (from google-cloud-storage) (2.4.1)\n",
      "Requirement already satisfied: google-resumable-media>=2.6.0 in /opt/homebrew/lib/python3.11/site-packages (from google-cloud-storage) (2.7.0)\n",
      "Requirement already satisfied: requests<3.0.0dev,>=2.18.0 in /opt/homebrew/lib/python3.11/site-packages (from google-cloud-storage) (2.31.0)\n",
      "Requirement already satisfied: google-crc32c<2.0dev,>=1.0 in /opt/homebrew/lib/python3.11/site-packages (from google-cloud-storage) (1.5.0)\n",
      "Requirement already satisfied: googleapis-common-protos<2.0.dev0,>=1.56.2 in /opt/homebrew/lib/python3.11/site-packages (from google-api-core<3.0.0dev,>=2.15.0->google-cloud-storage) (1.62.0)\n",
      "Requirement already satisfied: protobuf!=3.20.0,!=3.20.1,!=4.21.0,!=4.21.1,!=4.21.2,!=4.21.3,!=4.21.4,!=4.21.5,<5.0.0.dev0,>=3.19.5 in /opt/homebrew/lib/python3.11/site-packages (from google-api-core<3.0.0dev,>=2.15.0->google-cloud-storage) (4.25.3)\n",
      "Requirement already satisfied: cachetools<6.0,>=2.0.0 in /opt/homebrew/lib/python3.11/site-packages (from google-auth<3.0dev,>=2.26.1->google-cloud-storage) (5.3.3)\n",
      "Requirement already satisfied: pyasn1-modules>=0.2.1 in /opt/homebrew/lib/python3.11/site-packages (from google-auth<3.0dev,>=2.26.1->google-cloud-storage) (0.3.0)\n",
      "Requirement already satisfied: rsa<5,>=3.1.4 in /opt/homebrew/lib/python3.11/site-packages (from google-auth<3.0dev,>=2.26.1->google-cloud-storage) (4.9)\n",
      "Requirement already satisfied: charset-normalizer<4,>=2 in /opt/homebrew/lib/python3.11/site-packages (from requests<3.0.0dev,>=2.18.0->google-cloud-storage) (3.3.2)\n",
      "Requirement already satisfied: idna<4,>=2.5 in /opt/homebrew/lib/python3.11/site-packages (from requests<3.0.0dev,>=2.18.0->google-cloud-storage) (3.6)\n",
      "Requirement already satisfied: urllib3<3,>=1.21.1 in /opt/homebrew/lib/python3.11/site-packages (from requests<3.0.0dev,>=2.18.0->google-cloud-storage) (1.26.17)\n",
      "Requirement already satisfied: certifi>=2017.4.17 in /opt/homebrew/lib/python3.11/site-packages (from requests<3.0.0dev,>=2.18.0->google-cloud-storage) (2023.11.17)\n",
      "Requirement already satisfied: pyasn1<0.6.0,>=0.4.6 in /opt/homebrew/lib/python3.11/site-packages (from pyasn1-modules>=0.2.1->google-auth<3.0dev,>=2.26.1->google-cloud-storage) (0.5.1)\n",
      "\u001b[33mWARNING: Skipping /opt/homebrew/lib/python3.11/site-packages/certifi-2024.2.2.dist-info due to invalid metadata entry 'name'\u001b[0m\u001b[33m\n",
      "\u001b[0m"
     ]
    }
   ],
   "source": [
    "# Install the Google Cloud Storage library\n",
    "!pip install google-cloud-storage"
   ]
  },
  {
   "cell_type": "code",
   "execution_count": 2,
   "metadata": {},
   "outputs": [
    {
     "name": "stdout",
     "output_type": "stream",
     "text": [
      "/Users/levanduy/Library/Mobile Documents/com~apple~CloudDocs/Năm 2/Học kỳ 2/Nhập môn dữ liệu lớn/BT3_LeVanDuy/CrawlData_LeVanDuy/env/bin/pip: line 2: /Users/levanduy/Library/Mobile Documents/com~apple~CloudDocs/Năm 2/Học kỳ 2/Nhập môn dữ liệu lớn/Crawl Data/env/bin/python3.11: No such file or directory\n",
      "/Users/levanduy/Library/Mobile Documents/com~apple~CloudDocs/Năm 2/Học kỳ 2/Nhập môn dữ liệu lớn/BT3_LeVanDuy/CrawlData_LeVanDuy/env/bin/pip: line 2: exec: /Users/levanduy/Library/Mobile Documents/com~apple~CloudDocs/Năm 2/Học kỳ 2/Nhập môn dữ liệu lớn/Crawl Data/env/bin/python3.11: cannot execute: No such file or directory\n"
     ]
    }
   ],
   "source": [
    "# Upgrade the Google Cloud Storage library\n",
    "!pip install --upgrade google-cloud-storage"
   ]
  },
  {
   "cell_type": "code",
   "execution_count": 3,
   "metadata": {},
   "outputs": [
    {
     "name": "stdout",
     "output_type": "stream",
     "text": [
      "Your browser has been opened to visit:\n",
      "\n",
      "    https://accounts.google.com/o/oauth2/auth?response_type=code&client_id=764086051850-6qr4p6gpi6hn506pt8ejuq83di341hur.apps.googleusercontent.com&redirect_uri=http%3A%2F%2Flocalhost%3A8085%2F&scope=openid+https%3A%2F%2Fwww.googleapis.com%2Fauth%2Fuserinfo.email+https%3A%2F%2Fwww.googleapis.com%2Fauth%2Fcloud-platform+https%3A%2F%2Fwww.googleapis.com%2Fauth%2Fsqlservice.login&state=8TpDl08Lk6fEVt5QbigKIBK4CqFPVZ&access_type=offline&code_challenge=Gi6CfIUzRQTpfdVrlM-uezL8fpXu1AWwxM9lXhP0rLM&code_challenge_method=S256\n",
      "\n",
      "\n",
      "Credentials saved to file: [/Users/levanduy/.config/gcloud/application_default_credentials.json]\n",
      "\n",
      "These credentials will be used by any library that requests Application Default Credentials (ADC).\n",
      "\n",
      "Quota project \"tk01-levanduy\" was added to ADC which can be used by Google client libraries for billing and quota. Note that some services may still bill the project owning the resource.\n"
     ]
    }
   ],
   "source": [
    "# Login to Google Cloud\n",
    "!gcloud auth application-default login"
   ]
  },
  {
   "cell_type": "code",
   "execution_count": 4,
   "metadata": {},
   "outputs": [
    {
     "name": "stdout",
     "output_type": "stream",
     "text": [
      "Your browser has been opened to visit:\n",
      "\n",
      "    https://accounts.google.com/o/oauth2/auth?response_type=code&client_id=32555940559.apps.googleusercontent.com&redirect_uri=http%3A%2F%2Flocalhost%3A8085%2F&scope=openid+https%3A%2F%2Fwww.googleapis.com%2Fauth%2Fuserinfo.email+https%3A%2F%2Fwww.googleapis.com%2Fauth%2Fcloud-platform+https%3A%2F%2Fwww.googleapis.com%2Fauth%2Fappengine.admin+https%3A%2F%2Fwww.googleapis.com%2Fauth%2Fsqlservice.login+https%3A%2F%2Fwww.googleapis.com%2Fauth%2Fcompute+https%3A%2F%2Fwww.googleapis.com%2Fauth%2Faccounts.reauth&state=VDhU7z9migQhSQpKug00zJpOExmFeR&access_type=offline&code_challenge=k6Sm4LY0MDJHa9Paq8cY-LVRGUzeZObJPyT7EtEdl44&code_challenge_method=S256\n",
      "\n",
      "\n",
      "You are now logged in as [vtuong25.9@gmail.com].\n",
      "Your current project is [tk01-levanduy].  You can change this setting by running:\n",
      "  $ gcloud config set project PROJECT_ID\n"
     ]
    }
   ],
   "source": [
    "# If you are using a service account, you can use the following command to login\n",
    "!gcloud auth login"
   ]
  },
  {
   "cell_type": "code",
   "execution_count": 5,
   "metadata": {},
   "outputs": [
    {
     "name": "stdout",
     "output_type": "stream",
     "text": [
      "API [compute.googleapis.com] not enabled on project [tk01-levanduy]. Would you \n",
      "like to enable and retry (this will take a few minutes)? (y/N)?  ^C\n",
      "\n",
      "\n",
      "Command killed by keyboard interrupt\n",
      "\n"
     ]
    }
   ],
   "source": [
    "# Update zone\n",
    "!gcloud config set compute/region asia-east1"
   ]
  },
  {
   "cell_type": "code",
   "execution_count": 2,
   "metadata": {},
   "outputs": [
    {
     "name": "stdout",
     "output_type": "stream",
     "text": [
      "    Credentialed Accounts\n",
      "ACTIVE  ACCOUNT\n",
      "        levanduy093@gmail.com\n",
      "*       vtuong25.9@gmail.com\n",
      "\n",
      "To set the active account, run:\n",
      "    $ gcloud config set account `ACCOUNT`\n",
      "\n",
      "PROJECT_ID              NAME              PROJECT_NUMBER\n",
      "demo01-416408           Demo01            736408531525\n",
      "peerless-return-416315  My First Project  479299803412\n",
      "silver-script-416315    My First Project  212392388311\n",
      "tk01-levanduy           TK01-LeVanDuy     1087144194544\n"
     ]
    }
   ],
   "source": [
    "# List account and project id\n",
    "!gcloud auth list\n",
    "!gcloud projects list --sort-by=projectId"
   ]
  },
  {
   "cell_type": "code",
   "execution_count": 3,
   "metadata": {},
   "outputs": [
    {
     "name": "stdout",
     "output_type": "stream",
     "text": [
      "Updated property [core/project].\n"
     ]
    }
   ],
   "source": [
    "# Set project id\n",
    "!gcloud config set project tk01-levanduy "
   ]
  },
  {
   "cell_type": "code",
   "execution_count": 4,
   "metadata": {},
   "outputs": [],
   "source": [
    "# Create an storage client for impact\n",
    "from google.cloud import storage\n",
    "PROJECT_ID = 'tk01-levanduy'\n",
    "storage_client = storage.Client(project=PROJECT_ID)"
   ]
  },
  {
   "cell_type": "code",
   "execution_count": 5,
   "metadata": {},
   "outputs": [],
   "source": [
    "# Create a bucket\n",
    "BUCKET_NAME = \"course_crawl\"\n",
    "bucket = storage_client.create_bucket(BUCKET_NAME)"
   ]
  },
  {
   "cell_type": "code",
   "execution_count": 6,
   "metadata": {},
   "outputs": [
    {
     "data": {
      "text/plain": [
       "<Bucket: course_crawl>"
      ]
     },
     "execution_count": 6,
     "metadata": {},
     "output_type": "execute_result"
    }
   ],
   "source": [
    "# List all buckets\n",
    "bucket"
   ]
  },
  {
   "cell_type": "code",
   "execution_count": 7,
   "metadata": {},
   "outputs": [],
   "source": [
    "import datetime\n",
    "day = datetime.datetime.now().strftime(\"%d\")\n",
    "month = datetime.datetime.now().strftime(\"%m\")\n",
    "year = datetime.datetime.now().strftime(\"%Y\")\n",
    "GCS_BLOB_NAME = \"{year}/{month}/{date}/LeVanDuy.json\".format(year=year, month=month, date=day)\n",
    "blob = bucket.blob(GCS_BLOB_NAME)\n",
    "blob.upload_from_filename(\"LeVanDuy.json\")"
   ]
  },
  {
   "cell_type": "code",
   "execution_count": 8,
   "metadata": {},
   "outputs": [
    {
     "data": {
      "text/plain": [
       "True"
      ]
     },
     "execution_count": 8,
     "metadata": {},
     "output_type": "execute_result"
    }
   ],
   "source": [
    "# Check if the blob exists\n",
    "is_exist = blob.exists(storage_client)\n",
    "is_exist"
   ]
  },
  {
   "cell_type": "code",
   "execution_count": 19,
   "metadata": {},
   "outputs": [],
   "source": [
    "LOCAL_FILE_PATH = \"./download.json\"\n",
    "blob.download_to_filename(LOCAL_FILE_PATH)"
   ]
  },
  {
   "cell_type": "code",
   "execution_count": 20,
   "metadata": {},
   "outputs": [
    {
     "name": "stdout",
     "output_type": "stream",
     "text": [
      "\u001b[33mWARNING: Skipping /opt/homebrew/lib/python3.11/site-packages/certifi-2024.2.2.dist-info due to invalid metadata entry 'name'\u001b[0m\u001b[33m\n",
      "\u001b[0mRequirement already satisfied: pyarrow in /opt/homebrew/lib/python3.11/site-packages (15.0.0)\n",
      "Requirement already satisfied: numpy<2,>=1.16.6 in /opt/homebrew/lib/python3.11/site-packages (from pyarrow) (1.26.0)\n",
      "\u001b[33mWARNING: Skipping /opt/homebrew/lib/python3.11/site-packages/certifi-2024.2.2.dist-info due to invalid metadata entry 'name'\u001b[0m\u001b[33m\n",
      "\u001b[0m\u001b[33mWARNING: Skipping /opt/homebrew/lib/python3.11/site-packages/certifi-2024.2.2.dist-info due to invalid metadata entry 'name'\u001b[0m\u001b[33m\n",
      "\u001b[0mRequirement already satisfied: pandas in /opt/homebrew/lib/python3.11/site-packages (2.0.0)\n",
      "Requirement already satisfied: python-dateutil>=2.8.2 in /Users/levanduy/Library/Python/3.11/lib/python/site-packages (from pandas) (2.8.2)\n",
      "Requirement already satisfied: pytz>=2020.1 in /opt/homebrew/lib/python3.11/site-packages (from pandas) (2023.3.post1)\n",
      "Requirement already satisfied: tzdata>=2022.1 in /opt/homebrew/lib/python3.11/site-packages (from pandas) (2023.3)\n",
      "Requirement already satisfied: numpy>=1.21.0 in /opt/homebrew/lib/python3.11/site-packages (from pandas) (1.26.0)\n",
      "Requirement already satisfied: six>=1.5 in /Users/levanduy/Library/Python/3.11/lib/python/site-packages (from python-dateutil>=2.8.2->pandas) (1.16.0)\n",
      "\u001b[33mWARNING: Skipping /opt/homebrew/lib/python3.11/site-packages/certifi-2024.2.2.dist-info due to invalid metadata entry 'name'\u001b[0m\u001b[33m\n",
      "\u001b[0m"
     ]
    }
   ],
   "source": [
    "# Install pyarrow\n",
    "!pip install pyarrow\n",
    "!pip install pandas"
   ]
  },
  {
   "cell_type": "code",
   "execution_count": 21,
   "metadata": {},
   "outputs": [],
   "source": [
    "# Import pyarrow\n",
    "import pandas as pd\n",
    "import pyarrow as pa\n",
    "import pyarrow.json as pj\n",
    "import pyarrow.parquet as pq"
   ]
  },
  {
   "cell_type": "code",
   "execution_count": 22,
   "metadata": {},
   "outputs": [
    {
     "data": {
      "text/plain": [
       "<Bucket: course_crawl>"
      ]
     },
     "execution_count": 22,
     "metadata": {},
     "output_type": "execute_result"
    }
   ],
   "source": [
    "bucket"
   ]
  },
  {
   "cell_type": "code",
   "execution_count": 23,
   "metadata": {},
   "outputs": [
    {
     "data": {
      "text/html": [
       "<div>\n",
       "<style scoped>\n",
       "    .dataframe tbody tr th:only-of-type {\n",
       "        vertical-align: middle;\n",
       "    }\n",
       "\n",
       "    .dataframe tbody tr th {\n",
       "        vertical-align: top;\n",
       "    }\n",
       "\n",
       "    .dataframe thead th {\n",
       "        text-align: right;\n",
       "    }\n",
       "</style>\n",
       "<table border=\"1\" class=\"dataframe\">\n",
       "  <thead>\n",
       "    <tr style=\"text-align: right;\">\n",
       "      <th></th>\n",
       "      <th>url</th>\n",
       "      <th>name</th>\n",
       "      <th>language</th>\n",
       "      <th>description</th>\n",
       "      <th>instructors</th>\n",
       "      <th>learns</th>\n",
       "      <th>level</th>\n",
       "      <th>time</th>\n",
       "    </tr>\n",
       "  </thead>\n",
       "  <tbody>\n",
       "    <tr>\n",
       "      <th>0</th>\n",
       "      <td>https://www.coursera.org/professional-certific...</td>\n",
       "      <td>Google Cybersecurity Professional Certificate</td>\n",
       "      <td>Taught in English</td>\n",
       "      <td>This is your path to a career in cybersecurity...</td>\n",
       "      <td>Google Career Certificates</td>\n",
       "      <td>[Understand the importance of cybersecurity pr...</td>\n",
       "      <td>Beginner level</td>\n",
       "      <td>6 months at 7 hours a week</td>\n",
       "    </tr>\n",
       "    <tr>\n",
       "      <th>1</th>\n",
       "      <td>https://www.coursera.org/professional-certific...</td>\n",
       "      <td>Preparing for Google Cloud Certification: Clou...</td>\n",
       "      <td>Taught in English</td>\n",
       "      <td>Advance your career in cloud architecture.</td>\n",
       "      <td>Google Cloud Training</td>\n",
       "      <td>[Learn the skills needed to be successful in a...</td>\n",
       "      <td>Intermediate level</td>\n",
       "      <td>1 month at 10 hours a week</td>\n",
       "    </tr>\n",
       "    <tr>\n",
       "      <th>2</th>\n",
       "      <td>https://www.coursera.org/professional-certific...</td>\n",
       "      <td>Preparing for Google Cloud Certification: Clou...</td>\n",
       "      <td>Taught in English</td>\n",
       "      <td>Advance your career as a Cloud Security Engineer</td>\n",
       "      <td>Google Cloud Training</td>\n",
       "      <td>[Learn the skills needed to be successful in a...</td>\n",
       "      <td>Intermediate level</td>\n",
       "      <td>1 month at 10 hours a week</td>\n",
       "    </tr>\n",
       "    <tr>\n",
       "      <th>3</th>\n",
       "      <td>https://www.coursera.org/professional-certific...</td>\n",
       "      <td>Preparing for Google Cloud Certification: Clou...</td>\n",
       "      <td>Taught in English</td>\n",
       "      <td>Advance your career as a Cloud Networking Engi...</td>\n",
       "      <td>Google Cloud Training</td>\n",
       "      <td>[Learn the skills needed to be successful in a...</td>\n",
       "      <td>Intermediate level</td>\n",
       "      <td>1 month at 10 hours a week</td>\n",
       "    </tr>\n",
       "    <tr>\n",
       "      <th>4</th>\n",
       "      <td>https://www.coursera.org/professional-certific...</td>\n",
       "      <td>Preparing for Google Cloud Certification: Clou...</td>\n",
       "      <td>Taught in English</td>\n",
       "      <td>Advance your career as an SRE &amp; DevOps Engineer</td>\n",
       "      <td>Google Cloud Training</td>\n",
       "      <td>[Learn the skills needed to be successful in a...</td>\n",
       "      <td>Beginner level</td>\n",
       "      <td>1 month at 10 hours a week</td>\n",
       "    </tr>\n",
       "  </tbody>\n",
       "</table>\n",
       "</div>"
      ],
      "text/plain": [
       "                                                 url   \n",
       "0  https://www.coursera.org/professional-certific...  \\\n",
       "1  https://www.coursera.org/professional-certific...   \n",
       "2  https://www.coursera.org/professional-certific...   \n",
       "3  https://www.coursera.org/professional-certific...   \n",
       "4  https://www.coursera.org/professional-certific...   \n",
       "\n",
       "                                                name           language   \n",
       "0      Google Cybersecurity Professional Certificate  Taught in English  \\\n",
       "1  Preparing for Google Cloud Certification: Clou...  Taught in English   \n",
       "2  Preparing for Google Cloud Certification: Clou...  Taught in English   \n",
       "3  Preparing for Google Cloud Certification: Clou...  Taught in English   \n",
       "4  Preparing for Google Cloud Certification: Clou...  Taught in English   \n",
       "\n",
       "                                         description   \n",
       "0  This is your path to a career in cybersecurity...  \\\n",
       "1        Advance your career in cloud architecture.    \n",
       "2   Advance your career as a Cloud Security Engineer   \n",
       "3  Advance your career as a Cloud Networking Engi...   \n",
       "4    Advance your career as an SRE & DevOps Engineer   \n",
       "\n",
       "                  instructors   \n",
       "0  Google Career Certificates  \\\n",
       "1       Google Cloud Training   \n",
       "2       Google Cloud Training   \n",
       "3       Google Cloud Training   \n",
       "4       Google Cloud Training   \n",
       "\n",
       "                                              learns               level   \n",
       "0  [Understand the importance of cybersecurity pr...      Beginner level  \\\n",
       "1  [Learn the skills needed to be successful in a...  Intermediate level   \n",
       "2  [Learn the skills needed to be successful in a...  Intermediate level   \n",
       "3  [Learn the skills needed to be successful in a...  Intermediate level   \n",
       "4  [Learn the skills needed to be successful in a...      Beginner level   \n",
       "\n",
       "                         time  \n",
       "0  6 months at 7 hours a week  \n",
       "1  1 month at 10 hours a week  \n",
       "2  1 month at 10 hours a week  \n",
       "3  1 month at 10 hours a week  \n",
       "4  1 month at 10 hours a week  "
      ]
     },
     "execution_count": 23,
     "metadata": {},
     "output_type": "execute_result"
    }
   ],
   "source": [
    "# Read the file\n",
    "df = pd.read_json(LOCAL_FILE_PATH)\n",
    "df.head()"
   ]
  },
  {
   "cell_type": "code",
   "execution_count": 30,
   "metadata": {},
   "outputs": [],
   "source": [
    "# Convert DataFrame to Table\n",
    "table = pa.Table.from_pandas(df)"
   ]
  },
  {
   "cell_type": "code",
   "execution_count": 31,
   "metadata": {},
   "outputs": [],
   "source": [
    "# Write the table to a Parquet file\n",
    "pq.write_table(table, 'LeVanDuy_First.parquet', compression='snappy')"
   ]
  },
  {
   "cell_type": "code",
   "execution_count": 32,
   "metadata": {},
   "outputs": [
    {
     "name": "stdout",
     "output_type": "stream",
     "text": [
      " 32K\tdownload.json\n",
      " 20K\tLeVanDuy_First.parquet\n"
     ]
    }
   ],
   "source": [
    "!du -h download.json LeVanDuy_First.parquet"
   ]
  },
  {
   "cell_type": "code",
   "execution_count": 34,
   "metadata": {},
   "outputs": [],
   "source": [
    "# Upload the Parquet file to GCS\n",
    "GCS_BLOB_NAME = \"{year}/{month}/{date}/LeVanDuy_First.parquet\".format(year=year, month=month, date=day)\n",
    "blob = bucket.blob(GCS_BLOB_NAME)\n",
    "blob.upload_from_filename(\"LeVanDuy_First.parquet\")"
   ]
  },
  {
   "cell_type": "code",
   "execution_count": null,
   "metadata": {},
   "outputs": [],
   "source": []
  }
 ],
 "metadata": {
  "kernelspec": {
   "display_name": "Python 3",
   "language": "python",
   "name": "python3"
  },
  "language_info": {
   "codemirror_mode": {
    "name": "ipython",
    "version": 3
   },
   "file_extension": ".py",
   "mimetype": "text/x-python",
   "name": "python",
   "nbconvert_exporter": "python",
   "pygments_lexer": "ipython3",
   "version": "3.11.7"
  }
 },
 "nbformat": 4,
 "nbformat_minor": 2
}
